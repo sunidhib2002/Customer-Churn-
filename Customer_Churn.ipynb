{
  "nbformat": 4,
  "nbformat_minor": 0,
  "metadata": {
    "colab": {
      "provenance": [],
      "include_colab_link": true
    },
    "kernelspec": {
      "name": "python3",
      "display_name": "Python 3"
    },
    "language_info": {
      "name": "python"
    }
  },
  "cells": [
    {
      "cell_type": "markdown",
      "metadata": {
        "id": "view-in-github",
        "colab_type": "text"
      },
      "source": [
        "<a href=\"https://colab.research.google.com/github/sunidhib2002/Customer-Churn-/blob/main/Customer_Churn.ipynb\" target=\"_parent\"><img src=\"https://colab.research.google.com/assets/colab-badge.svg\" alt=\"Open In Colab\"/></a>"
      ]
    },
    {
      "cell_type": "code",
      "execution_count": 1,
      "metadata": {
        "id": "VlvZY6qA6aqf"
      },
      "outputs": [],
      "source": [
        "import pandas as pd\n",
        "import numpy as np\n",
        "import matplotlib.pyplot as plt\n",
        "import seaborn as sns"
      ]
    },
    {
      "cell_type": "code",
      "source": [
        "path = '/content/E Commerce Dataset.csv'"
      ],
      "metadata": {
        "id": "gspmgp6D6hRA"
      },
      "execution_count": 2,
      "outputs": []
    },
    {
      "cell_type": "code",
      "source": [
        "data = pd.read_csv(path)"
      ],
      "metadata": {
        "id": "pz9086KY6l9L"
      },
      "execution_count": 3,
      "outputs": []
    },
    {
      "cell_type": "code",
      "source": [
        "data.head()"
      ],
      "metadata": {
        "colab": {
          "base_uri": "https://localhost:8080/",
          "height": 305
        },
        "id": "Ec1ge54g6qBB",
        "outputId": "abe78d22-5f4a-49bc-f8c4-8bed38164cc1"
      },
      "execution_count": 4,
      "outputs": [
        {
          "output_type": "execute_result",
          "data": {
            "text/plain": [
              "   CustomerID  Churn  Tenure PreferredLoginDevice  CityTier  WarehouseToHome  \\\n",
              "0       50001      1     4.0         Mobile Phone         3              6.0   \n",
              "1       50002      1     NaN                Phone         1              8.0   \n",
              "2       50003      1     NaN                Phone         1             30.0   \n",
              "3       50004      1     0.0                Phone         3             15.0   \n",
              "4       50005      1     0.0                Phone         1             12.0   \n",
              "\n",
              "  PreferredPaymentMode  Gender  HourSpendOnApp  NumberOfDeviceRegistered  \\\n",
              "0           Debit Card  Female             3.0                         3   \n",
              "1                  UPI    Male             3.0                         4   \n",
              "2           Debit Card    Male             2.0                         4   \n",
              "3           Debit Card    Male             2.0                         4   \n",
              "4                   CC    Male             NaN                         3   \n",
              "\n",
              "     PreferedOrderCat  SatisfactionScore MaritalStatus  NumberOfAddress  \\\n",
              "0  Laptop & Accessory                  2        Single                9   \n",
              "1              Mobile                  3        Single                7   \n",
              "2              Mobile                  3        Single                6   \n",
              "3  Laptop & Accessory                  5        Single                8   \n",
              "4              Mobile                  5        Single                3   \n",
              "\n",
              "   Complain  OrderAmountHikeFromlastYear  CouponUsed  OrderCount  \\\n",
              "0         1                         11.0         1.0         1.0   \n",
              "1         1                         15.0         0.0         1.0   \n",
              "2         1                         14.0         0.0         1.0   \n",
              "3         0                         23.0         0.0         1.0   \n",
              "4         0                         11.0         1.0         1.0   \n",
              "\n",
              "   DaySinceLastOrder  CashbackAmount  \n",
              "0                5.0             160  \n",
              "1                0.0             121  \n",
              "2                3.0             120  \n",
              "3                3.0             134  \n",
              "4                3.0             130  "
            ],
            "text/html": [
              "\n",
              "  <div id=\"df-bbaf540e-9bd7-4abc-be26-994374df08b7\">\n",
              "    <div class=\"colab-df-container\">\n",
              "      <div>\n",
              "<style scoped>\n",
              "    .dataframe tbody tr th:only-of-type {\n",
              "        vertical-align: middle;\n",
              "    }\n",
              "\n",
              "    .dataframe tbody tr th {\n",
              "        vertical-align: top;\n",
              "    }\n",
              "\n",
              "    .dataframe thead th {\n",
              "        text-align: right;\n",
              "    }\n",
              "</style>\n",
              "<table border=\"1\" class=\"dataframe\">\n",
              "  <thead>\n",
              "    <tr style=\"text-align: right;\">\n",
              "      <th></th>\n",
              "      <th>CustomerID</th>\n",
              "      <th>Churn</th>\n",
              "      <th>Tenure</th>\n",
              "      <th>PreferredLoginDevice</th>\n",
              "      <th>CityTier</th>\n",
              "      <th>WarehouseToHome</th>\n",
              "      <th>PreferredPaymentMode</th>\n",
              "      <th>Gender</th>\n",
              "      <th>HourSpendOnApp</th>\n",
              "      <th>NumberOfDeviceRegistered</th>\n",
              "      <th>PreferedOrderCat</th>\n",
              "      <th>SatisfactionScore</th>\n",
              "      <th>MaritalStatus</th>\n",
              "      <th>NumberOfAddress</th>\n",
              "      <th>Complain</th>\n",
              "      <th>OrderAmountHikeFromlastYear</th>\n",
              "      <th>CouponUsed</th>\n",
              "      <th>OrderCount</th>\n",
              "      <th>DaySinceLastOrder</th>\n",
              "      <th>CashbackAmount</th>\n",
              "    </tr>\n",
              "  </thead>\n",
              "  <tbody>\n",
              "    <tr>\n",
              "      <th>0</th>\n",
              "      <td>50001</td>\n",
              "      <td>1</td>\n",
              "      <td>4.0</td>\n",
              "      <td>Mobile Phone</td>\n",
              "      <td>3</td>\n",
              "      <td>6.0</td>\n",
              "      <td>Debit Card</td>\n",
              "      <td>Female</td>\n",
              "      <td>3.0</td>\n",
              "      <td>3</td>\n",
              "      <td>Laptop &amp; Accessory</td>\n",
              "      <td>2</td>\n",
              "      <td>Single</td>\n",
              "      <td>9</td>\n",
              "      <td>1</td>\n",
              "      <td>11.0</td>\n",
              "      <td>1.0</td>\n",
              "      <td>1.0</td>\n",
              "      <td>5.0</td>\n",
              "      <td>160</td>\n",
              "    </tr>\n",
              "    <tr>\n",
              "      <th>1</th>\n",
              "      <td>50002</td>\n",
              "      <td>1</td>\n",
              "      <td>NaN</td>\n",
              "      <td>Phone</td>\n",
              "      <td>1</td>\n",
              "      <td>8.0</td>\n",
              "      <td>UPI</td>\n",
              "      <td>Male</td>\n",
              "      <td>3.0</td>\n",
              "      <td>4</td>\n",
              "      <td>Mobile</td>\n",
              "      <td>3</td>\n",
              "      <td>Single</td>\n",
              "      <td>7</td>\n",
              "      <td>1</td>\n",
              "      <td>15.0</td>\n",
              "      <td>0.0</td>\n",
              "      <td>1.0</td>\n",
              "      <td>0.0</td>\n",
              "      <td>121</td>\n",
              "    </tr>\n",
              "    <tr>\n",
              "      <th>2</th>\n",
              "      <td>50003</td>\n",
              "      <td>1</td>\n",
              "      <td>NaN</td>\n",
              "      <td>Phone</td>\n",
              "      <td>1</td>\n",
              "      <td>30.0</td>\n",
              "      <td>Debit Card</td>\n",
              "      <td>Male</td>\n",
              "      <td>2.0</td>\n",
              "      <td>4</td>\n",
              "      <td>Mobile</td>\n",
              "      <td>3</td>\n",
              "      <td>Single</td>\n",
              "      <td>6</td>\n",
              "      <td>1</td>\n",
              "      <td>14.0</td>\n",
              "      <td>0.0</td>\n",
              "      <td>1.0</td>\n",
              "      <td>3.0</td>\n",
              "      <td>120</td>\n",
              "    </tr>\n",
              "    <tr>\n",
              "      <th>3</th>\n",
              "      <td>50004</td>\n",
              "      <td>1</td>\n",
              "      <td>0.0</td>\n",
              "      <td>Phone</td>\n",
              "      <td>3</td>\n",
              "      <td>15.0</td>\n",
              "      <td>Debit Card</td>\n",
              "      <td>Male</td>\n",
              "      <td>2.0</td>\n",
              "      <td>4</td>\n",
              "      <td>Laptop &amp; Accessory</td>\n",
              "      <td>5</td>\n",
              "      <td>Single</td>\n",
              "      <td>8</td>\n",
              "      <td>0</td>\n",
              "      <td>23.0</td>\n",
              "      <td>0.0</td>\n",
              "      <td>1.0</td>\n",
              "      <td>3.0</td>\n",
              "      <td>134</td>\n",
              "    </tr>\n",
              "    <tr>\n",
              "      <th>4</th>\n",
              "      <td>50005</td>\n",
              "      <td>1</td>\n",
              "      <td>0.0</td>\n",
              "      <td>Phone</td>\n",
              "      <td>1</td>\n",
              "      <td>12.0</td>\n",
              "      <td>CC</td>\n",
              "      <td>Male</td>\n",
              "      <td>NaN</td>\n",
              "      <td>3</td>\n",
              "      <td>Mobile</td>\n",
              "      <td>5</td>\n",
              "      <td>Single</td>\n",
              "      <td>3</td>\n",
              "      <td>0</td>\n",
              "      <td>11.0</td>\n",
              "      <td>1.0</td>\n",
              "      <td>1.0</td>\n",
              "      <td>3.0</td>\n",
              "      <td>130</td>\n",
              "    </tr>\n",
              "  </tbody>\n",
              "</table>\n",
              "</div>\n",
              "      <button class=\"colab-df-convert\" onclick=\"convertToInteractive('df-bbaf540e-9bd7-4abc-be26-994374df08b7')\"\n",
              "              title=\"Convert this dataframe to an interactive table.\"\n",
              "              style=\"display:none;\">\n",
              "        \n",
              "  <svg xmlns=\"http://www.w3.org/2000/svg\" height=\"24px\"viewBox=\"0 0 24 24\"\n",
              "       width=\"24px\">\n",
              "    <path d=\"M0 0h24v24H0V0z\" fill=\"none\"/>\n",
              "    <path d=\"M18.56 5.44l.94 2.06.94-2.06 2.06-.94-2.06-.94-.94-2.06-.94 2.06-2.06.94zm-11 1L8.5 8.5l.94-2.06 2.06-.94-2.06-.94L8.5 2.5l-.94 2.06-2.06.94zm10 10l.94 2.06.94-2.06 2.06-.94-2.06-.94-.94-2.06-.94 2.06-2.06.94z\"/><path d=\"M17.41 7.96l-1.37-1.37c-.4-.4-.92-.59-1.43-.59-.52 0-1.04.2-1.43.59L10.3 9.45l-7.72 7.72c-.78.78-.78 2.05 0 2.83L4 21.41c.39.39.9.59 1.41.59.51 0 1.02-.2 1.41-.59l7.78-7.78 2.81-2.81c.8-.78.8-2.07 0-2.86zM5.41 20L4 18.59l7.72-7.72 1.47 1.35L5.41 20z\"/>\n",
              "  </svg>\n",
              "      </button>\n",
              "      \n",
              "  <style>\n",
              "    .colab-df-container {\n",
              "      display:flex;\n",
              "      flex-wrap:wrap;\n",
              "      gap: 12px;\n",
              "    }\n",
              "\n",
              "    .colab-df-convert {\n",
              "      background-color: #E8F0FE;\n",
              "      border: none;\n",
              "      border-radius: 50%;\n",
              "      cursor: pointer;\n",
              "      display: none;\n",
              "      fill: #1967D2;\n",
              "      height: 32px;\n",
              "      padding: 0 0 0 0;\n",
              "      width: 32px;\n",
              "    }\n",
              "\n",
              "    .colab-df-convert:hover {\n",
              "      background-color: #E2EBFA;\n",
              "      box-shadow: 0px 1px 2px rgba(60, 64, 67, 0.3), 0px 1px 3px 1px rgba(60, 64, 67, 0.15);\n",
              "      fill: #174EA6;\n",
              "    }\n",
              "\n",
              "    [theme=dark] .colab-df-convert {\n",
              "      background-color: #3B4455;\n",
              "      fill: #D2E3FC;\n",
              "    }\n",
              "\n",
              "    [theme=dark] .colab-df-convert:hover {\n",
              "      background-color: #434B5C;\n",
              "      box-shadow: 0px 1px 3px 1px rgba(0, 0, 0, 0.15);\n",
              "      filter: drop-shadow(0px 1px 2px rgba(0, 0, 0, 0.3));\n",
              "      fill: #FFFFFF;\n",
              "    }\n",
              "  </style>\n",
              "\n",
              "      <script>\n",
              "        const buttonEl =\n",
              "          document.querySelector('#df-bbaf540e-9bd7-4abc-be26-994374df08b7 button.colab-df-convert');\n",
              "        buttonEl.style.display =\n",
              "          google.colab.kernel.accessAllowed ? 'block' : 'none';\n",
              "\n",
              "        async function convertToInteractive(key) {\n",
              "          const element = document.querySelector('#df-bbaf540e-9bd7-4abc-be26-994374df08b7');\n",
              "          const dataTable =\n",
              "            await google.colab.kernel.invokeFunction('convertToInteractive',\n",
              "                                                     [key], {});\n",
              "          if (!dataTable) return;\n",
              "\n",
              "          const docLinkHtml = 'Like what you see? Visit the ' +\n",
              "            '<a target=\"_blank\" href=https://colab.research.google.com/notebooks/data_table.ipynb>data table notebook</a>'\n",
              "            + ' to learn more about interactive tables.';\n",
              "          element.innerHTML = '';\n",
              "          dataTable['output_type'] = 'display_data';\n",
              "          await google.colab.output.renderOutput(dataTable, element);\n",
              "          const docLink = document.createElement('div');\n",
              "          docLink.innerHTML = docLinkHtml;\n",
              "          element.appendChild(docLink);\n",
              "        }\n",
              "      </script>\n",
              "    </div>\n",
              "  </div>\n",
              "  "
            ]
          },
          "metadata": {},
          "execution_count": 4
        }
      ]
    },
    {
      "cell_type": "code",
      "source": [
        "data.shape"
      ],
      "metadata": {
        "colab": {
          "base_uri": "https://localhost:8080/"
        },
        "id": "6U5kzxd3dxui",
        "outputId": "6fe58a3f-ee3b-4128-e43e-ec78cd821893"
      },
      "execution_count": 5,
      "outputs": [
        {
          "output_type": "execute_result",
          "data": {
            "text/plain": [
              "(5630, 20)"
            ]
          },
          "metadata": {},
          "execution_count": 5
        }
      ]
    },
    {
      "cell_type": "markdown",
      "source": [
        "This dataset has 5630 rows and 20 columns"
      ],
      "metadata": {
        "id": "tzWpvesDfAdx"
      }
    },
    {
      "cell_type": "code",
      "source": [
        "data.info()"
      ],
      "metadata": {
        "colab": {
          "base_uri": "https://localhost:8080/"
        },
        "id": "Q78_u2NDcL9D",
        "outputId": "68beec7e-cb37-476e-d651-6e4f267144af"
      },
      "execution_count": 6,
      "outputs": [
        {
          "output_type": "stream",
          "name": "stdout",
          "text": [
            "<class 'pandas.core.frame.DataFrame'>\n",
            "RangeIndex: 5630 entries, 0 to 5629\n",
            "Data columns (total 20 columns):\n",
            " #   Column                       Non-Null Count  Dtype  \n",
            "---  ------                       --------------  -----  \n",
            " 0   CustomerID                   5630 non-null   int64  \n",
            " 1   Churn                        5630 non-null   int64  \n",
            " 2   Tenure                       5366 non-null   float64\n",
            " 3   PreferredLoginDevice         5630 non-null   object \n",
            " 4   CityTier                     5630 non-null   int64  \n",
            " 5   WarehouseToHome              5379 non-null   float64\n",
            " 6   PreferredPaymentMode         5630 non-null   object \n",
            " 7   Gender                       5630 non-null   object \n",
            " 8   HourSpendOnApp               5375 non-null   float64\n",
            " 9   NumberOfDeviceRegistered     5630 non-null   int64  \n",
            " 10  PreferedOrderCat             5630 non-null   object \n",
            " 11  SatisfactionScore            5630 non-null   int64  \n",
            " 12  MaritalStatus                5630 non-null   object \n",
            " 13  NumberOfAddress              5630 non-null   int64  \n",
            " 14  Complain                     5630 non-null   int64  \n",
            " 15  OrderAmountHikeFromlastYear  5365 non-null   float64\n",
            " 16  CouponUsed                   5374 non-null   float64\n",
            " 17  OrderCount                   5372 non-null   float64\n",
            " 18  DaySinceLastOrder            5323 non-null   float64\n",
            " 19  CashbackAmount               5630 non-null   int64  \n",
            "dtypes: float64(7), int64(8), object(5)\n",
            "memory usage: 879.8+ KB\n"
          ]
        }
      ]
    },
    {
      "cell_type": "code",
      "source": [
        "data.describe()"
      ],
      "metadata": {
        "colab": {
          "base_uri": "https://localhost:8080/",
          "height": 364
        },
        "id": "v8SgGqAXNIfH",
        "outputId": "29d4501b-b06f-4924-d07d-6e46b8285212"
      },
      "execution_count": 7,
      "outputs": [
        {
          "output_type": "execute_result",
          "data": {
            "text/plain": [
              "         CustomerID        Churn       Tenure     CityTier  WarehouseToHome  \\\n",
              "count   5630.000000  5630.000000  5366.000000  5630.000000      5379.000000   \n",
              "mean   52815.500000     0.168384    10.189899     1.654707        15.639896   \n",
              "std     1625.385339     0.374240     8.557241     0.915389         8.531475   \n",
              "min    50001.000000     0.000000     0.000000     1.000000         5.000000   \n",
              "25%    51408.250000     0.000000     2.000000     1.000000         9.000000   \n",
              "50%    52815.500000     0.000000     9.000000     1.000000        14.000000   \n",
              "75%    54222.750000     0.000000    16.000000     3.000000        20.000000   \n",
              "max    55630.000000     1.000000    61.000000     3.000000       127.000000   \n",
              "\n",
              "       HourSpendOnApp  NumberOfDeviceRegistered  SatisfactionScore  \\\n",
              "count     5375.000000               5630.000000        5630.000000   \n",
              "mean         2.931535                  3.688988           3.066785   \n",
              "std          0.721926                  1.023999           1.380194   \n",
              "min          0.000000                  1.000000           1.000000   \n",
              "25%          2.000000                  3.000000           2.000000   \n",
              "50%          3.000000                  4.000000           3.000000   \n",
              "75%          3.000000                  4.000000           4.000000   \n",
              "max          5.000000                  6.000000           5.000000   \n",
              "\n",
              "       NumberOfAddress     Complain  OrderAmountHikeFromlastYear   CouponUsed  \\\n",
              "count      5630.000000  5630.000000                  5365.000000  5374.000000   \n",
              "mean          4.214032     0.284902                    15.707922     1.751023   \n",
              "std           2.583586     0.451408                     3.675485     1.894621   \n",
              "min           1.000000     0.000000                    11.000000     0.000000   \n",
              "25%           2.000000     0.000000                    13.000000     1.000000   \n",
              "50%           3.000000     0.000000                    15.000000     1.000000   \n",
              "75%           6.000000     1.000000                    18.000000     2.000000   \n",
              "max          22.000000     1.000000                    26.000000    16.000000   \n",
              "\n",
              "        OrderCount  DaySinceLastOrder  CashbackAmount  \n",
              "count  5372.000000        5323.000000     5630.000000  \n",
              "mean      3.008004           4.543491      177.221492  \n",
              "std       2.939680           3.654433       49.193869  \n",
              "min       1.000000           0.000000        0.000000  \n",
              "25%       1.000000           2.000000      146.000000  \n",
              "50%       2.000000           3.000000      163.000000  \n",
              "75%       3.000000           7.000000      196.000000  \n",
              "max      16.000000          46.000000      325.000000  "
            ],
            "text/html": [
              "\n",
              "  <div id=\"df-821df26b-37ee-46db-8896-f5c87b48fd20\">\n",
              "    <div class=\"colab-df-container\">\n",
              "      <div>\n",
              "<style scoped>\n",
              "    .dataframe tbody tr th:only-of-type {\n",
              "        vertical-align: middle;\n",
              "    }\n",
              "\n",
              "    .dataframe tbody tr th {\n",
              "        vertical-align: top;\n",
              "    }\n",
              "\n",
              "    .dataframe thead th {\n",
              "        text-align: right;\n",
              "    }\n",
              "</style>\n",
              "<table border=\"1\" class=\"dataframe\">\n",
              "  <thead>\n",
              "    <tr style=\"text-align: right;\">\n",
              "      <th></th>\n",
              "      <th>CustomerID</th>\n",
              "      <th>Churn</th>\n",
              "      <th>Tenure</th>\n",
              "      <th>CityTier</th>\n",
              "      <th>WarehouseToHome</th>\n",
              "      <th>HourSpendOnApp</th>\n",
              "      <th>NumberOfDeviceRegistered</th>\n",
              "      <th>SatisfactionScore</th>\n",
              "      <th>NumberOfAddress</th>\n",
              "      <th>Complain</th>\n",
              "      <th>OrderAmountHikeFromlastYear</th>\n",
              "      <th>CouponUsed</th>\n",
              "      <th>OrderCount</th>\n",
              "      <th>DaySinceLastOrder</th>\n",
              "      <th>CashbackAmount</th>\n",
              "    </tr>\n",
              "  </thead>\n",
              "  <tbody>\n",
              "    <tr>\n",
              "      <th>count</th>\n",
              "      <td>5630.000000</td>\n",
              "      <td>5630.000000</td>\n",
              "      <td>5366.000000</td>\n",
              "      <td>5630.000000</td>\n",
              "      <td>5379.000000</td>\n",
              "      <td>5375.000000</td>\n",
              "      <td>5630.000000</td>\n",
              "      <td>5630.000000</td>\n",
              "      <td>5630.000000</td>\n",
              "      <td>5630.000000</td>\n",
              "      <td>5365.000000</td>\n",
              "      <td>5374.000000</td>\n",
              "      <td>5372.000000</td>\n",
              "      <td>5323.000000</td>\n",
              "      <td>5630.000000</td>\n",
              "    </tr>\n",
              "    <tr>\n",
              "      <th>mean</th>\n",
              "      <td>52815.500000</td>\n",
              "      <td>0.168384</td>\n",
              "      <td>10.189899</td>\n",
              "      <td>1.654707</td>\n",
              "      <td>15.639896</td>\n",
              "      <td>2.931535</td>\n",
              "      <td>3.688988</td>\n",
              "      <td>3.066785</td>\n",
              "      <td>4.214032</td>\n",
              "      <td>0.284902</td>\n",
              "      <td>15.707922</td>\n",
              "      <td>1.751023</td>\n",
              "      <td>3.008004</td>\n",
              "      <td>4.543491</td>\n",
              "      <td>177.221492</td>\n",
              "    </tr>\n",
              "    <tr>\n",
              "      <th>std</th>\n",
              "      <td>1625.385339</td>\n",
              "      <td>0.374240</td>\n",
              "      <td>8.557241</td>\n",
              "      <td>0.915389</td>\n",
              "      <td>8.531475</td>\n",
              "      <td>0.721926</td>\n",
              "      <td>1.023999</td>\n",
              "      <td>1.380194</td>\n",
              "      <td>2.583586</td>\n",
              "      <td>0.451408</td>\n",
              "      <td>3.675485</td>\n",
              "      <td>1.894621</td>\n",
              "      <td>2.939680</td>\n",
              "      <td>3.654433</td>\n",
              "      <td>49.193869</td>\n",
              "    </tr>\n",
              "    <tr>\n",
              "      <th>min</th>\n",
              "      <td>50001.000000</td>\n",
              "      <td>0.000000</td>\n",
              "      <td>0.000000</td>\n",
              "      <td>1.000000</td>\n",
              "      <td>5.000000</td>\n",
              "      <td>0.000000</td>\n",
              "      <td>1.000000</td>\n",
              "      <td>1.000000</td>\n",
              "      <td>1.000000</td>\n",
              "      <td>0.000000</td>\n",
              "      <td>11.000000</td>\n",
              "      <td>0.000000</td>\n",
              "      <td>1.000000</td>\n",
              "      <td>0.000000</td>\n",
              "      <td>0.000000</td>\n",
              "    </tr>\n",
              "    <tr>\n",
              "      <th>25%</th>\n",
              "      <td>51408.250000</td>\n",
              "      <td>0.000000</td>\n",
              "      <td>2.000000</td>\n",
              "      <td>1.000000</td>\n",
              "      <td>9.000000</td>\n",
              "      <td>2.000000</td>\n",
              "      <td>3.000000</td>\n",
              "      <td>2.000000</td>\n",
              "      <td>2.000000</td>\n",
              "      <td>0.000000</td>\n",
              "      <td>13.000000</td>\n",
              "      <td>1.000000</td>\n",
              "      <td>1.000000</td>\n",
              "      <td>2.000000</td>\n",
              "      <td>146.000000</td>\n",
              "    </tr>\n",
              "    <tr>\n",
              "      <th>50%</th>\n",
              "      <td>52815.500000</td>\n",
              "      <td>0.000000</td>\n",
              "      <td>9.000000</td>\n",
              "      <td>1.000000</td>\n",
              "      <td>14.000000</td>\n",
              "      <td>3.000000</td>\n",
              "      <td>4.000000</td>\n",
              "      <td>3.000000</td>\n",
              "      <td>3.000000</td>\n",
              "      <td>0.000000</td>\n",
              "      <td>15.000000</td>\n",
              "      <td>1.000000</td>\n",
              "      <td>2.000000</td>\n",
              "      <td>3.000000</td>\n",
              "      <td>163.000000</td>\n",
              "    </tr>\n",
              "    <tr>\n",
              "      <th>75%</th>\n",
              "      <td>54222.750000</td>\n",
              "      <td>0.000000</td>\n",
              "      <td>16.000000</td>\n",
              "      <td>3.000000</td>\n",
              "      <td>20.000000</td>\n",
              "      <td>3.000000</td>\n",
              "      <td>4.000000</td>\n",
              "      <td>4.000000</td>\n",
              "      <td>6.000000</td>\n",
              "      <td>1.000000</td>\n",
              "      <td>18.000000</td>\n",
              "      <td>2.000000</td>\n",
              "      <td>3.000000</td>\n",
              "      <td>7.000000</td>\n",
              "      <td>196.000000</td>\n",
              "    </tr>\n",
              "    <tr>\n",
              "      <th>max</th>\n",
              "      <td>55630.000000</td>\n",
              "      <td>1.000000</td>\n",
              "      <td>61.000000</td>\n",
              "      <td>3.000000</td>\n",
              "      <td>127.000000</td>\n",
              "      <td>5.000000</td>\n",
              "      <td>6.000000</td>\n",
              "      <td>5.000000</td>\n",
              "      <td>22.000000</td>\n",
              "      <td>1.000000</td>\n",
              "      <td>26.000000</td>\n",
              "      <td>16.000000</td>\n",
              "      <td>16.000000</td>\n",
              "      <td>46.000000</td>\n",
              "      <td>325.000000</td>\n",
              "    </tr>\n",
              "  </tbody>\n",
              "</table>\n",
              "</div>\n",
              "      <button class=\"colab-df-convert\" onclick=\"convertToInteractive('df-821df26b-37ee-46db-8896-f5c87b48fd20')\"\n",
              "              title=\"Convert this dataframe to an interactive table.\"\n",
              "              style=\"display:none;\">\n",
              "        \n",
              "  <svg xmlns=\"http://www.w3.org/2000/svg\" height=\"24px\"viewBox=\"0 0 24 24\"\n",
              "       width=\"24px\">\n",
              "    <path d=\"M0 0h24v24H0V0z\" fill=\"none\"/>\n",
              "    <path d=\"M18.56 5.44l.94 2.06.94-2.06 2.06-.94-2.06-.94-.94-2.06-.94 2.06-2.06.94zm-11 1L8.5 8.5l.94-2.06 2.06-.94-2.06-.94L8.5 2.5l-.94 2.06-2.06.94zm10 10l.94 2.06.94-2.06 2.06-.94-2.06-.94-.94-2.06-.94 2.06-2.06.94z\"/><path d=\"M17.41 7.96l-1.37-1.37c-.4-.4-.92-.59-1.43-.59-.52 0-1.04.2-1.43.59L10.3 9.45l-7.72 7.72c-.78.78-.78 2.05 0 2.83L4 21.41c.39.39.9.59 1.41.59.51 0 1.02-.2 1.41-.59l7.78-7.78 2.81-2.81c.8-.78.8-2.07 0-2.86zM5.41 20L4 18.59l7.72-7.72 1.47 1.35L5.41 20z\"/>\n",
              "  </svg>\n",
              "      </button>\n",
              "      \n",
              "  <style>\n",
              "    .colab-df-container {\n",
              "      display:flex;\n",
              "      flex-wrap:wrap;\n",
              "      gap: 12px;\n",
              "    }\n",
              "\n",
              "    .colab-df-convert {\n",
              "      background-color: #E8F0FE;\n",
              "      border: none;\n",
              "      border-radius: 50%;\n",
              "      cursor: pointer;\n",
              "      display: none;\n",
              "      fill: #1967D2;\n",
              "      height: 32px;\n",
              "      padding: 0 0 0 0;\n",
              "      width: 32px;\n",
              "    }\n",
              "\n",
              "    .colab-df-convert:hover {\n",
              "      background-color: #E2EBFA;\n",
              "      box-shadow: 0px 1px 2px rgba(60, 64, 67, 0.3), 0px 1px 3px 1px rgba(60, 64, 67, 0.15);\n",
              "      fill: #174EA6;\n",
              "    }\n",
              "\n",
              "    [theme=dark] .colab-df-convert {\n",
              "      background-color: #3B4455;\n",
              "      fill: #D2E3FC;\n",
              "    }\n",
              "\n",
              "    [theme=dark] .colab-df-convert:hover {\n",
              "      background-color: #434B5C;\n",
              "      box-shadow: 0px 1px 3px 1px rgba(0, 0, 0, 0.15);\n",
              "      filter: drop-shadow(0px 1px 2px rgba(0, 0, 0, 0.3));\n",
              "      fill: #FFFFFF;\n",
              "    }\n",
              "  </style>\n",
              "\n",
              "      <script>\n",
              "        const buttonEl =\n",
              "          document.querySelector('#df-821df26b-37ee-46db-8896-f5c87b48fd20 button.colab-df-convert');\n",
              "        buttonEl.style.display =\n",
              "          google.colab.kernel.accessAllowed ? 'block' : 'none';\n",
              "\n",
              "        async function convertToInteractive(key) {\n",
              "          const element = document.querySelector('#df-821df26b-37ee-46db-8896-f5c87b48fd20');\n",
              "          const dataTable =\n",
              "            await google.colab.kernel.invokeFunction('convertToInteractive',\n",
              "                                                     [key], {});\n",
              "          if (!dataTable) return;\n",
              "\n",
              "          const docLinkHtml = 'Like what you see? Visit the ' +\n",
              "            '<a target=\"_blank\" href=https://colab.research.google.com/notebooks/data_table.ipynb>data table notebook</a>'\n",
              "            + ' to learn more about interactive tables.';\n",
              "          element.innerHTML = '';\n",
              "          dataTable['output_type'] = 'display_data';\n",
              "          await google.colab.output.renderOutput(dataTable, element);\n",
              "          const docLink = document.createElement('div');\n",
              "          docLink.innerHTML = docLinkHtml;\n",
              "          element.appendChild(docLink);\n",
              "        }\n",
              "      </script>\n",
              "    </div>\n",
              "  </div>\n",
              "  "
            ]
          },
          "metadata": {},
          "execution_count": 7
        }
      ]
    },
    {
      "cell_type": "code",
      "source": [
        "data.isnull().sum()"
      ],
      "metadata": {
        "colab": {
          "base_uri": "https://localhost:8080/"
        },
        "id": "ZbPWtHZDc4hD",
        "outputId": "7fd74358-a75d-45d9-842e-ae3e0a9a8008"
      },
      "execution_count": 8,
      "outputs": [
        {
          "output_type": "execute_result",
          "data": {
            "text/plain": [
              "CustomerID                       0\n",
              "Churn                            0\n",
              "Tenure                         264\n",
              "PreferredLoginDevice             0\n",
              "CityTier                         0\n",
              "WarehouseToHome                251\n",
              "PreferredPaymentMode             0\n",
              "Gender                           0\n",
              "HourSpendOnApp                 255\n",
              "NumberOfDeviceRegistered         0\n",
              "PreferedOrderCat                 0\n",
              "SatisfactionScore                0\n",
              "MaritalStatus                    0\n",
              "NumberOfAddress                  0\n",
              "Complain                         0\n",
              "OrderAmountHikeFromlastYear    265\n",
              "CouponUsed                     256\n",
              "OrderCount                     258\n",
              "DaySinceLastOrder              307\n",
              "CashbackAmount                   0\n",
              "dtype: int64"
            ]
          },
          "metadata": {},
          "execution_count": 8
        }
      ]
    },
    {
      "cell_type": "markdown",
      "source": [
        "As we can see the following columns has missing values:  \n",
        "* Tenure<br>\n",
        "* WarehouseToHome<br>\n",
        "* HourSpendOnApp <br>\n",
        "* OrderAmountHikeFromlastYear<br>\n",
        "* CouponUsed<br>\n",
        "* OrderCount<br>\n",
        "* DaySinceLastOrder"
      ],
      "metadata": {
        "id": "hG8GHLHIXRg7"
      }
    },
    {
      "cell_type": "code",
      "source": [
        "data.head(2)"
      ],
      "metadata": {
        "colab": {
          "base_uri": "https://localhost:8080/",
          "height": 193
        },
        "id": "t2R5CxUEjbFW",
        "outputId": "52b52a44-49cf-4691-a5f5-e454923317f4"
      },
      "execution_count": 9,
      "outputs": [
        {
          "output_type": "execute_result",
          "data": {
            "text/plain": [
              "   CustomerID  Churn  Tenure PreferredLoginDevice  CityTier  WarehouseToHome  \\\n",
              "0       50001      1     4.0         Mobile Phone         3              6.0   \n",
              "1       50002      1     NaN                Phone         1              8.0   \n",
              "\n",
              "  PreferredPaymentMode  Gender  HourSpendOnApp  NumberOfDeviceRegistered  \\\n",
              "0           Debit Card  Female             3.0                         3   \n",
              "1                  UPI    Male             3.0                         4   \n",
              "\n",
              "     PreferedOrderCat  SatisfactionScore MaritalStatus  NumberOfAddress  \\\n",
              "0  Laptop & Accessory                  2        Single                9   \n",
              "1              Mobile                  3        Single                7   \n",
              "\n",
              "   Complain  OrderAmountHikeFromlastYear  CouponUsed  OrderCount  \\\n",
              "0         1                         11.0         1.0         1.0   \n",
              "1         1                         15.0         0.0         1.0   \n",
              "\n",
              "   DaySinceLastOrder  CashbackAmount  \n",
              "0                5.0             160  \n",
              "1                0.0             121  "
            ],
            "text/html": [
              "\n",
              "  <div id=\"df-aed80279-c152-449d-95f9-0ac8eafea1c4\">\n",
              "    <div class=\"colab-df-container\">\n",
              "      <div>\n",
              "<style scoped>\n",
              "    .dataframe tbody tr th:only-of-type {\n",
              "        vertical-align: middle;\n",
              "    }\n",
              "\n",
              "    .dataframe tbody tr th {\n",
              "        vertical-align: top;\n",
              "    }\n",
              "\n",
              "    .dataframe thead th {\n",
              "        text-align: right;\n",
              "    }\n",
              "</style>\n",
              "<table border=\"1\" class=\"dataframe\">\n",
              "  <thead>\n",
              "    <tr style=\"text-align: right;\">\n",
              "      <th></th>\n",
              "      <th>CustomerID</th>\n",
              "      <th>Churn</th>\n",
              "      <th>Tenure</th>\n",
              "      <th>PreferredLoginDevice</th>\n",
              "      <th>CityTier</th>\n",
              "      <th>WarehouseToHome</th>\n",
              "      <th>PreferredPaymentMode</th>\n",
              "      <th>Gender</th>\n",
              "      <th>HourSpendOnApp</th>\n",
              "      <th>NumberOfDeviceRegistered</th>\n",
              "      <th>PreferedOrderCat</th>\n",
              "      <th>SatisfactionScore</th>\n",
              "      <th>MaritalStatus</th>\n",
              "      <th>NumberOfAddress</th>\n",
              "      <th>Complain</th>\n",
              "      <th>OrderAmountHikeFromlastYear</th>\n",
              "      <th>CouponUsed</th>\n",
              "      <th>OrderCount</th>\n",
              "      <th>DaySinceLastOrder</th>\n",
              "      <th>CashbackAmount</th>\n",
              "    </tr>\n",
              "  </thead>\n",
              "  <tbody>\n",
              "    <tr>\n",
              "      <th>0</th>\n",
              "      <td>50001</td>\n",
              "      <td>1</td>\n",
              "      <td>4.0</td>\n",
              "      <td>Mobile Phone</td>\n",
              "      <td>3</td>\n",
              "      <td>6.0</td>\n",
              "      <td>Debit Card</td>\n",
              "      <td>Female</td>\n",
              "      <td>3.0</td>\n",
              "      <td>3</td>\n",
              "      <td>Laptop &amp; Accessory</td>\n",
              "      <td>2</td>\n",
              "      <td>Single</td>\n",
              "      <td>9</td>\n",
              "      <td>1</td>\n",
              "      <td>11.0</td>\n",
              "      <td>1.0</td>\n",
              "      <td>1.0</td>\n",
              "      <td>5.0</td>\n",
              "      <td>160</td>\n",
              "    </tr>\n",
              "    <tr>\n",
              "      <th>1</th>\n",
              "      <td>50002</td>\n",
              "      <td>1</td>\n",
              "      <td>NaN</td>\n",
              "      <td>Phone</td>\n",
              "      <td>1</td>\n",
              "      <td>8.0</td>\n",
              "      <td>UPI</td>\n",
              "      <td>Male</td>\n",
              "      <td>3.0</td>\n",
              "      <td>4</td>\n",
              "      <td>Mobile</td>\n",
              "      <td>3</td>\n",
              "      <td>Single</td>\n",
              "      <td>7</td>\n",
              "      <td>1</td>\n",
              "      <td>15.0</td>\n",
              "      <td>0.0</td>\n",
              "      <td>1.0</td>\n",
              "      <td>0.0</td>\n",
              "      <td>121</td>\n",
              "    </tr>\n",
              "  </tbody>\n",
              "</table>\n",
              "</div>\n",
              "      <button class=\"colab-df-convert\" onclick=\"convertToInteractive('df-aed80279-c152-449d-95f9-0ac8eafea1c4')\"\n",
              "              title=\"Convert this dataframe to an interactive table.\"\n",
              "              style=\"display:none;\">\n",
              "        \n",
              "  <svg xmlns=\"http://www.w3.org/2000/svg\" height=\"24px\"viewBox=\"0 0 24 24\"\n",
              "       width=\"24px\">\n",
              "    <path d=\"M0 0h24v24H0V0z\" fill=\"none\"/>\n",
              "    <path d=\"M18.56 5.44l.94 2.06.94-2.06 2.06-.94-2.06-.94-.94-2.06-.94 2.06-2.06.94zm-11 1L8.5 8.5l.94-2.06 2.06-.94-2.06-.94L8.5 2.5l-.94 2.06-2.06.94zm10 10l.94 2.06.94-2.06 2.06-.94-2.06-.94-.94-2.06-.94 2.06-2.06.94z\"/><path d=\"M17.41 7.96l-1.37-1.37c-.4-.4-.92-.59-1.43-.59-.52 0-1.04.2-1.43.59L10.3 9.45l-7.72 7.72c-.78.78-.78 2.05 0 2.83L4 21.41c.39.39.9.59 1.41.59.51 0 1.02-.2 1.41-.59l7.78-7.78 2.81-2.81c.8-.78.8-2.07 0-2.86zM5.41 20L4 18.59l7.72-7.72 1.47 1.35L5.41 20z\"/>\n",
              "  </svg>\n",
              "      </button>\n",
              "      \n",
              "  <style>\n",
              "    .colab-df-container {\n",
              "      display:flex;\n",
              "      flex-wrap:wrap;\n",
              "      gap: 12px;\n",
              "    }\n",
              "\n",
              "    .colab-df-convert {\n",
              "      background-color: #E8F0FE;\n",
              "      border: none;\n",
              "      border-radius: 50%;\n",
              "      cursor: pointer;\n",
              "      display: none;\n",
              "      fill: #1967D2;\n",
              "      height: 32px;\n",
              "      padding: 0 0 0 0;\n",
              "      width: 32px;\n",
              "    }\n",
              "\n",
              "    .colab-df-convert:hover {\n",
              "      background-color: #E2EBFA;\n",
              "      box-shadow: 0px 1px 2px rgba(60, 64, 67, 0.3), 0px 1px 3px 1px rgba(60, 64, 67, 0.15);\n",
              "      fill: #174EA6;\n",
              "    }\n",
              "\n",
              "    [theme=dark] .colab-df-convert {\n",
              "      background-color: #3B4455;\n",
              "      fill: #D2E3FC;\n",
              "    }\n",
              "\n",
              "    [theme=dark] .colab-df-convert:hover {\n",
              "      background-color: #434B5C;\n",
              "      box-shadow: 0px 1px 3px 1px rgba(0, 0, 0, 0.15);\n",
              "      filter: drop-shadow(0px 1px 2px rgba(0, 0, 0, 0.3));\n",
              "      fill: #FFFFFF;\n",
              "    }\n",
              "  </style>\n",
              "\n",
              "      <script>\n",
              "        const buttonEl =\n",
              "          document.querySelector('#df-aed80279-c152-449d-95f9-0ac8eafea1c4 button.colab-df-convert');\n",
              "        buttonEl.style.display =\n",
              "          google.colab.kernel.accessAllowed ? 'block' : 'none';\n",
              "\n",
              "        async function convertToInteractive(key) {\n",
              "          const element = document.querySelector('#df-aed80279-c152-449d-95f9-0ac8eafea1c4');\n",
              "          const dataTable =\n",
              "            await google.colab.kernel.invokeFunction('convertToInteractive',\n",
              "                                                     [key], {});\n",
              "          if (!dataTable) return;\n",
              "\n",
              "          const docLinkHtml = 'Like what you see? Visit the ' +\n",
              "            '<a target=\"_blank\" href=https://colab.research.google.com/notebooks/data_table.ipynb>data table notebook</a>'\n",
              "            + ' to learn more about interactive tables.';\n",
              "          element.innerHTML = '';\n",
              "          dataTable['output_type'] = 'display_data';\n",
              "          await google.colab.output.renderOutput(dataTable, element);\n",
              "          const docLink = document.createElement('div');\n",
              "          docLink.innerHTML = docLinkHtml;\n",
              "          element.appendChild(docLink);\n",
              "        }\n",
              "      </script>\n",
              "    </div>\n",
              "  </div>\n",
              "  "
            ]
          },
          "metadata": {},
          "execution_count": 9
        }
      ]
    },
    {
      "cell_type": "markdown",
      "source": [
        "Distribution of dependent variable, Churn"
      ],
      "metadata": {
        "id": "Hng2_jwDNRuu"
      }
    },
    {
      "cell_type": "code",
      "source": [
        "(data[data['Churn'] == 1].shape[0] / data.shape[0]) * 100"
      ],
      "metadata": {
        "colab": {
          "base_uri": "https://localhost:8080/"
        },
        "id": "l1d-sSvJc0oz",
        "outputId": "a99e2814-0aff-4069-ef5f-329116058b69"
      },
      "execution_count": 10,
      "outputs": [
        {
          "output_type": "execute_result",
          "data": {
            "text/plain": [
              "16.838365896980463"
            ]
          },
          "metadata": {},
          "execution_count": 10
        }
      ]
    },
    {
      "cell_type": "markdown",
      "source": [
        "only 17% of the data is showing churn"
      ],
      "metadata": {
        "id": "AKddod22dOA_"
      }
    },
    {
      "cell_type": "code",
      "source": [
        "churn = data['Churn'].value_counts().reset_index()\n",
        "churn.head()"
      ],
      "metadata": {
        "id": "Ifd4gVvfbrn6",
        "colab": {
          "base_uri": "https://localhost:8080/",
          "height": 112
        },
        "outputId": "b6b698b6-0693-4681-f100-1197943d5568"
      },
      "execution_count": 13,
      "outputs": [
        {
          "output_type": "execute_result",
          "data": {
            "text/plain": [
              "   index  Churn\n",
              "0      0   4682\n",
              "1      1    948"
            ],
            "text/html": [
              "\n",
              "  <div id=\"df-63d1b6d6-09cd-4305-9063-58d7de47cc12\">\n",
              "    <div class=\"colab-df-container\">\n",
              "      <div>\n",
              "<style scoped>\n",
              "    .dataframe tbody tr th:only-of-type {\n",
              "        vertical-align: middle;\n",
              "    }\n",
              "\n",
              "    .dataframe tbody tr th {\n",
              "        vertical-align: top;\n",
              "    }\n",
              "\n",
              "    .dataframe thead th {\n",
              "        text-align: right;\n",
              "    }\n",
              "</style>\n",
              "<table border=\"1\" class=\"dataframe\">\n",
              "  <thead>\n",
              "    <tr style=\"text-align: right;\">\n",
              "      <th></th>\n",
              "      <th>index</th>\n",
              "      <th>Churn</th>\n",
              "    </tr>\n",
              "  </thead>\n",
              "  <tbody>\n",
              "    <tr>\n",
              "      <th>0</th>\n",
              "      <td>0</td>\n",
              "      <td>4682</td>\n",
              "    </tr>\n",
              "    <tr>\n",
              "      <th>1</th>\n",
              "      <td>1</td>\n",
              "      <td>948</td>\n",
              "    </tr>\n",
              "  </tbody>\n",
              "</table>\n",
              "</div>\n",
              "      <button class=\"colab-df-convert\" onclick=\"convertToInteractive('df-63d1b6d6-09cd-4305-9063-58d7de47cc12')\"\n",
              "              title=\"Convert this dataframe to an interactive table.\"\n",
              "              style=\"display:none;\">\n",
              "        \n",
              "  <svg xmlns=\"http://www.w3.org/2000/svg\" height=\"24px\"viewBox=\"0 0 24 24\"\n",
              "       width=\"24px\">\n",
              "    <path d=\"M0 0h24v24H0V0z\" fill=\"none\"/>\n",
              "    <path d=\"M18.56 5.44l.94 2.06.94-2.06 2.06-.94-2.06-.94-.94-2.06-.94 2.06-2.06.94zm-11 1L8.5 8.5l.94-2.06 2.06-.94-2.06-.94L8.5 2.5l-.94 2.06-2.06.94zm10 10l.94 2.06.94-2.06 2.06-.94-2.06-.94-.94-2.06-.94 2.06-2.06.94z\"/><path d=\"M17.41 7.96l-1.37-1.37c-.4-.4-.92-.59-1.43-.59-.52 0-1.04.2-1.43.59L10.3 9.45l-7.72 7.72c-.78.78-.78 2.05 0 2.83L4 21.41c.39.39.9.59 1.41.59.51 0 1.02-.2 1.41-.59l7.78-7.78 2.81-2.81c.8-.78.8-2.07 0-2.86zM5.41 20L4 18.59l7.72-7.72 1.47 1.35L5.41 20z\"/>\n",
              "  </svg>\n",
              "      </button>\n",
              "      \n",
              "  <style>\n",
              "    .colab-df-container {\n",
              "      display:flex;\n",
              "      flex-wrap:wrap;\n",
              "      gap: 12px;\n",
              "    }\n",
              "\n",
              "    .colab-df-convert {\n",
              "      background-color: #E8F0FE;\n",
              "      border: none;\n",
              "      border-radius: 50%;\n",
              "      cursor: pointer;\n",
              "      display: none;\n",
              "      fill: #1967D2;\n",
              "      height: 32px;\n",
              "      padding: 0 0 0 0;\n",
              "      width: 32px;\n",
              "    }\n",
              "\n",
              "    .colab-df-convert:hover {\n",
              "      background-color: #E2EBFA;\n",
              "      box-shadow: 0px 1px 2px rgba(60, 64, 67, 0.3), 0px 1px 3px 1px rgba(60, 64, 67, 0.15);\n",
              "      fill: #174EA6;\n",
              "    }\n",
              "\n",
              "    [theme=dark] .colab-df-convert {\n",
              "      background-color: #3B4455;\n",
              "      fill: #D2E3FC;\n",
              "    }\n",
              "\n",
              "    [theme=dark] .colab-df-convert:hover {\n",
              "      background-color: #434B5C;\n",
              "      box-shadow: 0px 1px 3px 1px rgba(0, 0, 0, 0.15);\n",
              "      filter: drop-shadow(0px 1px 2px rgba(0, 0, 0, 0.3));\n",
              "      fill: #FFFFFF;\n",
              "    }\n",
              "  </style>\n",
              "\n",
              "      <script>\n",
              "        const buttonEl =\n",
              "          document.querySelector('#df-63d1b6d6-09cd-4305-9063-58d7de47cc12 button.colab-df-convert');\n",
              "        buttonEl.style.display =\n",
              "          google.colab.kernel.accessAllowed ? 'block' : 'none';\n",
              "\n",
              "        async function convertToInteractive(key) {\n",
              "          const element = document.querySelector('#df-63d1b6d6-09cd-4305-9063-58d7de47cc12');\n",
              "          const dataTable =\n",
              "            await google.colab.kernel.invokeFunction('convertToInteractive',\n",
              "                                                     [key], {});\n",
              "          if (!dataTable) return;\n",
              "\n",
              "          const docLinkHtml = 'Like what you see? Visit the ' +\n",
              "            '<a target=\"_blank\" href=https://colab.research.google.com/notebooks/data_table.ipynb>data table notebook</a>'\n",
              "            + ' to learn more about interactive tables.';\n",
              "          element.innerHTML = '';\n",
              "          dataTable['output_type'] = 'display_data';\n",
              "          await google.colab.output.renderOutput(dataTable, element);\n",
              "          const docLink = document.createElement('div');\n",
              "          docLink.innerHTML = docLinkHtml;\n",
              "          element.appendChild(docLink);\n",
              "        }\n",
              "      </script>\n",
              "    </div>\n",
              "  </div>\n",
              "  "
            ]
          },
          "metadata": {},
          "execution_count": 13
        }
      ]
    },
    {
      "cell_type": "code",
      "source": [
        "sns.barplot(x = churn['index'], y = churn['Churn'])"
      ],
      "metadata": {
        "colab": {
          "base_uri": "https://localhost:8080/",
          "height": 297
        },
        "id": "MdNN9mu8dkFx",
        "outputId": "60551bd6-d7de-4ed0-8b04-71bcff6d39b4"
      },
      "execution_count": 14,
      "outputs": [
        {
          "output_type": "execute_result",
          "data": {
            "text/plain": [
              "<matplotlib.axes._subplots.AxesSubplot at 0x7f313a6edca0>"
            ]
          },
          "metadata": {},
          "execution_count": 14
        },
        {
          "output_type": "display_data",
          "data": {
            "text/plain": [
              "<Figure size 432x288 with 1 Axes>"
            ],
            "image/png": "[encoded data removed]"
          },
          "metadata": {
            "needs_background": "light"
          }
        }
      ]
    },
    {
      "cell_type": "markdown",
      "source": [
        "We can see this is a highly imbalanced dataset"
      ],
      "metadata": {
        "id": "cf0vlT3FdxsL"
      }
    },
    {
      "cell_type": "code",
      "source": [
        "plt.figure(figsize=(8,5))\n",
        "sns.kdeplot(x = data['Tenure'], hue = data['Churn'])"
      ],
      "metadata": {
        "colab": {
          "base_uri": "https://localhost:8080/",
          "height": 352
        },
        "id": "ogdq_fkTiGPx",
        "outputId": "9e9dd80e-0baa-41e8-c61b-db688a1b6155"
      },
      "execution_count": 15,
      "outputs": [
        {
          "output_type": "execute_result",
          "data": {
            "text/plain": [
              "<matplotlib.axes._subplots.AxesSubplot at 0x7f313a6ed3d0>"
            ]
          },
          "metadata": {},
          "execution_count": 15
        },
        {
          "output_type": "display_data",
          "data": {
            "text/plain": [
              "<Figure size 576x360 with 1 Axes>"
            ],
            "image/png": "[encoded data removed]"
          },
          "metadata": {
            "needs_background": "light"
          }
        }
      ]
    },
    {
      "cell_type": "markdown",
      "source": [
        "As we can see from the graph below, <br>\n",
        "1) Less tenure -> More probability to churn<br>\n",
        "2) Maximum tenure is more than 20, after that there are less chances that customer will churn.<br>\n",
        "3) It is right-skewed.<br>\n",
        "The above graph shows the relationship between tenure and churning. The lesser the tenure, more are the chances to churn. So, one of the ways to reduce customer churning would be to retain the customers for longer tenure, so it reduces the chances of churning."
      ],
      "metadata": {
        "id": "whji_E54jctd"
      }
    },
    {
      "cell_type": "code",
      "source": [
        "churning = data[data['Churn'] == 1]"
      ],
      "metadata": {
        "id": "aWysufr3_XRT"
      },
      "execution_count": 16,
      "outputs": []
    },
    {
      "cell_type": "code",
      "source": [
        "churning.head(2)"
      ],
      "metadata": {
        "colab": {
          "base_uri": "https://localhost:8080/",
          "height": 193
        },
        "id": "2_ZRE7Rq_eRp",
        "outputId": "b226cd26-c61a-414d-cf82-80ebbe490654"
      },
      "execution_count": 17,
      "outputs": [
        {
          "output_type": "execute_result",
          "data": {
            "text/plain": [
              "   CustomerID  Churn  Tenure PreferredLoginDevice  CityTier  WarehouseToHome  \\\n",
              "0       50001      1     4.0         Mobile Phone         3              6.0   \n",
              "1       50002      1     NaN                Phone         1              8.0   \n",
              "\n",
              "  PreferredPaymentMode  Gender  HourSpendOnApp  NumberOfDeviceRegistered  \\\n",
              "0           Debit Card  Female             3.0                         3   \n",
              "1                  UPI    Male             3.0                         4   \n",
              "\n",
              "     PreferedOrderCat  SatisfactionScore MaritalStatus  NumberOfAddress  \\\n",
              "0  Laptop & Accessory                  2        Single                9   \n",
              "1              Mobile                  3        Single                7   \n",
              "\n",
              "   Complain  OrderAmountHikeFromlastYear  CouponUsed  OrderCount  \\\n",
              "0         1                         11.0         1.0         1.0   \n",
              "1         1                         15.0         0.0         1.0   \n",
              "\n",
              "   DaySinceLastOrder  CashbackAmount  \n",
              "0                5.0             160  \n",
              "1                0.0             121  "
            ],
            "text/html": [
              "\n",
              "  <div id=\"df-7313e73e-8bfd-4695-95be-1534aee781d0\">\n",
              "    <div class=\"colab-df-container\">\n",
              "      <div>\n",
              "<style scoped>\n",
              "    .dataframe tbody tr th:only-of-type {\n",
              "        vertical-align: middle;\n",
              "    }\n",
              "\n",
              "    .dataframe tbody tr th {\n",
              "        vertical-align: top;\n",
              "    }\n",
              "\n",
              "    .dataframe thead th {\n",
              "        text-align: right;\n",
              "    }\n",
              "</style>\n",
              "<table border=\"1\" class=\"dataframe\">\n",
              "  <thead>\n",
              "    <tr style=\"text-align: right;\">\n",
              "      <th></th>\n",
              "      <th>CustomerID</th>\n",
              "      <th>Churn</th>\n",
              "      <th>Tenure</th>\n",
              "      <th>PreferredLoginDevice</th>\n",
              "      <th>CityTier</th>\n",
              "      <th>WarehouseToHome</th>\n",
              "      <th>PreferredPaymentMode</th>\n",
              "      <th>Gender</th>\n",
              "      <th>HourSpendOnApp</th>\n",
              "      <th>NumberOfDeviceRegistered</th>\n",
              "      <th>PreferedOrderCat</th>\n",
              "      <th>SatisfactionScore</th>\n",
              "      <th>MaritalStatus</th>\n",
              "      <th>NumberOfAddress</th>\n",
              "      <th>Complain</th>\n",
              "      <th>OrderAmountHikeFromlastYear</th>\n",
              "      <th>CouponUsed</th>\n",
              "      <th>OrderCount</th>\n",
              "      <th>DaySinceLastOrder</th>\n",
              "      <th>CashbackAmount</th>\n",
              "    </tr>\n",
              "  </thead>\n",
              "  <tbody>\n",
              "    <tr>\n",
              "      <th>0</th>\n",
              "      <td>50001</td>\n",
              "      <td>1</td>\n",
              "      <td>4.0</td>\n",
              "      <td>Mobile Phone</td>\n",
              "      <td>3</td>\n",
              "      <td>6.0</td>\n",
              "      <td>Debit Card</td>\n",
              "      <td>Female</td>\n",
              "      <td>3.0</td>\n",
              "      <td>3</td>\n",
              "      <td>Laptop &amp; Accessory</td>\n",
              "      <td>2</td>\n",
              "      <td>Single</td>\n",
              "      <td>9</td>\n",
              "      <td>1</td>\n",
              "      <td>11.0</td>\n",
              "      <td>1.0</td>\n",
              "      <td>1.0</td>\n",
              "      <td>5.0</td>\n",
              "      <td>160</td>\n",
              "    </tr>\n",
              "    <tr>\n",
              "      <th>1</th>\n",
              "      <td>50002</td>\n",
              "      <td>1</td>\n",
              "      <td>NaN</td>\n",
              "      <td>Phone</td>\n",
              "      <td>1</td>\n",
              "      <td>8.0</td>\n",
              "      <td>UPI</td>\n",
              "      <td>Male</td>\n",
              "      <td>3.0</td>\n",
              "      <td>4</td>\n",
              "      <td>Mobile</td>\n",
              "      <td>3</td>\n",
              "      <td>Single</td>\n",
              "      <td>7</td>\n",
              "      <td>1</td>\n",
              "      <td>15.0</td>\n",
              "      <td>0.0</td>\n",
              "      <td>1.0</td>\n",
              "      <td>0.0</td>\n",
              "      <td>121</td>\n",
              "    </tr>\n",
              "  </tbody>\n",
              "</table>\n",
              "</div>\n",
              "      <button class=\"colab-df-convert\" onclick=\"convertToInteractive('df-7313e73e-8bfd-4695-95be-1534aee781d0')\"\n",
              "              title=\"Convert this dataframe to an interactive table.\"\n",
              "              style=\"display:none;\">\n",
              "        \n",
              "  <svg xmlns=\"http://www.w3.org/2000/svg\" height=\"24px\"viewBox=\"0 0 24 24\"\n",
              "       width=\"24px\">\n",
              "    <path d=\"M0 0h24v24H0V0z\" fill=\"none\"/>\n",
              "    <path d=\"M18.56 5.44l.94 2.06.94-2.06 2.06-.94-2.06-.94-.94-2.06-.94 2.06-2.06.94zm-11 1L8.5 8.5l.94-2.06 2.06-.94-2.06-.94L8.5 2.5l-.94 2.06-2.06.94zm10 10l.94 2.06.94-2.06 2.06-.94-2.06-.94-.94-2.06-.94 2.06-2.06.94z\"/><path d=\"M17.41 7.96l-1.37-1.37c-.4-.4-.92-.59-1.43-.59-.52 0-1.04.2-1.43.59L10.3 9.45l-7.72 7.72c-.78.78-.78 2.05 0 2.83L4 21.41c.39.39.9.59 1.41.59.51 0 1.02-.2 1.41-.59l7.78-7.78 2.81-2.81c.8-.78.8-2.07 0-2.86zM5.41 20L4 18.59l7.72-7.72 1.47 1.35L5.41 20z\"/>\n",
              "  </svg>\n",
              "      </button>\n",
              "      \n",
              "  <style>\n",
              "    .colab-df-container {\n",
              "      display:flex;\n",
              "      flex-wrap:wrap;\n",
              "      gap: 12px;\n",
              "    }\n",
              "\n",
              "    .colab-df-convert {\n",
              "      background-color: #E8F0FE;\n",
              "      border: none;\n",
              "      border-radius: 50%;\n",
              "      cursor: pointer;\n",
              "      display: none;\n",
              "      fill: #1967D2;\n",
              "      height: 32px;\n",
              "      padding: 0 0 0 0;\n",
              "      width: 32px;\n",
              "    }\n",
              "\n",
              "    .colab-df-convert:hover {\n",
              "      background-color: #E2EBFA;\n",
              "      box-shadow: 0px 1px 2px rgba(60, 64, 67, 0.3), 0px 1px 3px 1px rgba(60, 64, 67, 0.15);\n",
              "      fill: #174EA6;\n",
              "    }\n",
              "\n",
              "    [theme=dark] .colab-df-convert {\n",
              "      background-color: #3B4455;\n",
              "      fill: #D2E3FC;\n",
              "    }\n",
              "\n",
              "    [theme=dark] .colab-df-convert:hover {\n",
              "      background-color: #434B5C;\n",
              "      box-shadow: 0px 1px 3px 1px rgba(0, 0, 0, 0.15);\n",
              "      filter: drop-shadow(0px 1px 2px rgba(0, 0, 0, 0.3));\n",
              "      fill: #FFFFFF;\n",
              "    }\n",
              "  </style>\n",
              "\n",
              "      <script>\n",
              "        const buttonEl =\n",
              "          document.querySelector('#df-7313e73e-8bfd-4695-95be-1534aee781d0 button.colab-df-convert');\n",
              "        buttonEl.style.display =\n",
              "          google.colab.kernel.accessAllowed ? 'block' : 'none';\n",
              "\n",
              "        async function convertToInteractive(key) {\n",
              "          const element = document.querySelector('#df-7313e73e-8bfd-4695-95be-1534aee781d0');\n",
              "          const dataTable =\n",
              "            await google.colab.kernel.invokeFunction('convertToInteractive',\n",
              "                                                     [key], {});\n",
              "          if (!dataTable) return;\n",
              "\n",
              "          const docLinkHtml = 'Like what you see? Visit the ' +\n",
              "            '<a target=\"_blank\" href=https://colab.research.google.com/notebooks/data_table.ipynb>data table notebook</a>'\n",
              "            + ' to learn more about interactive tables.';\n",
              "          element.innerHTML = '';\n",
              "          dataTable['output_type'] = 'display_data';\n",
              "          await google.colab.output.renderOutput(dataTable, element);\n",
              "          const docLink = document.createElement('div');\n",
              "          docLink.innerHTML = docLinkHtml;\n",
              "          element.appendChild(docLink);\n",
              "        }\n",
              "      </script>\n",
              "    </div>\n",
              "  </div>\n",
              "  "
            ]
          },
          "metadata": {},
          "execution_count": 17
        }
      ]
    },
    {
      "cell_type": "code",
      "source": [
        "data['PreferedOrderCat'].unique()"
      ],
      "metadata": {
        "colab": {
          "base_uri": "https://localhost:8080/"
        },
        "id": "pVvbti2pvQXk",
        "outputId": "4c0fc714-d382-4919-d8d2-37f181cbd263"
      },
      "execution_count": 18,
      "outputs": [
        {
          "output_type": "execute_result",
          "data": {
            "text/plain": [
              "array(['Laptop & Accessory', 'Mobile', 'Mobile Phone', 'Others',\n",
              "       'Fashion', 'Grocery'], dtype=object)"
            ]
          },
          "metadata": {},
          "execution_count": 18
        }
      ]
    },
    {
      "cell_type": "markdown",
      "source": [
        "As we can see, Prefered Order Category column has repetitive values, Mobile and Mobile Phone are same entities."
      ],
      "metadata": {
        "id": "iRRA7l4AJI9F"
      }
    },
    {
      "cell_type": "code",
      "source": [
        "data['PreferedOrderCat'].replace({'Mobile Phone' : 'Mobile'}, inplace = True)"
      ],
      "metadata": {
        "id": "gRpnQGTBvVQX"
      },
      "execution_count": 21,
      "outputs": []
    },
    {
      "cell_type": "code",
      "source": [
        "data['PreferedOrderCat'].unique()"
      ],
      "metadata": {
        "colab": {
          "base_uri": "https://localhost:8080/"
        },
        "id": "oBi8BL5Mvb-1",
        "outputId": "e7590192-a899-4b09-8c47-1a819daf23f8"
      },
      "execution_count": 22,
      "outputs": [
        {
          "output_type": "execute_result",
          "data": {
            "text/plain": [
              "array(['Laptop & Accessory', 'Mobile', 'Others', 'Fashion', 'Grocery'],\n",
              "      dtype=object)"
            ]
          },
          "metadata": {},
          "execution_count": 22
        }
      ]
    },
    {
      "cell_type": "code",
      "source": [
        "def calculate_ratios(ax):\n",
        "  l = len(ax.patches)\n",
        "  cnt = 0\n",
        "  without_churn = []\n",
        "  with_churn = []\n",
        "  for p in ax.patches:\n",
        "    if cnt < l/2:\n",
        "      without_churn.append(p.get_height())\n",
        "    else:\n",
        "      with_churn.append(p.get_height())\n",
        "    cnt += 1;\n",
        "\n",
        "  print(\"without_churn : \", without_churn)\n",
        "  print(\"with_churn : \", with_churn)\n",
        "\n",
        "  ratio = []\n",
        "  for i in range(len(without_churn)):\n",
        "    ratio.append(with_churn[i] / without_churn[i])\n",
        "\n",
        "  print(\"ratio : \", ratio)"
      ],
      "metadata": {
        "id": "HK3oMcu2yinX"
      },
      "execution_count": 23,
      "outputs": []
    },
    {
      "cell_type": "code",
      "source": [
        "ax = sns.countplot(x = data['PreferedOrderCat'], hue = data['Churn'])\n",
        "plt.xticks(rotation = 90)"
      ],
      "metadata": {
        "colab": {
          "base_uri": "https://localhost:8080/",
          "height": 386
        },
        "id": "mMoeBRYQGvAL",
        "outputId": "888348f3-cedc-48f8-cce7-d30fac7f4093"
      },
      "execution_count": 24,
      "outputs": [
        {
          "output_type": "execute_result",
          "data": {
            "text/plain": [
              "(array([0, 1, 2, 3, 4]), <a list of 5 Text major ticklabel objects>)"
            ]
          },
          "metadata": {},
          "execution_count": 24
        },
        {
          "output_type": "display_data",
          "data": {
            "text/plain": [
              "<Figure size 432x288 with 1 Axes>"
            ],
            "image/png": "[encoded data removed]"
          },
          "metadata": {
            "needs_background": "light"
          }
        }
      ]
    },
    {
      "cell_type": "code",
      "source": [
        "calculate_ratios(ax)"
      ],
      "metadata": {
        "colab": {
          "base_uri": "https://localhost:8080/"
        },
        "id": "0xpVo4dg0Bg7",
        "outputId": "57ad0517-562d-4647-82f8-73d8d3cce2d8"
      },
      "execution_count": 25,
      "outputs": [
        {
          "output_type": "stream",
          "name": "stdout",
          "text": [
            "without_churn :  [1840, 1510, 244, 698, 390]\n",
            "with_churn :  [210, 570, 20, 128, 20]\n",
            "ratio :  [0.11413043478260869, 0.37748344370860926, 0.08196721311475409, 0.1833810888252149, 0.05128205128205128]\n"
          ]
        }
      ]
    },
    {
      "cell_type": "markdown",
      "source": [
        "So from the above ratios, we have seen that mobile has the maximum ratio.\n",
        "The customers who churn mostly prefer mobile phones. This means that there is some issue with mobile phones. Either the quality is not good or the services are not good.\n",
        "Maybe customers prefer to buy other things like grocery or laptop in-person."
      ],
      "metadata": {
        "id": "yVH4Xyy7G_Dr"
      }
    },
    {
      "cell_type": "code",
      "source": [
        "plt.figure(figsize = (8, 5))\n",
        "g = sns.countplot(x = data['Gender'], hue = data['Churn'])"
      ],
      "metadata": {
        "colab": {
          "base_uri": "https://localhost:8080/",
          "height": 334
        },
        "id": "sYC1jM6JB2HS",
        "outputId": "5c6a0c28-4472-4733-a9dd-b4260ca393d2"
      },
      "execution_count": 27,
      "outputs": [
        {
          "output_type": "display_data",
          "data": {
            "text/plain": [
              "<Figure size 576x360 with 1 Axes>"
            ],
            "image/png": "[encoded data removed]"
          },
          "metadata": {
            "needs_background": "light"
          }
        }
      ]
    },
    {
      "cell_type": "code",
      "source": [
        "calculate_ratios(g)"
      ],
      "metadata": {
        "colab": {
          "base_uri": "https://localhost:8080/"
        },
        "id": "7_XfKBGHZ0G2",
        "outputId": "6d0cada3-3dd7-4bd8-920e-1d4507eefc13"
      },
      "execution_count": 28,
      "outputs": [
        {
          "output_type": "stream",
          "name": "stdout",
          "text": [
            "without_churn :  [1898, 2784]\n",
            "with_churn :  [348, 600]\n",
            "ratio :  [0.1833508956796628, 0.21551724137931033]\n"
          ]
        }
      ]
    },
    {
      "cell_type": "code",
      "source": [
        "(churning[churning['Gender'] == 'Male'].shape[0] / data[data['Gender'] == 'Male'].shape[0]) * 100"
      ],
      "metadata": {
        "colab": {
          "base_uri": "https://localhost:8080/"
        },
        "id": "oIEkTzuqCJYf",
        "outputId": "036c4de4-fc8c-4906-b189-ab987b19764d"
      },
      "execution_count": 29,
      "outputs": [
        {
          "output_type": "execute_result",
          "data": {
            "text/plain": [
              "17.73049645390071"
            ]
          },
          "metadata": {},
          "execution_count": 29
        }
      ]
    },
    {
      "cell_type": "markdown",
      "source": [
        "Male customers are more likely to churn. On an average almost 18% Male customers churn."
      ],
      "metadata": {
        "id": "cPb5aeTUB87D"
      }
    },
    {
      "cell_type": "code",
      "source": [
        "dev = sns.countplot(x = data['NumberOfDeviceRegistered'], hue = data['Churn'])"
      ],
      "metadata": {
        "colab": {
          "base_uri": "https://localhost:8080/",
          "height": 279
        },
        "id": "dCx0kPvVAcXM",
        "outputId": "2d6564e0-6935-4450-e384-520896c309e7"
      },
      "execution_count": 33,
      "outputs": [
        {
          "output_type": "display_data",
          "data": {
            "text/plain": [
              "<Figure size 432x288 with 1 Axes>"
            ],
            "image/png": "[encoded data removed]"
          },
          "metadata": {
            "needs_background": "light"
          }
        }
      ]
    },
    {
      "cell_type": "code",
      "source": [
        "calculate_ratios(dev)"
      ],
      "metadata": {
        "colab": {
          "base_uri": "https://localhost:8080/"
        },
        "id": "W3nCVuOBaOcM",
        "outputId": "06fdfb3d-6a61-4c02-aec9-c4185764c42c"
      },
      "execution_count": 34,
      "outputs": [
        {
          "output_type": "stream",
          "name": "stdout",
          "text": [
            "without_churn :  [213, 250, 1445, 1985, 683, 106]\n",
            "with_churn :  [22, 26, 254, 392, 198, 56]\n",
            "ratio :  [0.10328638497652583, 0.104, 0.17577854671280277, 0.19748110831234256, 0.28989751098096633, 0.5283018867924528]\n"
          ]
        }
      ]
    },
    {
      "cell_type": "markdown",
      "source": [
        "Customers with more number of registered devices are more likely to churn. May be they are facing some issues with multiple devices or the interface doesn't work properly on different devices. For an E-Commerce website, the interface is very important for user engagement."
      ],
      "metadata": {
        "id": "MEomCt7DAqSc"
      }
    },
    {
      "cell_type": "code",
      "source": [
        "churning['MaritalStatus'].value_counts()"
      ],
      "metadata": {
        "colab": {
          "base_uri": "https://localhost:8080/"
        },
        "id": "tAde3-9p_iZr",
        "outputId": "5adbcded-8a3c-46ad-807a-43939b8f2a7d"
      },
      "execution_count": 35,
      "outputs": [
        {
          "output_type": "execute_result",
          "data": {
            "text/plain": [
              "Single      480\n",
              "Married     344\n",
              "Divorced    124\n",
              "Name: MaritalStatus, dtype: int64"
            ]
          },
          "metadata": {},
          "execution_count": 35
        }
      ]
    },
    {
      "cell_type": "code",
      "source": [
        "status = churning['MaritalStatus'].value_counts().reset_index()"
      ],
      "metadata": {
        "id": "1Mc1zUzL_rO3"
      },
      "execution_count": 36,
      "outputs": []
    },
    {
      "cell_type": "code",
      "source": [
        "status.head()"
      ],
      "metadata": {
        "colab": {
          "base_uri": "https://localhost:8080/",
          "height": 143
        },
        "id": "vA2RSt_M_5Yv",
        "outputId": "c5be7cbb-d98f-4122-8fab-8d12913df465"
      },
      "execution_count": 37,
      "outputs": [
        {
          "output_type": "execute_result",
          "data": {
            "text/plain": [
              "      index  MaritalStatus\n",
              "0    Single            480\n",
              "1   Married            344\n",
              "2  Divorced            124"
            ],
            "text/html": [
              "\n",
              "  <div id=\"df-02b681a1-9582-4b60-9c0d-2cbc449b7d0b\">\n",
              "    <div class=\"colab-df-container\">\n",
              "      <div>\n",
              "<style scoped>\n",
              "    .dataframe tbody tr th:only-of-type {\n",
              "        vertical-align: middle;\n",
              "    }\n",
              "\n",
              "    .dataframe tbody tr th {\n",
              "        vertical-align: top;\n",
              "    }\n",
              "\n",
              "    .dataframe thead th {\n",
              "        text-align: right;\n",
              "    }\n",
              "</style>\n",
              "<table border=\"1\" class=\"dataframe\">\n",
              "  <thead>\n",
              "    <tr style=\"text-align: right;\">\n",
              "      <th></th>\n",
              "      <th>index</th>\n",
              "      <th>MaritalStatus</th>\n",
              "    </tr>\n",
              "  </thead>\n",
              "  <tbody>\n",
              "    <tr>\n",
              "      <th>0</th>\n",
              "      <td>Single</td>\n",
              "      <td>480</td>\n",
              "    </tr>\n",
              "    <tr>\n",
              "      <th>1</th>\n",
              "      <td>Married</td>\n",
              "      <td>344</td>\n",
              "    </tr>\n",
              "    <tr>\n",
              "      <th>2</th>\n",
              "      <td>Divorced</td>\n",
              "      <td>124</td>\n",
              "    </tr>\n",
              "  </tbody>\n",
              "</table>\n",
              "</div>\n",
              "      <button class=\"colab-df-convert\" onclick=\"convertToInteractive('df-02b681a1-9582-4b60-9c0d-2cbc449b7d0b')\"\n",
              "              title=\"Convert this dataframe to an interactive table.\"\n",
              "              style=\"display:none;\">\n",
              "        \n",
              "  <svg xmlns=\"http://www.w3.org/2000/svg\" height=\"24px\"viewBox=\"0 0 24 24\"\n",
              "       width=\"24px\">\n",
              "    <path d=\"M0 0h24v24H0V0z\" fill=\"none\"/>\n",
              "    <path d=\"M18.56 5.44l.94 2.06.94-2.06 2.06-.94-2.06-.94-.94-2.06-.94 2.06-2.06.94zm-11 1L8.5 8.5l.94-2.06 2.06-.94-2.06-.94L8.5 2.5l-.94 2.06-2.06.94zm10 10l.94 2.06.94-2.06 2.06-.94-2.06-.94-.94-2.06-.94 2.06-2.06.94z\"/><path d=\"M17.41 7.96l-1.37-1.37c-.4-.4-.92-.59-1.43-.59-.52 0-1.04.2-1.43.59L10.3 9.45l-7.72 7.72c-.78.78-.78 2.05 0 2.83L4 21.41c.39.39.9.59 1.41.59.51 0 1.02-.2 1.41-.59l7.78-7.78 2.81-2.81c.8-.78.8-2.07 0-2.86zM5.41 20L4 18.59l7.72-7.72 1.47 1.35L5.41 20z\"/>\n",
              "  </svg>\n",
              "      </button>\n",
              "      \n",
              "  <style>\n",
              "    .colab-df-container {\n",
              "      display:flex;\n",
              "      flex-wrap:wrap;\n",
              "      gap: 12px;\n",
              "    }\n",
              "\n",
              "    .colab-df-convert {\n",
              "      background-color: #E8F0FE;\n",
              "      border: none;\n",
              "      border-radius: 50%;\n",
              "      cursor: pointer;\n",
              "      display: none;\n",
              "      fill: #1967D2;\n",
              "      height: 32px;\n",
              "      padding: 0 0 0 0;\n",
              "      width: 32px;\n",
              "    }\n",
              "\n",
              "    .colab-df-convert:hover {\n",
              "      background-color: #E2EBFA;\n",
              "      box-shadow: 0px 1px 2px rgba(60, 64, 67, 0.3), 0px 1px 3px 1px rgba(60, 64, 67, 0.15);\n",
              "      fill: #174EA6;\n",
              "    }\n",
              "\n",
              "    [theme=dark] .colab-df-convert {\n",
              "      background-color: #3B4455;\n",
              "      fill: #D2E3FC;\n",
              "    }\n",
              "\n",
              "    [theme=dark] .colab-df-convert:hover {\n",
              "      background-color: #434B5C;\n",
              "      box-shadow: 0px 1px 3px 1px rgba(0, 0, 0, 0.15);\n",
              "      filter: drop-shadow(0px 1px 2px rgba(0, 0, 0, 0.3));\n",
              "      fill: #FFFFFF;\n",
              "    }\n",
              "  </style>\n",
              "\n",
              "      <script>\n",
              "        const buttonEl =\n",
              "          document.querySelector('#df-02b681a1-9582-4b60-9c0d-2cbc449b7d0b button.colab-df-convert');\n",
              "        buttonEl.style.display =\n",
              "          google.colab.kernel.accessAllowed ? 'block' : 'none';\n",
              "\n",
              "        async function convertToInteractive(key) {\n",
              "          const element = document.querySelector('#df-02b681a1-9582-4b60-9c0d-2cbc449b7d0b');\n",
              "          const dataTable =\n",
              "            await google.colab.kernel.invokeFunction('convertToInteractive',\n",
              "                                                     [key], {});\n",
              "          if (!dataTable) return;\n",
              "\n",
              "          const docLinkHtml = 'Like what you see? Visit the ' +\n",
              "            '<a target=\"_blank\" href=https://colab.research.google.com/notebooks/data_table.ipynb>data table notebook</a>'\n",
              "            + ' to learn more about interactive tables.';\n",
              "          element.innerHTML = '';\n",
              "          dataTable['output_type'] = 'display_data';\n",
              "          await google.colab.output.renderOutput(dataTable, element);\n",
              "          const docLink = document.createElement('div');\n",
              "          docLink.innerHTML = docLinkHtml;\n",
              "          element.appendChild(docLink);\n",
              "        }\n",
              "      </script>\n",
              "    </div>\n",
              "  </div>\n",
              "  "
            ]
          },
          "metadata": {},
          "execution_count": 37
        }
      ]
    },
    {
      "cell_type": "code",
      "source": [
        "status = sns.countplot(x = data['MaritalStatus'], hue = data['Churn'])"
      ],
      "metadata": {
        "colab": {
          "base_uri": "https://localhost:8080/",
          "height": 279
        },
        "id": "a7MddfuL_vF9",
        "outputId": "51e914bd-2252-424f-8895-441ddc22e5a4"
      },
      "execution_count": 38,
      "outputs": [
        {
          "output_type": "display_data",
          "data": {
            "text/plain": [
              "<Figure size 432x288 with 1 Axes>"
            ],
            "image/png": "[encoded data removed]"
          },
          "metadata": {
            "needs_background": "light"
          }
        }
      ]
    },
    {
      "cell_type": "code",
      "source": [
        "calculate_ratios(status)"
      ],
      "metadata": {
        "colab": {
          "base_uri": "https://localhost:8080/"
        },
        "id": "KzYSUP8aa7SS",
        "outputId": "5400f168-4ef8-4f12-8505-33b0ec0ea119"
      },
      "execution_count": 39,
      "outputs": [
        {
          "output_type": "stream",
          "name": "stdout",
          "text": [
            "without_churn :  [1316, 724, 2642]\n",
            "with_churn :  [480, 124, 344]\n",
            "ratio :  [0.364741641337386, 0.1712707182320442, 0.13020439061317185]\n"
          ]
        }
      ]
    },
    {
      "cell_type": "markdown",
      "source": [
        "The customers who are single are more likely to churn. "
      ],
      "metadata": {
        "id": "fjnNGSAmACEl"
      }
    },
    {
      "cell_type": "code",
      "source": [
        "data['PreferredPaymentMode'].unique()"
      ],
      "metadata": {
        "colab": {
          "base_uri": "https://localhost:8080/"
        },
        "id": "hstFPu_FX6G5",
        "outputId": "d56a38c6-bc57-450b-dfb9-c6d732a8a52e"
      },
      "execution_count": 40,
      "outputs": [
        {
          "output_type": "execute_result",
          "data": {
            "text/plain": [
              "array(['Debit Card', 'UPI', 'CC', 'Cash on Delivery', 'E wallet', 'COD',\n",
              "       'Credit Card'], dtype=object)"
            ]
          },
          "metadata": {},
          "execution_count": 40
        }
      ]
    },
    {
      "cell_type": "markdown",
      "source": [
        "We can see that this column has many redundant values, like **CC** and **Credit Card** means the same thing and **COD** and **Cash on Delivery** are same."
      ],
      "metadata": {
        "id": "asdnBQbqX-XT"
      }
    },
    {
      "cell_type": "code",
      "source": [
        "data['PreferredPaymentMode'].replace({'Credit Card':'CC','Cash on Delivery':'COD'}, inplace = True)"
      ],
      "metadata": {
        "id": "vDpq2JChX9KI"
      },
      "execution_count": 41,
      "outputs": []
    },
    {
      "cell_type": "code",
      "source": [
        "data['PreferredPaymentMode'].unique()"
      ],
      "metadata": {
        "colab": {
          "base_uri": "https://localhost:8080/"
        },
        "id": "SvRRCKCQY8Bn",
        "outputId": "91f93c0e-80da-4824-95aa-6ec343d6ebc7"
      },
      "execution_count": 42,
      "outputs": [
        {
          "output_type": "execute_result",
          "data": {
            "text/plain": [
              "array(['Debit Card', 'UPI', 'CC', 'COD', 'E wallet'], dtype=object)"
            ]
          },
          "metadata": {},
          "execution_count": 42
        }
      ]
    },
    {
      "cell_type": "code",
      "source": [
        "payment = sns.barplot(x = data['PreferredPaymentMode'], y = data['Complain'], hue = data['Churn'])\n",
        "plt.xticks(rotation = 90)"
      ],
      "metadata": {
        "colab": {
          "base_uri": "https://localhost:8080/",
          "height": 341
        },
        "id": "BskEzmzy9d28",
        "outputId": "dd755db6-d2e4-4335-e1d4-c9dda51f3f6e"
      },
      "execution_count": 43,
      "outputs": [
        {
          "output_type": "execute_result",
          "data": {
            "text/plain": [
              "(array([0, 1, 2, 3, 4]), <a list of 5 Text major ticklabel objects>)"
            ]
          },
          "metadata": {},
          "execution_count": 43
        },
        {
          "output_type": "display_data",
          "data": {
            "text/plain": [
              "<Figure size 432x288 with 1 Axes>"
            ],
            "image/png": "[encoded data removed]"
          },
          "metadata": {
            "needs_background": "light"
          }
        }
      ]
    },
    {
      "cell_type": "code",
      "source": [
        "calculate_ratios(payment)"
      ],
      "metadata": {
        "colab": {
          "base_uri": "https://localhost:8080/"
        },
        "id": "PdGF6xKUZR7n",
        "outputId": "616365f8-1115-4981-d4a2-93533cf59034"
      },
      "execution_count": 44,
      "outputs": [
        {
          "output_type": "stream",
          "name": "stdout",
          "text": [
            "without_churn :  [0.22676200204290092, 0.2573099415204678, 0.2483574244415243, 0.22279792746113988, 0.2109704641350211]\n",
            "with_churn :  [0.5730337078651685, 0.6111111111111112, 0.5079365079365079, 0.375, 0.6]\n",
            "ratio :  [2.5270270270270268, 2.3750000000000004, 2.0451835055009657, 1.683139534883721, 2.844]\n"
          ]
        }
      ]
    },
    {
      "cell_type": "code",
      "source": [
        "sns.lineplot(x = data['WarehouseToHome'], y = data['Complain'], hue = data['Churn'])"
      ],
      "metadata": {
        "colab": {
          "base_uri": "https://localhost:8080/",
          "height": 297
        },
        "id": "sVPDdoBe6OXI",
        "outputId": "7ad7d0cb-714b-451e-f90c-9ce99af32298"
      },
      "execution_count": 46,
      "outputs": [
        {
          "output_type": "execute_result",
          "data": {
            "text/plain": [
              "<matplotlib.axes._subplots.AxesSubplot at 0x7f3137d36790>"
            ]
          },
          "metadata": {},
          "execution_count": 46
        },
        {
          "output_type": "display_data",
          "data": {
            "text/plain": [
              "<Figure size 432x288 with 1 Axes>"
            ],
            "image/png": "[encoded data removed]"
          },
          "metadata": {
            "needs_background": "light"
          }
        }
      ]
    },
    {
      "cell_type": "markdown",
      "source": [
        "from the above graph, we can see that most of the customers that churn are having more complaints. This shows that the organsation or the company should focus on resolving the customer complaints.\n",
        "We can say that complaints is one of the reasons for customer churn. "
      ],
      "metadata": {
        "id": "46k2v6UE6hT-"
      }
    },
    {
      "cell_type": "code",
      "source": [
        "plt.figure(figsize = (15, 6))\n",
        "sns.histplot(x = data['WarehouseToHome'], hue = data['Churn'], bins = 60)"
      ],
      "metadata": {
        "colab": {
          "base_uri": "https://localhost:8080/",
          "height": 406
        },
        "id": "U1VXqJ6YkK5W",
        "outputId": "16730b3e-cd3f-4444-81ba-149e159af07f"
      },
      "execution_count": 48,
      "outputs": [
        {
          "output_type": "execute_result",
          "data": {
            "text/plain": [
              "<matplotlib.axes._subplots.AxesSubplot at 0x7f3137b902e0>"
            ]
          },
          "metadata": {},
          "execution_count": 48
        },
        {
          "output_type": "display_data",
          "data": {
            "text/plain": [
              "<Figure size 1080x432 with 1 Axes>"
            ],
            "image/png": "[encoded data removed]"
          },
          "metadata": {
            "needs_background": "light"
          }
        }
      ]
    },
    {
      "cell_type": "code",
      "source": [
        "\n",
        "order = data['PreferedOrderCat'].value_counts().reset_index()"
      ],
      "metadata": {
        "id": "jaJQyBy9kzni"
      },
      "execution_count": 49,
      "outputs": []
    },
    {
      "cell_type": "code",
      "source": [
        "order"
      ],
      "metadata": {
        "colab": {
          "base_uri": "https://localhost:8080/",
          "height": 206
        },
        "id": "nFpn754u5prs",
        "outputId": "ec050019-4214-46d7-df70-ae9a00cdf5b0"
      },
      "execution_count": 50,
      "outputs": [
        {
          "output_type": "execute_result",
          "data": {
            "text/plain": [
              "                index  PreferedOrderCat\n",
              "0              Mobile              2080\n",
              "1  Laptop & Accessory              2050\n",
              "2             Fashion               826\n",
              "3             Grocery               410\n",
              "4              Others               264"
            ],
            "text/html": [
              "\n",
              "  <div id=\"df-b1848535-0634-4c34-8160-6fe08056da77\">\n",
              "    <div class=\"colab-df-container\">\n",
              "      <div>\n",
              "<style scoped>\n",
              "    .dataframe tbody tr th:only-of-type {\n",
              "        vertical-align: middle;\n",
              "    }\n",
              "\n",
              "    .dataframe tbody tr th {\n",
              "        vertical-align: top;\n",
              "    }\n",
              "\n",
              "    .dataframe thead th {\n",
              "        text-align: right;\n",
              "    }\n",
              "</style>\n",
              "<table border=\"1\" class=\"dataframe\">\n",
              "  <thead>\n",
              "    <tr style=\"text-align: right;\">\n",
              "      <th></th>\n",
              "      <th>index</th>\n",
              "      <th>PreferedOrderCat</th>\n",
              "    </tr>\n",
              "  </thead>\n",
              "  <tbody>\n",
              "    <tr>\n",
              "      <th>0</th>\n",
              "      <td>Mobile</td>\n",
              "      <td>2080</td>\n",
              "    </tr>\n",
              "    <tr>\n",
              "      <th>1</th>\n",
              "      <td>Laptop &amp; Accessory</td>\n",
              "      <td>2050</td>\n",
              "    </tr>\n",
              "    <tr>\n",
              "      <th>2</th>\n",
              "      <td>Fashion</td>\n",
              "      <td>826</td>\n",
              "    </tr>\n",
              "    <tr>\n",
              "      <th>3</th>\n",
              "      <td>Grocery</td>\n",
              "      <td>410</td>\n",
              "    </tr>\n",
              "    <tr>\n",
              "      <th>4</th>\n",
              "      <td>Others</td>\n",
              "      <td>264</td>\n",
              "    </tr>\n",
              "  </tbody>\n",
              "</table>\n",
              "</div>\n",
              "      <button class=\"colab-df-convert\" onclick=\"convertToInteractive('df-b1848535-0634-4c34-8160-6fe08056da77')\"\n",
              "              title=\"Convert this dataframe to an interactive table.\"\n",
              "              style=\"display:none;\">\n",
              "        \n",
              "  <svg xmlns=\"http://www.w3.org/2000/svg\" height=\"24px\"viewBox=\"0 0 24 24\"\n",
              "       width=\"24px\">\n",
              "    <path d=\"M0 0h24v24H0V0z\" fill=\"none\"/>\n",
              "    <path d=\"M18.56 5.44l.94 2.06.94-2.06 2.06-.94-2.06-.94-.94-2.06-.94 2.06-2.06.94zm-11 1L8.5 8.5l.94-2.06 2.06-.94-2.06-.94L8.5 2.5l-.94 2.06-2.06.94zm10 10l.94 2.06.94-2.06 2.06-.94-2.06-.94-.94-2.06-.94 2.06-2.06.94z\"/><path d=\"M17.41 7.96l-1.37-1.37c-.4-.4-.92-.59-1.43-.59-.52 0-1.04.2-1.43.59L10.3 9.45l-7.72 7.72c-.78.78-.78 2.05 0 2.83L4 21.41c.39.39.9.59 1.41.59.51 0 1.02-.2 1.41-.59l7.78-7.78 2.81-2.81c.8-.78.8-2.07 0-2.86zM5.41 20L4 18.59l7.72-7.72 1.47 1.35L5.41 20z\"/>\n",
              "  </svg>\n",
              "      </button>\n",
              "      \n",
              "  <style>\n",
              "    .colab-df-container {\n",
              "      display:flex;\n",
              "      flex-wrap:wrap;\n",
              "      gap: 12px;\n",
              "    }\n",
              "\n",
              "    .colab-df-convert {\n",
              "      background-color: #E8F0FE;\n",
              "      border: none;\n",
              "      border-radius: 50%;\n",
              "      cursor: pointer;\n",
              "      display: none;\n",
              "      fill: #1967D2;\n",
              "      height: 32px;\n",
              "      padding: 0 0 0 0;\n",
              "      width: 32px;\n",
              "    }\n",
              "\n",
              "    .colab-df-convert:hover {\n",
              "      background-color: #E2EBFA;\n",
              "      box-shadow: 0px 1px 2px rgba(60, 64, 67, 0.3), 0px 1px 3px 1px rgba(60, 64, 67, 0.15);\n",
              "      fill: #174EA6;\n",
              "    }\n",
              "\n",
              "    [theme=dark] .colab-df-convert {\n",
              "      background-color: #3B4455;\n",
              "      fill: #D2E3FC;\n",
              "    }\n",
              "\n",
              "    [theme=dark] .colab-df-convert:hover {\n",
              "      background-color: #434B5C;\n",
              "      box-shadow: 0px 1px 3px 1px rgba(0, 0, 0, 0.15);\n",
              "      filter: drop-shadow(0px 1px 2px rgba(0, 0, 0, 0.3));\n",
              "      fill: #FFFFFF;\n",
              "    }\n",
              "  </style>\n",
              "\n",
              "      <script>\n",
              "        const buttonEl =\n",
              "          document.querySelector('#df-b1848535-0634-4c34-8160-6fe08056da77 button.colab-df-convert');\n",
              "        buttonEl.style.display =\n",
              "          google.colab.kernel.accessAllowed ? 'block' : 'none';\n",
              "\n",
              "        async function convertToInteractive(key) {\n",
              "          const element = document.querySelector('#df-b1848535-0634-4c34-8160-6fe08056da77');\n",
              "          const dataTable =\n",
              "            await google.colab.kernel.invokeFunction('convertToInteractive',\n",
              "                                                     [key], {});\n",
              "          if (!dataTable) return;\n",
              "\n",
              "          const docLinkHtml = 'Like what you see? Visit the ' +\n",
              "            '<a target=\"_blank\" href=https://colab.research.google.com/notebooks/data_table.ipynb>data table notebook</a>'\n",
              "            + ' to learn more about interactive tables.';\n",
              "          element.innerHTML = '';\n",
              "          dataTable['output_type'] = 'display_data';\n",
              "          await google.colab.output.renderOutput(dataTable, element);\n",
              "          const docLink = document.createElement('div');\n",
              "          docLink.innerHTML = docLinkHtml;\n",
              "          element.appendChild(docLink);\n",
              "        }\n",
              "      </script>\n",
              "    </div>\n",
              "  </div>\n",
              "  "
            ]
          },
          "metadata": {},
          "execution_count": 50
        }
      ]
    },
    {
      "cell_type": "code",
      "source": [
        "sns.barplot(x = order['PreferedOrderCat'], y = order['index'])"
      ],
      "metadata": {
        "colab": {
          "base_uri": "https://localhost:8080/",
          "height": 297
        },
        "id": "OS6kd7M_5vUA",
        "outputId": "9772e85b-c647-451f-8b35-cbe5cdc60e19"
      },
      "execution_count": 51,
      "outputs": [
        {
          "output_type": "execute_result",
          "data": {
            "text/plain": [
              "<matplotlib.axes._subplots.AxesSubplot at 0x7f3137b06820>"
            ]
          },
          "metadata": {},
          "execution_count": 51
        },
        {
          "output_type": "display_data",
          "data": {
            "text/plain": [
              "<Figure size 432x288 with 1 Axes>"
            ],
            "image/png": "[encoded data removed]"
          },
          "metadata": {
            "needs_background": "light"
          }
        }
      ]
    },
    {
      "cell_type": "markdown",
      "source": [
        "From the above the graph, we can see that the preferred category is Laptop and Accessory."
      ],
      "metadata": {
        "id": "8AczJmUl58SZ"
      }
    },
    {
      "cell_type": "code",
      "source": [
        "sns.lineplot(x = data['SatisfactionScore'], y = data['CashbackAmount'])"
      ],
      "metadata": {
        "colab": {
          "base_uri": "https://localhost:8080/",
          "height": 297
        },
        "id": "ORzvRStkphGu",
        "outputId": "bc489af5-e289-49ea-ca75-d5807968443e"
      },
      "execution_count": 52,
      "outputs": [
        {
          "output_type": "execute_result",
          "data": {
            "text/plain": [
              "<matplotlib.axes._subplots.AxesSubplot at 0x7f3137b9d190>"
            ]
          },
          "metadata": {},
          "execution_count": 52
        },
        {
          "output_type": "display_data",
          "data": {
            "text/plain": [
              "<Figure size 432x288 with 1 Axes>"
            ],
            "image/png": "[encoded data removed]"
          },
          "metadata": {
            "needs_background": "light"
          }
        }
      ]
    },
    {
      "cell_type": "markdown",
      "source": [
        "from this graph, we can understand that cashback amount is not directly related to satisfaction score."
      ],
      "metadata": {
        "id": "q2ytP_01p7wq"
      }
    },
    {
      "cell_type": "code",
      "source": [
        "data.groupby(['Gender']).aggregate(np.mean)['HourSpendOnApp']"
      ],
      "metadata": {
        "colab": {
          "base_uri": "https://localhost:8080/"
        },
        "id": "dtYpQBq8pEzF",
        "outputId": "d14c71f3-6889-44d9-ab5e-0084e7518f40"
      },
      "execution_count": 53,
      "outputs": [
        {
          "output_type": "execute_result",
          "data": {
            "text/plain": [
              "Gender\n",
              "Female    2.948076\n",
              "Male      2.920447\n",
              "Name: HourSpendOnApp, dtype: float64"
            ]
          },
          "metadata": {},
          "execution_count": 53
        }
      ]
    },
    {
      "cell_type": "code",
      "source": [
        "sns.barplot(x = data['Gender'], y = data['HourSpendOnApp'])"
      ],
      "metadata": {
        "colab": {
          "base_uri": "https://localhost:8080/",
          "height": 297
        },
        "id": "uAwo0PDno5oz",
        "outputId": "b7f4a2cf-98ff-4053-98f0-5a2548dfa113"
      },
      "execution_count": 54,
      "outputs": [
        {
          "output_type": "execute_result",
          "data": {
            "text/plain": [
              "<matplotlib.axes._subplots.AxesSubplot at 0x7f3137e04b50>"
            ]
          },
          "metadata": {},
          "execution_count": 54
        },
        {
          "output_type": "display_data",
          "data": {
            "text/plain": [
              "<Figure size 432x288 with 1 Axes>"
            ],
            "image/png": "[encoded data removed]"
          },
          "metadata": {
            "needs_background": "light"
          }
        }
      ]
    },
    {
      "cell_type": "markdown",
      "source": [
        "nearly both men and women use the app for the same time, so no gender bias"
      ],
      "metadata": {
        "id": "grHHxzzApZNQ"
      }
    },
    {
      "cell_type": "code",
      "source": [
        "data['CityTier'].unique()"
      ],
      "metadata": {
        "colab": {
          "base_uri": "https://localhost:8080/"
        },
        "id": "gjhq1E7fm9Wc",
        "outputId": "8575da39-bfeb-4dda-b2e8-60599f1b7ddc"
      },
      "execution_count": 55,
      "outputs": [
        {
          "output_type": "execute_result",
          "data": {
            "text/plain": [
              "array([3, 1, 2])"
            ]
          },
          "metadata": {},
          "execution_count": 55
        }
      ]
    },
    {
      "cell_type": "code",
      "source": [
        "data.groupby(['CityTier']).aggregate(np.sum)['OrderAmountHikeFromlastYear']"
      ],
      "metadata": {
        "colab": {
          "base_uri": "https://localhost:8080/"
        },
        "id": "wXqsjnH4nnC1",
        "outputId": "e59d2162-9aed-40e9-9305-1f84adfc8827"
      },
      "execution_count": 56,
      "outputs": [
        {
          "output_type": "execute_result",
          "data": {
            "text/plain": [
              "CityTier\n",
              "1    54921.0\n",
              "2     3322.0\n",
              "3    26030.0\n",
              "Name: OrderAmountHikeFromlastYear, dtype: float64"
            ]
          },
          "metadata": {},
          "execution_count": 56
        }
      ]
    },
    {
      "cell_type": "code",
      "source": [
        "sns.barplot(x = data['CityTier'], y = data['OrderAmountHikeFromlastYear'])"
      ],
      "metadata": {
        "colab": {
          "base_uri": "https://localhost:8080/",
          "height": 297
        },
        "id": "cpf8_dxznCHL",
        "outputId": "01f18795-59c4-400f-e501-86764fd7ba2f"
      },
      "execution_count": 57,
      "outputs": [
        {
          "output_type": "execute_result",
          "data": {
            "text/plain": [
              "<matplotlib.axes._subplots.AxesSubplot at 0x7f3137f5a790>"
            ]
          },
          "metadata": {},
          "execution_count": 57
        },
        {
          "output_type": "display_data",
          "data": {
            "text/plain": [
              "<Figure size 432x288 with 1 Axes>"
            ],
            "image/png": "[encoded data removed]"
          },
          "metadata": {
            "needs_background": "light"
          }
        }
      ]
    },
    {
      "cell_type": "markdown",
      "source": [
        "maximum amount hike happened through tier 1 city"
      ],
      "metadata": {
        "id": "FMbj94wForPJ"
      }
    },
    {
      "cell_type": "code",
      "source": [
        "payment_mode = data['PreferredPaymentMode'].value_counts().reset_index()"
      ],
      "metadata": {
        "id": "XZ_zafBlmPo-"
      },
      "execution_count": 58,
      "outputs": []
    },
    {
      "cell_type": "code",
      "source": [
        "payment_mode"
      ],
      "metadata": {
        "colab": {
          "base_uri": "https://localhost:8080/",
          "height": 206
        },
        "id": "QyWYl_1bmWqO",
        "outputId": "1061956a-6e64-4d97-a828-fd74c739262e"
      },
      "execution_count": 59,
      "outputs": [
        {
          "output_type": "execute_result",
          "data": {
            "text/plain": [
              "        index  PreferredPaymentMode\n",
              "0  Debit Card                  2314\n",
              "1          CC                  1774\n",
              "2    E wallet                   614\n",
              "3         COD                   514\n",
              "4         UPI                   414"
            ],
            "text/html": [
              "\n",
              "  <div id=\"df-e6f079a9-08c1-46ee-8239-9491fbf5b311\">\n",
              "    <div class=\"colab-df-container\">\n",
              "      <div>\n",
              "<style scoped>\n",
              "    .dataframe tbody tr th:only-of-type {\n",
              "        vertical-align: middle;\n",
              "    }\n",
              "\n",
              "    .dataframe tbody tr th {\n",
              "        vertical-align: top;\n",
              "    }\n",
              "\n",
              "    .dataframe thead th {\n",
              "        text-align: right;\n",
              "    }\n",
              "</style>\n",
              "<table border=\"1\" class=\"dataframe\">\n",
              "  <thead>\n",
              "    <tr style=\"text-align: right;\">\n",
              "      <th></th>\n",
              "      <th>index</th>\n",
              "      <th>PreferredPaymentMode</th>\n",
              "    </tr>\n",
              "  </thead>\n",
              "  <tbody>\n",
              "    <tr>\n",
              "      <th>0</th>\n",
              "      <td>Debit Card</td>\n",
              "      <td>2314</td>\n",
              "    </tr>\n",
              "    <tr>\n",
              "      <th>1</th>\n",
              "      <td>CC</td>\n",
              "      <td>1774</td>\n",
              "    </tr>\n",
              "    <tr>\n",
              "      <th>2</th>\n",
              "      <td>E wallet</td>\n",
              "      <td>614</td>\n",
              "    </tr>\n",
              "    <tr>\n",
              "      <th>3</th>\n",
              "      <td>COD</td>\n",
              "      <td>514</td>\n",
              "    </tr>\n",
              "    <tr>\n",
              "      <th>4</th>\n",
              "      <td>UPI</td>\n",
              "      <td>414</td>\n",
              "    </tr>\n",
              "  </tbody>\n",
              "</table>\n",
              "</div>\n",
              "      <button class=\"colab-df-convert\" onclick=\"convertToInteractive('df-e6f079a9-08c1-46ee-8239-9491fbf5b311')\"\n",
              "              title=\"Convert this dataframe to an interactive table.\"\n",
              "              style=\"display:none;\">\n",
              "        \n",
              "  <svg xmlns=\"http://www.w3.org/2000/svg\" height=\"24px\"viewBox=\"0 0 24 24\"\n",
              "       width=\"24px\">\n",
              "    <path d=\"M0 0h24v24H0V0z\" fill=\"none\"/>\n",
              "    <path d=\"M18.56 5.44l.94 2.06.94-2.06 2.06-.94-2.06-.94-.94-2.06-.94 2.06-2.06.94zm-11 1L8.5 8.5l.94-2.06 2.06-.94-2.06-.94L8.5 2.5l-.94 2.06-2.06.94zm10 10l.94 2.06.94-2.06 2.06-.94-2.06-.94-.94-2.06-.94 2.06-2.06.94z\"/><path d=\"M17.41 7.96l-1.37-1.37c-.4-.4-.92-.59-1.43-.59-.52 0-1.04.2-1.43.59L10.3 9.45l-7.72 7.72c-.78.78-.78 2.05 0 2.83L4 21.41c.39.39.9.59 1.41.59.51 0 1.02-.2 1.41-.59l7.78-7.78 2.81-2.81c.8-.78.8-2.07 0-2.86zM5.41 20L4 18.59l7.72-7.72 1.47 1.35L5.41 20z\"/>\n",
              "  </svg>\n",
              "      </button>\n",
              "      \n",
              "  <style>\n",
              "    .colab-df-container {\n",
              "      display:flex;\n",
              "      flex-wrap:wrap;\n",
              "      gap: 12px;\n",
              "    }\n",
              "\n",
              "    .colab-df-convert {\n",
              "      background-color: #E8F0FE;\n",
              "      border: none;\n",
              "      border-radius: 50%;\n",
              "      cursor: pointer;\n",
              "      display: none;\n",
              "      fill: #1967D2;\n",
              "      height: 32px;\n",
              "      padding: 0 0 0 0;\n",
              "      width: 32px;\n",
              "    }\n",
              "\n",
              "    .colab-df-convert:hover {\n",
              "      background-color: #E2EBFA;\n",
              "      box-shadow: 0px 1px 2px rgba(60, 64, 67, 0.3), 0px 1px 3px 1px rgba(60, 64, 67, 0.15);\n",
              "      fill: #174EA6;\n",
              "    }\n",
              "\n",
              "    [theme=dark] .colab-df-convert {\n",
              "      background-color: #3B4455;\n",
              "      fill: #D2E3FC;\n",
              "    }\n",
              "\n",
              "    [theme=dark] .colab-df-convert:hover {\n",
              "      background-color: #434B5C;\n",
              "      box-shadow: 0px 1px 3px 1px rgba(0, 0, 0, 0.15);\n",
              "      filter: drop-shadow(0px 1px 2px rgba(0, 0, 0, 0.3));\n",
              "      fill: #FFFFFF;\n",
              "    }\n",
              "  </style>\n",
              "\n",
              "      <script>\n",
              "        const buttonEl =\n",
              "          document.querySelector('#df-e6f079a9-08c1-46ee-8239-9491fbf5b311 button.colab-df-convert');\n",
              "        buttonEl.style.display =\n",
              "          google.colab.kernel.accessAllowed ? 'block' : 'none';\n",
              "\n",
              "        async function convertToInteractive(key) {\n",
              "          const element = document.querySelector('#df-e6f079a9-08c1-46ee-8239-9491fbf5b311');\n",
              "          const dataTable =\n",
              "            await google.colab.kernel.invokeFunction('convertToInteractive',\n",
              "                                                     [key], {});\n",
              "          if (!dataTable) return;\n",
              "\n",
              "          const docLinkHtml = 'Like what you see? Visit the ' +\n",
              "            '<a target=\"_blank\" href=https://colab.research.google.com/notebooks/data_table.ipynb>data table notebook</a>'\n",
              "            + ' to learn more about interactive tables.';\n",
              "          element.innerHTML = '';\n",
              "          dataTable['output_type'] = 'display_data';\n",
              "          await google.colab.output.renderOutput(dataTable, element);\n",
              "          const docLink = document.createElement('div');\n",
              "          docLink.innerHTML = docLinkHtml;\n",
              "          element.appendChild(docLink);\n",
              "        }\n",
              "      </script>\n",
              "    </div>\n",
              "  </div>\n",
              "  "
            ]
          },
          "metadata": {},
          "execution_count": 59
        }
      ]
    },
    {
      "cell_type": "code",
      "source": [
        "sns.barplot(x = payment_mode['PreferredPaymentMode'], y = payment_mode['index'])"
      ],
      "metadata": {
        "colab": {
          "base_uri": "https://localhost:8080/",
          "height": 297
        },
        "id": "9hHpxf7kmf1f",
        "outputId": "e4544896-1221-4515-c6e9-85370e7a0cf7"
      },
      "execution_count": 60,
      "outputs": [
        {
          "output_type": "execute_result",
          "data": {
            "text/plain": [
              "<matplotlib.axes._subplots.AxesSubplot at 0x7f31380686a0>"
            ]
          },
          "metadata": {},
          "execution_count": 60
        },
        {
          "output_type": "display_data",
          "data": {
            "text/plain": [
              "<Figure size 432x288 with 1 Axes>"
            ],
            "image/png": "[encoded data removed]"
          },
          "metadata": {
            "needs_background": "light"
          }
        }
      ]
    },
    {
      "cell_type": "markdown",
      "source": [
        "people prefer to pay using debit card"
      ],
      "metadata": {
        "id": "1ckCopfjmwJe"
      }
    },
    {
      "cell_type": "code",
      "source": [
        "sns.lineplot(x = data['Complain'], y = data['SatisfactionScore'])"
      ],
      "metadata": {
        "colab": {
          "base_uri": "https://localhost:8080/",
          "height": 297
        },
        "id": "m1ZTNMK4k6qP",
        "outputId": "5320a044-4c4f-4b71-d084-dd016a3564aa"
      },
      "execution_count": 61,
      "outputs": [
        {
          "output_type": "execute_result",
          "data": {
            "text/plain": [
              "<matplotlib.axes._subplots.AxesSubplot at 0x7f3137899d00>"
            ]
          },
          "metadata": {},
          "execution_count": 61
        },
        {
          "output_type": "display_data",
          "data": {
            "text/plain": [
              "<Figure size 432x288 with 1 Axes>"
            ],
            "image/png": "[encoded data removed]"
          },
          "metadata": {
            "needs_background": "light"
          }
        }
      ]
    },
    {
      "cell_type": "markdown",
      "source": [
        "When complaints are less, then the satisfaction score is more. This means customers with more complaints have less satisfaction score and the organisation need to resolve the issues of these customers to increase the\n",
        "satisfaction score."
      ],
      "metadata": {
        "id": "JtGdj8WglYym"
      }
    },
    {
      "cell_type": "code",
      "source": [
        "sns.lineplot(x = data['WarehouseToHome'], y = data['SatisfactionScore'])"
      ],
      "metadata": {
        "colab": {
          "base_uri": "https://localhost:8080/",
          "height": 297
        },
        "id": "dlSnR_1bj2d6",
        "outputId": "21975fff-1191-4c2c-e943-14ab65c29408"
      },
      "execution_count": 62,
      "outputs": [
        {
          "output_type": "execute_result",
          "data": {
            "text/plain": [
              "<matplotlib.axes._subplots.AxesSubplot at 0x7f313787d250>"
            ]
          },
          "metadata": {},
          "execution_count": 62
        },
        {
          "output_type": "display_data",
          "data": {
            "text/plain": [
              "<Figure size 432x288 with 1 Axes>"
            ],
            "image/png": "[encoded data removed]"
          },
          "metadata": {
            "needs_background": "light"
          }
        }
      ]
    },
    {
      "cell_type": "markdown",
      "source": [
        "as the distance increases the satisfaction score reduces, this means that we can setup warehouses such that it is closer to maximum number of customers. Or group the customers and then set up new warehosues on the basis of satisfaction score."
      ],
      "metadata": {
        "id": "j8-KMcV_kYkd"
      }
    },
    {
      "cell_type": "code",
      "source": [
        "sns.lineplot(x = data['WarehouseToHome'], y = data['Complain'])"
      ],
      "metadata": {
        "colab": {
          "base_uri": "https://localhost:8080/",
          "height": 297
        },
        "id": "6gZ3-P_td4FK",
        "outputId": "95490fb1-0ffe-4c31-e5d3-213b51538318"
      },
      "execution_count": 63,
      "outputs": [
        {
          "output_type": "execute_result",
          "data": {
            "text/plain": [
              "<matplotlib.axes._subplots.AxesSubplot at 0x7f31377db220>"
            ]
          },
          "metadata": {},
          "execution_count": 63
        },
        {
          "output_type": "display_data",
          "data": {
            "text/plain": [
              "<Figure size 432x288 with 1 Axes>"
            ],
            "image/png": "[encoded data removed]"
          },
          "metadata": {
            "needs_background": "light"
          }
        }
      ]
    },
    {
      "cell_type": "code",
      "source": [
        "sns.histplot(x = data['OrderAmountHikeFromlastYear'])"
      ],
      "metadata": {
        "colab": {
          "base_uri": "https://localhost:8080/",
          "height": 297
        },
        "id": "8QBbNGLxwzs9",
        "outputId": "cd410046-a899-4658-8b89-82f32925907e"
      },
      "execution_count": 64,
      "outputs": [
        {
          "output_type": "execute_result",
          "data": {
            "text/plain": [
              "<matplotlib.axes._subplots.AxesSubplot at 0x7f31377b7310>"
            ]
          },
          "metadata": {},
          "execution_count": 64
        },
        {
          "output_type": "display_data",
          "data": {
            "text/plain": [
              "<Figure size 432x288 with 1 Axes>"
            ],
            "image/png": "[encoded data removed]"
          },
          "metadata": {
            "needs_background": "light"
          }
        }
      ]
    },
    {
      "cell_type": "markdown",
      "source": [
        "From the graph, we can understand that the maximum hike last year was around 12-14%."
      ],
      "metadata": {
        "id": "li6rGFBSy0Hj"
      }
    },
    {
      "cell_type": "code",
      "source": [
        "data['OrderAmountHikeFromlastYear'].value_counts()"
      ],
      "metadata": {
        "colab": {
          "base_uri": "https://localhost:8080/"
        },
        "id": "G-iiGv_rytYu",
        "outputId": "b38647aa-76e9-4614-f4c9-5dd44f16ab7d"
      },
      "execution_count": 65,
      "outputs": [
        {
          "output_type": "execute_result",
          "data": {
            "text/plain": [
              "14.0    750\n",
              "13.0    741\n",
              "12.0    728\n",
              "15.0    542\n",
              "11.0    391\n",
              "16.0    333\n",
              "18.0    321\n",
              "19.0    311\n",
              "17.0    297\n",
              "20.0    243\n",
              "21.0    190\n",
              "22.0    184\n",
              "23.0    144\n",
              "24.0     84\n",
              "25.0     73\n",
              "26.0     33\n",
              "Name: OrderAmountHikeFromlastYear, dtype: int64"
            ]
          },
          "metadata": {},
          "execution_count": 65
        }
      ]
    },
    {
      "cell_type": "code",
      "source": [
        "sns.histplot(x = data['OrderAmountHikeFromlastYear'], hue = data['Churn'])"
      ],
      "metadata": {
        "colab": {
          "base_uri": "https://localhost:8080/",
          "height": 297
        },
        "id": "D7YGGghbzTqv",
        "outputId": "03d66aa7-160d-48e1-c4bb-1251ba9eb18a"
      },
      "execution_count": 66,
      "outputs": [
        {
          "output_type": "execute_result",
          "data": {
            "text/plain": [
              "<matplotlib.axes._subplots.AxesSubplot at 0x7f31376da820>"
            ]
          },
          "metadata": {},
          "execution_count": 66
        },
        {
          "output_type": "display_data",
          "data": {
            "text/plain": [
              "<Figure size 432x288 with 1 Axes>"
            ],
            "image/png": "[encoded data removed]"
          },
          "metadata": {
            "needs_background": "light"
          }
        }
      ]
    },
    {
      "cell_type": "code",
      "source": [
        "data['PreferredLoginDevice'].unique()"
      ],
      "metadata": {
        "colab": {
          "base_uri": "https://localhost:8080/"
        },
        "id": "ElbjI8vmybzt",
        "outputId": "e3535b24-6ad2-47f2-ec36-7818a8adb8f3"
      },
      "execution_count": 67,
      "outputs": [
        {
          "output_type": "execute_result",
          "data": {
            "text/plain": [
              "array(['Mobile Phone', 'Phone', 'Computer'], dtype=object)"
            ]
          },
          "metadata": {},
          "execution_count": 67
        }
      ]
    },
    {
      "cell_type": "markdown",
      "source": [
        "This column has repetitive values, Mobile phone and Phone means the same thing."
      ],
      "metadata": {
        "id": "EdgZoe061Fcj"
      }
    },
    {
      "cell_type": "code",
      "source": [
        "data['PreferredLoginDevice'] = data['PreferredLoginDevice'].replace({'Phone':'Mobile Phone'})"
      ],
      "metadata": {
        "id": "9R3OYPpz0wYI"
      },
      "execution_count": 68,
      "outputs": []
    },
    {
      "cell_type": "markdown",
      "source": [
        "Replaced the Phone with mobile phone"
      ],
      "metadata": {
        "id": "9MrdTWTR1tta"
      }
    },
    {
      "cell_type": "code",
      "source": [
        "data['PreferredLoginDevice'].unique()"
      ],
      "metadata": {
        "colab": {
          "base_uri": "https://localhost:8080/"
        },
        "id": "z2TiDErT1cET",
        "outputId": "e50c1c64-7030-4f52-92ac-d253dc45079e"
      },
      "execution_count": 69,
      "outputs": [
        {
          "output_type": "execute_result",
          "data": {
            "text/plain": [
              "array(['Mobile Phone', 'Computer'], dtype=object)"
            ]
          },
          "metadata": {},
          "execution_count": 69
        }
      ]
    },
    {
      "cell_type": "code",
      "source": [
        "data['PreferredLoginDevice'].value_counts()"
      ],
      "metadata": {
        "colab": {
          "base_uri": "https://localhost:8080/"
        },
        "id": "1IKqvWMp1hgj",
        "outputId": "b55b4d37-9731-40c9-becb-b3eccea08dbd"
      },
      "execution_count": 70,
      "outputs": [
        {
          "output_type": "execute_result",
          "data": {
            "text/plain": [
              "Mobile Phone    3996\n",
              "Computer        1634\n",
              "Name: PreferredLoginDevice, dtype: int64"
            ]
          },
          "metadata": {},
          "execution_count": 70
        }
      ]
    },
    {
      "cell_type": "code",
      "source": [
        "sns.countplot(x = data['PreferredLoginDevice'])"
      ],
      "metadata": {
        "colab": {
          "base_uri": "https://localhost:8080/",
          "height": 297
        },
        "id": "9hSLTYU81meb",
        "outputId": "9809555d-2d07-4cac-c749-1d10bdc70734"
      },
      "execution_count": 71,
      "outputs": [
        {
          "output_type": "execute_result",
          "data": {
            "text/plain": [
              "<matplotlib.axes._subplots.AxesSubplot at 0x7f31379a46a0>"
            ]
          },
          "metadata": {},
          "execution_count": 71
        },
        {
          "output_type": "display_data",
          "data": {
            "text/plain": [
              "<Figure size 432x288 with 1 Axes>"
            ],
            "image/png": "[encoded data removed]"
          },
          "metadata": {
            "needs_background": "light"
          }
        }
      ]
    },
    {
      "cell_type": "markdown",
      "source": [
        "From the above graph, we can understand that most of the customers are mobile phone users."
      ],
      "metadata": {
        "id": "whLhqeTv2Dly"
      }
    },
    {
      "cell_type": "code",
      "source": [
        "data['CouponUsed']"
      ],
      "metadata": {
        "colab": {
          "base_uri": "https://localhost:8080/"
        },
        "id": "HG6fvmNm18ap",
        "outputId": "a96a2e8b-58b1-4912-8a68-8c489c2fb1cc"
      },
      "execution_count": 72,
      "outputs": [
        {
          "output_type": "execute_result",
          "data": {
            "text/plain": [
              "0       1.0\n",
              "1       0.0\n",
              "2       0.0\n",
              "3       0.0\n",
              "4       1.0\n",
              "       ... \n",
              "5625    1.0\n",
              "5626    1.0\n",
              "5627    1.0\n",
              "5628    2.0\n",
              "5629    2.0\n",
              "Name: CouponUsed, Length: 5630, dtype: float64"
            ]
          },
          "metadata": {},
          "execution_count": 72
        }
      ]
    },
    {
      "cell_type": "code",
      "source": [
        "data['CouponUsed'].value_counts()"
      ],
      "metadata": {
        "colab": {
          "base_uri": "https://localhost:8080/"
        },
        "id": "0dFI2lxY2jsH",
        "outputId": "3f086e9a-362a-48da-f827-28be64a295e1"
      },
      "execution_count": 73,
      "outputs": [
        {
          "output_type": "execute_result",
          "data": {
            "text/plain": [
              "1.0     2105\n",
              "2.0     1283\n",
              "0.0     1030\n",
              "3.0      327\n",
              "4.0      197\n",
              "5.0      129\n",
              "6.0      108\n",
              "7.0       89\n",
              "8.0       42\n",
              "10.0      14\n",
              "9.0       13\n",
              "11.0      12\n",
              "12.0       9\n",
              "13.0       8\n",
              "14.0       5\n",
              "16.0       2\n",
              "15.0       1\n",
              "Name: CouponUsed, dtype: int64"
            ]
          },
          "metadata": {},
          "execution_count": 73
        }
      ]
    },
    {
      "cell_type": "code",
      "source": [
        "sns.histplot(x = data['CouponUsed'], bins = 20)"
      ],
      "metadata": {
        "colab": {
          "base_uri": "https://localhost:8080/",
          "height": 297
        },
        "id": "heQXpJ9l2lsH",
        "outputId": "c02f5c87-91d4-40f2-ebe3-968392a12607"
      },
      "execution_count": 74,
      "outputs": [
        {
          "output_type": "execute_result",
          "data": {
            "text/plain": [
              "<matplotlib.axes._subplots.AxesSubplot at 0x7f313760e640>"
            ]
          },
          "metadata": {},
          "execution_count": 74
        },
        {
          "output_type": "display_data",
          "data": {
            "text/plain": [
              "<Figure size 432x288 with 1 Axes>"
            ],
            "image/png": "[encoded data removed]"
          },
          "metadata": {
            "needs_background": "light"
          }
        }
      ]
    },
    {
      "cell_type": "markdown",
      "source": [
        "Mostly customers preferred 1-2 coupons in the last month. Very few customers preferred more than 5 coupons."
      ],
      "metadata": {
        "id": "75HXbgf23h2O"
      }
    },
    {
      "cell_type": "code",
      "source": [
        "sns.histplot(x = data['CouponUsed'], hue = data['Churn'], bins = 20)"
      ],
      "metadata": {
        "colab": {
          "base_uri": "https://localhost:8080/",
          "height": 297
        },
        "id": "Ihxt2eFS3KgC",
        "outputId": "7d9780ef-d83f-4902-8202-13b0ad72a104"
      },
      "execution_count": 75,
      "outputs": [
        {
          "output_type": "execute_result",
          "data": {
            "text/plain": [
              "<matplotlib.axes._subplots.AxesSubplot at 0x7f3137520ca0>"
            ]
          },
          "metadata": {},
          "execution_count": 75
        },
        {
          "output_type": "display_data",
          "data": {
            "text/plain": [
              "<Figure size 432x288 with 1 Axes>"
            ],
            "image/png": "[encoded data removed]"
          },
          "metadata": {
            "needs_background": "light"
          }
        }
      ]
    },
    {
      "cell_type": "markdown",
      "source": [
        "People with less coupons are more likely to churn. Customers who applied more than 5 coupons, have retained. This can be because they got some extra benefits using those coupons."
      ],
      "metadata": {
        "id": "fkT4IGC832GC"
      }
    },
    {
      "cell_type": "code",
      "source": [
        "data.head()"
      ],
      "metadata": {
        "id": "mzrtATobiDXf",
        "colab": {
          "base_uri": "https://localhost:8080/",
          "height": 305
        },
        "outputId": "2343951c-e824-4553-92e5-161ffda7395e"
      },
      "execution_count": 76,
      "outputs": [
        {
          "output_type": "execute_result",
          "data": {
            "text/plain": [
              "   CustomerID  Churn  Tenure PreferredLoginDevice  CityTier  WarehouseToHome  \\\n",
              "0       50001      1     4.0         Mobile Phone         3              6.0   \n",
              "1       50002      1     NaN         Mobile Phone         1              8.0   \n",
              "2       50003      1     NaN         Mobile Phone         1             30.0   \n",
              "3       50004      1     0.0         Mobile Phone         3             15.0   \n",
              "4       50005      1     0.0         Mobile Phone         1             12.0   \n",
              "\n",
              "  PreferredPaymentMode  Gender  HourSpendOnApp  NumberOfDeviceRegistered  \\\n",
              "0           Debit Card  Female             3.0                         3   \n",
              "1                  UPI    Male             3.0                         4   \n",
              "2           Debit Card    Male             2.0                         4   \n",
              "3           Debit Card    Male             2.0                         4   \n",
              "4                   CC    Male             NaN                         3   \n",
              "\n",
              "     PreferedOrderCat  SatisfactionScore MaritalStatus  NumberOfAddress  \\\n",
              "0  Laptop & Accessory                  2        Single                9   \n",
              "1              Mobile                  3        Single                7   \n",
              "2              Mobile                  3        Single                6   \n",
              "3  Laptop & Accessory                  5        Single                8   \n",
              "4              Mobile                  5        Single                3   \n",
              "\n",
              "   Complain  OrderAmountHikeFromlastYear  CouponUsed  OrderCount  \\\n",
              "0         1                         11.0         1.0         1.0   \n",
              "1         1                         15.0         0.0         1.0   \n",
              "2         1                         14.0         0.0         1.0   \n",
              "3         0                         23.0         0.0         1.0   \n",
              "4         0                         11.0         1.0         1.0   \n",
              "\n",
              "   DaySinceLastOrder  CashbackAmount  \n",
              "0                5.0             160  \n",
              "1                0.0             121  \n",
              "2                3.0             120  \n",
              "3                3.0             134  \n",
              "4                3.0             130  "
            ],
            "text/html": [
              "\n",
              "  <div id=\"df-479a8d64-e8cb-4938-8f30-03eaf656ccf4\">\n",
              "    <div class=\"colab-df-container\">\n",
              "      <div>\n",
              "<style scoped>\n",
              "    .dataframe tbody tr th:only-of-type {\n",
              "        vertical-align: middle;\n",
              "    }\n",
              "\n",
              "    .dataframe tbody tr th {\n",
              "        vertical-align: top;\n",
              "    }\n",
              "\n",
              "    .dataframe thead th {\n",
              "        text-align: right;\n",
              "    }\n",
              "</style>\n",
              "<table border=\"1\" class=\"dataframe\">\n",
              "  <thead>\n",
              "    <tr style=\"text-align: right;\">\n",
              "      <th></th>\n",
              "      <th>CustomerID</th>\n",
              "      <th>Churn</th>\n",
              "      <th>Tenure</th>\n",
              "      <th>PreferredLoginDevice</th>\n",
              "      <th>CityTier</th>\n",
              "      <th>WarehouseToHome</th>\n",
              "      <th>PreferredPaymentMode</th>\n",
              "      <th>Gender</th>\n",
              "      <th>HourSpendOnApp</th>\n",
              "      <th>NumberOfDeviceRegistered</th>\n",
              "      <th>PreferedOrderCat</th>\n",
              "      <th>SatisfactionScore</th>\n",
              "      <th>MaritalStatus</th>\n",
              "      <th>NumberOfAddress</th>\n",
              "      <th>Complain</th>\n",
              "      <th>OrderAmountHikeFromlastYear</th>\n",
              "      <th>CouponUsed</th>\n",
              "      <th>OrderCount</th>\n",
              "      <th>DaySinceLastOrder</th>\n",
              "      <th>CashbackAmount</th>\n",
              "    </tr>\n",
              "  </thead>\n",
              "  <tbody>\n",
              "    <tr>\n",
              "      <th>0</th>\n",
              "      <td>50001</td>\n",
              "      <td>1</td>\n",
              "      <td>4.0</td>\n",
              "      <td>Mobile Phone</td>\n",
              "      <td>3</td>\n",
              "      <td>6.0</td>\n",
              "      <td>Debit Card</td>\n",
              "      <td>Female</td>\n",
              "      <td>3.0</td>\n",
              "      <td>3</td>\n",
              "      <td>Laptop &amp; Accessory</td>\n",
              "      <td>2</td>\n",
              "      <td>Single</td>\n",
              "      <td>9</td>\n",
              "      <td>1</td>\n",
              "      <td>11.0</td>\n",
              "      <td>1.0</td>\n",
              "      <td>1.0</td>\n",
              "      <td>5.0</td>\n",
              "      <td>160</td>\n",
              "    </tr>\n",
              "    <tr>\n",
              "      <th>1</th>\n",
              "      <td>50002</td>\n",
              "      <td>1</td>\n",
              "      <td>NaN</td>\n",
              "      <td>Mobile Phone</td>\n",
              "      <td>1</td>\n",
              "      <td>8.0</td>\n",
              "      <td>UPI</td>\n",
              "      <td>Male</td>\n",
              "      <td>3.0</td>\n",
              "      <td>4</td>\n",
              "      <td>Mobile</td>\n",
              "      <td>3</td>\n",
              "      <td>Single</td>\n",
              "      <td>7</td>\n",
              "      <td>1</td>\n",
              "      <td>15.0</td>\n",
              "      <td>0.0</td>\n",
              "      <td>1.0</td>\n",
              "      <td>0.0</td>\n",
              "      <td>121</td>\n",
              "    </tr>\n",
              "    <tr>\n",
              "      <th>2</th>\n",
              "      <td>50003</td>\n",
              "      <td>1</td>\n",
              "      <td>NaN</td>\n",
              "      <td>Mobile Phone</td>\n",
              "      <td>1</td>\n",
              "      <td>30.0</td>\n",
              "      <td>Debit Card</td>\n",
              "      <td>Male</td>\n",
              "      <td>2.0</td>\n",
              "      <td>4</td>\n",
              "      <td>Mobile</td>\n",
              "      <td>3</td>\n",
              "      <td>Single</td>\n",
              "      <td>6</td>\n",
              "      <td>1</td>\n",
              "      <td>14.0</td>\n",
              "      <td>0.0</td>\n",
              "      <td>1.0</td>\n",
              "      <td>3.0</td>\n",
              "      <td>120</td>\n",
              "    </tr>\n",
              "    <tr>\n",
              "      <th>3</th>\n",
              "      <td>50004</td>\n",
              "      <td>1</td>\n",
              "      <td>0.0</td>\n",
              "      <td>Mobile Phone</td>\n",
              "      <td>3</td>\n",
              "      <td>15.0</td>\n",
              "      <td>Debit Card</td>\n",
              "      <td>Male</td>\n",
              "      <td>2.0</td>\n",
              "      <td>4</td>\n",
              "      <td>Laptop &amp; Accessory</td>\n",
              "      <td>5</td>\n",
              "      <td>Single</td>\n",
              "      <td>8</td>\n",
              "      <td>0</td>\n",
              "      <td>23.0</td>\n",
              "      <td>0.0</td>\n",
              "      <td>1.0</td>\n",
              "      <td>3.0</td>\n",
              "      <td>134</td>\n",
              "    </tr>\n",
              "    <tr>\n",
              "      <th>4</th>\n",
              "      <td>50005</td>\n",
              "      <td>1</td>\n",
              "      <td>0.0</td>\n",
              "      <td>Mobile Phone</td>\n",
              "      <td>1</td>\n",
              "      <td>12.0</td>\n",
              "      <td>CC</td>\n",
              "      <td>Male</td>\n",
              "      <td>NaN</td>\n",
              "      <td>3</td>\n",
              "      <td>Mobile</td>\n",
              "      <td>5</td>\n",
              "      <td>Single</td>\n",
              "      <td>3</td>\n",
              "      <td>0</td>\n",
              "      <td>11.0</td>\n",
              "      <td>1.0</td>\n",
              "      <td>1.0</td>\n",
              "      <td>3.0</td>\n",
              "      <td>130</td>\n",
              "    </tr>\n",
              "  </tbody>\n",
              "</table>\n",
              "</div>\n",
              "      <button class=\"colab-df-convert\" onclick=\"convertToInteractive('df-479a8d64-e8cb-4938-8f30-03eaf656ccf4')\"\n",
              "              title=\"Convert this dataframe to an interactive table.\"\n",
              "              style=\"display:none;\">\n",
              "        \n",
              "  <svg xmlns=\"http://www.w3.org/2000/svg\" height=\"24px\"viewBox=\"0 0 24 24\"\n",
              "       width=\"24px\">\n",
              "    <path d=\"M0 0h24v24H0V0z\" fill=\"none\"/>\n",
              "    <path d=\"M18.56 5.44l.94 2.06.94-2.06 2.06-.94-2.06-.94-.94-2.06-.94 2.06-2.06.94zm-11 1L8.5 8.5l.94-2.06 2.06-.94-2.06-.94L8.5 2.5l-.94 2.06-2.06.94zm10 10l.94 2.06.94-2.06 2.06-.94-2.06-.94-.94-2.06-.94 2.06-2.06.94z\"/><path d=\"M17.41 7.96l-1.37-1.37c-.4-.4-.92-.59-1.43-.59-.52 0-1.04.2-1.43.59L10.3 9.45l-7.72 7.72c-.78.78-.78 2.05 0 2.83L4 21.41c.39.39.9.59 1.41.59.51 0 1.02-.2 1.41-.59l7.78-7.78 2.81-2.81c.8-.78.8-2.07 0-2.86zM5.41 20L4 18.59l7.72-7.72 1.47 1.35L5.41 20z\"/>\n",
              "  </svg>\n",
              "      </button>\n",
              "      \n",
              "  <style>\n",
              "    .colab-df-container {\n",
              "      display:flex;\n",
              "      flex-wrap:wrap;\n",
              "      gap: 12px;\n",
              "    }\n",
              "\n",
              "    .colab-df-convert {\n",
              "      background-color: #E8F0FE;\n",
              "      border: none;\n",
              "      border-radius: 50%;\n",
              "      cursor: pointer;\n",
              "      display: none;\n",
              "      fill: #1967D2;\n",
              "      height: 32px;\n",
              "      padding: 0 0 0 0;\n",
              "      width: 32px;\n",
              "    }\n",
              "\n",
              "    .colab-df-convert:hover {\n",
              "      background-color: #E2EBFA;\n",
              "      box-shadow: 0px 1px 2px rgba(60, 64, 67, 0.3), 0px 1px 3px 1px rgba(60, 64, 67, 0.15);\n",
              "      fill: #174EA6;\n",
              "    }\n",
              "\n",
              "    [theme=dark] .colab-df-convert {\n",
              "      background-color: #3B4455;\n",
              "      fill: #D2E3FC;\n",
              "    }\n",
              "\n",
              "    [theme=dark] .colab-df-convert:hover {\n",
              "      background-color: #434B5C;\n",
              "      box-shadow: 0px 1px 3px 1px rgba(0, 0, 0, 0.15);\n",
              "      filter: drop-shadow(0px 1px 2px rgba(0, 0, 0, 0.3));\n",
              "      fill: #FFFFFF;\n",
              "    }\n",
              "  </style>\n",
              "\n",
              "      <script>\n",
              "        const buttonEl =\n",
              "          document.querySelector('#df-479a8d64-e8cb-4938-8f30-03eaf656ccf4 button.colab-df-convert');\n",
              "        buttonEl.style.display =\n",
              "          google.colab.kernel.accessAllowed ? 'block' : 'none';\n",
              "\n",
              "        async function convertToInteractive(key) {\n",
              "          const element = document.querySelector('#df-479a8d64-e8cb-4938-8f30-03eaf656ccf4');\n",
              "          const dataTable =\n",
              "            await google.colab.kernel.invokeFunction('convertToInteractive',\n",
              "                                                     [key], {});\n",
              "          if (!dataTable) return;\n",
              "\n",
              "          const docLinkHtml = 'Like what you see? Visit the ' +\n",
              "            '<a target=\"_blank\" href=https://colab.research.google.com/notebooks/data_table.ipynb>data table notebook</a>'\n",
              "            + ' to learn more about interactive tables.';\n",
              "          element.innerHTML = '';\n",
              "          dataTable['output_type'] = 'display_data';\n",
              "          await google.colab.output.renderOutput(dataTable, element);\n",
              "          const docLink = document.createElement('div');\n",
              "          docLink.innerHTML = docLinkHtml;\n",
              "          element.appendChild(docLink);\n",
              "        }\n",
              "      </script>\n",
              "    </div>\n",
              "  </div>\n",
              "  "
            ]
          },
          "metadata": {},
          "execution_count": 76
        }
      ]
    },
    {
      "cell_type": "code",
      "source": [
        "sns.histplot(x = data['OrderCount'], bins = 20)"
      ],
      "metadata": {
        "colab": {
          "base_uri": "https://localhost:8080/",
          "height": 297
        },
        "id": "qJABM8JE3WRB",
        "outputId": "449548cb-a99c-4cec-c983-e27410459b06"
      },
      "execution_count": 77,
      "outputs": [
        {
          "output_type": "execute_result",
          "data": {
            "text/plain": [
              "<matplotlib.axes._subplots.AxesSubplot at 0x7f3137472a90>"
            ]
          },
          "metadata": {},
          "execution_count": 77
        },
        {
          "output_type": "display_data",
          "data": {
            "text/plain": [
              "<Figure size 432x288 with 1 Axes>"
            ],
            "image/png": "[encoded data removed]"
          },
          "metadata": {
            "needs_background": "light"
          }
        }
      ]
    },
    {
      "cell_type": "code",
      "source": [
        "sns.histplot(x = data['OrderCount'], hue = data['Churn'], bins = 20)"
      ],
      "metadata": {
        "colab": {
          "base_uri": "https://localhost:8080/",
          "height": 297
        },
        "id": "q-3JlCxR8cPk",
        "outputId": "e9b75cfc-1ccf-4ed9-97db-2456ceb4a66f"
      },
      "execution_count": 78,
      "outputs": [
        {
          "output_type": "execute_result",
          "data": {
            "text/plain": [
              "<matplotlib.axes._subplots.AxesSubplot at 0x7f3137403e50>"
            ]
          },
          "metadata": {},
          "execution_count": 78
        },
        {
          "output_type": "display_data",
          "data": {
            "text/plain": [
              "<Figure size 432x288 with 1 Axes>"
            ],
            "image/png": "[encoded data removed]"
          },
          "metadata": {
            "needs_background": "light"
          }
        }
      ]
    },
    {
      "cell_type": "code",
      "source": [
        "data['OrderCount'].value_counts()"
      ],
      "metadata": {
        "colab": {
          "base_uri": "https://localhost:8080/"
        },
        "id": "SZa_66Vh8TBE",
        "outputId": "f86acdbf-42d1-47bb-d1bb-ba3b89c0bd04"
      },
      "execution_count": 79,
      "outputs": [
        {
          "output_type": "execute_result",
          "data": {
            "text/plain": [
              "2.0     2025\n",
              "1.0     1751\n",
              "3.0      371\n",
              "7.0      206\n",
              "4.0      204\n",
              "5.0      181\n",
              "8.0      172\n",
              "6.0      137\n",
              "9.0       62\n",
              "12.0      54\n",
              "11.0      51\n",
              "10.0      36\n",
              "14.0      36\n",
              "15.0      33\n",
              "13.0      30\n",
              "16.0      23\n",
              "Name: OrderCount, dtype: int64"
            ]
          },
          "metadata": {},
          "execution_count": 79
        }
      ]
    },
    {
      "cell_type": "code",
      "source": [
        "sns.kdeplot(x = data['CashbackAmount'], hue = data['Churn'])"
      ],
      "metadata": {
        "colab": {
          "base_uri": "https://localhost:8080/",
          "height": 297
        },
        "id": "n_EFyJc9bNSf",
        "outputId": "e8891a95-d9cf-4f1c-dbce-48a8700bf408"
      },
      "execution_count": 80,
      "outputs": [
        {
          "output_type": "execute_result",
          "data": {
            "text/plain": [
              "<matplotlib.axes._subplots.AxesSubplot at 0x7f313734f760>"
            ]
          },
          "metadata": {},
          "execution_count": 80
        },
        {
          "output_type": "display_data",
          "data": {
            "text/plain": [
              "<Figure size 432x288 with 1 Axes>"
            ],
            "image/png": "[encoded data removed]"
          },
          "metadata": {
            "needs_background": "light"
          }
        }
      ]
    },
    {
      "cell_type": "markdown",
      "source": [
        "If the cashback value is very high, then there are less chances to churn."
      ],
      "metadata": {
        "id": "TyMKsu0cdYC2"
      }
    },
    {
      "cell_type": "code",
      "source": [
        "data.head()"
      ],
      "metadata": {
        "id": "um7H1gQ_8s7C",
        "colab": {
          "base_uri": "https://localhost:8080/",
          "height": 305
        },
        "outputId": "307bd35b-3615-4c1f-c71d-b8a1f576f28e"
      },
      "execution_count": 81,
      "outputs": [
        {
          "output_type": "execute_result",
          "data": {
            "text/plain": [
              "   CustomerID  Churn  Tenure PreferredLoginDevice  CityTier  WarehouseToHome  \\\n",
              "0       50001      1     4.0         Mobile Phone         3              6.0   \n",
              "1       50002      1     NaN         Mobile Phone         1              8.0   \n",
              "2       50003      1     NaN         Mobile Phone         1             30.0   \n",
              "3       50004      1     0.0         Mobile Phone         3             15.0   \n",
              "4       50005      1     0.0         Mobile Phone         1             12.0   \n",
              "\n",
              "  PreferredPaymentMode  Gender  HourSpendOnApp  NumberOfDeviceRegistered  \\\n",
              "0           Debit Card  Female             3.0                         3   \n",
              "1                  UPI    Male             3.0                         4   \n",
              "2           Debit Card    Male             2.0                         4   \n",
              "3           Debit Card    Male             2.0                         4   \n",
              "4                   CC    Male             NaN                         3   \n",
              "\n",
              "     PreferedOrderCat  SatisfactionScore MaritalStatus  NumberOfAddress  \\\n",
              "0  Laptop & Accessory                  2        Single                9   \n",
              "1              Mobile                  3        Single                7   \n",
              "2              Mobile                  3        Single                6   \n",
              "3  Laptop & Accessory                  5        Single                8   \n",
              "4              Mobile                  5        Single                3   \n",
              "\n",
              "   Complain  OrderAmountHikeFromlastYear  CouponUsed  OrderCount  \\\n",
              "0         1                         11.0         1.0         1.0   \n",
              "1         1                         15.0         0.0         1.0   \n",
              "2         1                         14.0         0.0         1.0   \n",
              "3         0                         23.0         0.0         1.0   \n",
              "4         0                         11.0         1.0         1.0   \n",
              "\n",
              "   DaySinceLastOrder  CashbackAmount  \n",
              "0                5.0             160  \n",
              "1                0.0             121  \n",
              "2                3.0             120  \n",
              "3                3.0             134  \n",
              "4                3.0             130  "
            ],
            "text/html": [
              "\n",
              "  <div id=\"df-6982b329-c6ef-4f6a-93bd-321c32969c79\">\n",
              "    <div class=\"colab-df-container\">\n",
              "      <div>\n",
              "<style scoped>\n",
              "    .dataframe tbody tr th:only-of-type {\n",
              "        vertical-align: middle;\n",
              "    }\n",
              "\n",
              "    .dataframe tbody tr th {\n",
              "        vertical-align: top;\n",
              "    }\n",
              "\n",
              "    .dataframe thead th {\n",
              "        text-align: right;\n",
              "    }\n",
              "</style>\n",
              "<table border=\"1\" class=\"dataframe\">\n",
              "  <thead>\n",
              "    <tr style=\"text-align: right;\">\n",
              "      <th></th>\n",
              "      <th>CustomerID</th>\n",
              "      <th>Churn</th>\n",
              "      <th>Tenure</th>\n",
              "      <th>PreferredLoginDevice</th>\n",
              "      <th>CityTier</th>\n",
              "      <th>WarehouseToHome</th>\n",
              "      <th>PreferredPaymentMode</th>\n",
              "      <th>Gender</th>\n",
              "      <th>HourSpendOnApp</th>\n",
              "      <th>NumberOfDeviceRegistered</th>\n",
              "      <th>PreferedOrderCat</th>\n",
              "      <th>SatisfactionScore</th>\n",
              "      <th>MaritalStatus</th>\n",
              "      <th>NumberOfAddress</th>\n",
              "      <th>Complain</th>\n",
              "      <th>OrderAmountHikeFromlastYear</th>\n",
              "      <th>CouponUsed</th>\n",
              "      <th>OrderCount</th>\n",
              "      <th>DaySinceLastOrder</th>\n",
              "      <th>CashbackAmount</th>\n",
              "    </tr>\n",
              "  </thead>\n",
              "  <tbody>\n",
              "    <tr>\n",
              "      <th>0</th>\n",
              "      <td>50001</td>\n",
              "      <td>1</td>\n",
              "      <td>4.0</td>\n",
              "      <td>Mobile Phone</td>\n",
              "      <td>3</td>\n",
              "      <td>6.0</td>\n",
              "      <td>Debit Card</td>\n",
              "      <td>Female</td>\n",
              "      <td>3.0</td>\n",
              "      <td>3</td>\n",
              "      <td>Laptop &amp; Accessory</td>\n",
              "      <td>2</td>\n",
              "      <td>Single</td>\n",
              "      <td>9</td>\n",
              "      <td>1</td>\n",
              "      <td>11.0</td>\n",
              "      <td>1.0</td>\n",
              "      <td>1.0</td>\n",
              "      <td>5.0</td>\n",
              "      <td>160</td>\n",
              "    </tr>\n",
              "    <tr>\n",
              "      <th>1</th>\n",
              "      <td>50002</td>\n",
              "      <td>1</td>\n",
              "      <td>NaN</td>\n",
              "      <td>Mobile Phone</td>\n",
              "      <td>1</td>\n",
              "      <td>8.0</td>\n",
              "      <td>UPI</td>\n",
              "      <td>Male</td>\n",
              "      <td>3.0</td>\n",
              "      <td>4</td>\n",
              "      <td>Mobile</td>\n",
              "      <td>3</td>\n",
              "      <td>Single</td>\n",
              "      <td>7</td>\n",
              "      <td>1</td>\n",
              "      <td>15.0</td>\n",
              "      <td>0.0</td>\n",
              "      <td>1.0</td>\n",
              "      <td>0.0</td>\n",
              "      <td>121</td>\n",
              "    </tr>\n",
              "    <tr>\n",
              "      <th>2</th>\n",
              "      <td>50003</td>\n",
              "      <td>1</td>\n",
              "      <td>NaN</td>\n",
              "      <td>Mobile Phone</td>\n",
              "      <td>1</td>\n",
              "      <td>30.0</td>\n",
              "      <td>Debit Card</td>\n",
              "      <td>Male</td>\n",
              "      <td>2.0</td>\n",
              "      <td>4</td>\n",
              "      <td>Mobile</td>\n",
              "      <td>3</td>\n",
              "      <td>Single</td>\n",
              "      <td>6</td>\n",
              "      <td>1</td>\n",
              "      <td>14.0</td>\n",
              "      <td>0.0</td>\n",
              "      <td>1.0</td>\n",
              "      <td>3.0</td>\n",
              "      <td>120</td>\n",
              "    </tr>\n",
              "    <tr>\n",
              "      <th>3</th>\n",
              "      <td>50004</td>\n",
              "      <td>1</td>\n",
              "      <td>0.0</td>\n",
              "      <td>Mobile Phone</td>\n",
              "      <td>3</td>\n",
              "      <td>15.0</td>\n",
              "      <td>Debit Card</td>\n",
              "      <td>Male</td>\n",
              "      <td>2.0</td>\n",
              "      <td>4</td>\n",
              "      <td>Laptop &amp; Accessory</td>\n",
              "      <td>5</td>\n",
              "      <td>Single</td>\n",
              "      <td>8</td>\n",
              "      <td>0</td>\n",
              "      <td>23.0</td>\n",
              "      <td>0.0</td>\n",
              "      <td>1.0</td>\n",
              "      <td>3.0</td>\n",
              "      <td>134</td>\n",
              "    </tr>\n",
              "    <tr>\n",
              "      <th>4</th>\n",
              "      <td>50005</td>\n",
              "      <td>1</td>\n",
              "      <td>0.0</td>\n",
              "      <td>Mobile Phone</td>\n",
              "      <td>1</td>\n",
              "      <td>12.0</td>\n",
              "      <td>CC</td>\n",
              "      <td>Male</td>\n",
              "      <td>NaN</td>\n",
              "      <td>3</td>\n",
              "      <td>Mobile</td>\n",
              "      <td>5</td>\n",
              "      <td>Single</td>\n",
              "      <td>3</td>\n",
              "      <td>0</td>\n",
              "      <td>11.0</td>\n",
              "      <td>1.0</td>\n",
              "      <td>1.0</td>\n",
              "      <td>3.0</td>\n",
              "      <td>130</td>\n",
              "    </tr>\n",
              "  </tbody>\n",
              "</table>\n",
              "</div>\n",
              "      <button class=\"colab-df-convert\" onclick=\"convertToInteractive('df-6982b329-c6ef-4f6a-93bd-321c32969c79')\"\n",
              "              title=\"Convert this dataframe to an interactive table.\"\n",
              "              style=\"display:none;\">\n",
              "        \n",
              "  <svg xmlns=\"http://www.w3.org/2000/svg\" height=\"24px\"viewBox=\"0 0 24 24\"\n",
              "       width=\"24px\">\n",
              "    <path d=\"M0 0h24v24H0V0z\" fill=\"none\"/>\n",
              "    <path d=\"M18.56 5.44l.94 2.06.94-2.06 2.06-.94-2.06-.94-.94-2.06-.94 2.06-2.06.94zm-11 1L8.5 8.5l.94-2.06 2.06-.94-2.06-.94L8.5 2.5l-.94 2.06-2.06.94zm10 10l.94 2.06.94-2.06 2.06-.94-2.06-.94-.94-2.06-.94 2.06-2.06.94z\"/><path d=\"M17.41 7.96l-1.37-1.37c-.4-.4-.92-.59-1.43-.59-.52 0-1.04.2-1.43.59L10.3 9.45l-7.72 7.72c-.78.78-.78 2.05 0 2.83L4 21.41c.39.39.9.59 1.41.59.51 0 1.02-.2 1.41-.59l7.78-7.78 2.81-2.81c.8-.78.8-2.07 0-2.86zM5.41 20L4 18.59l7.72-7.72 1.47 1.35L5.41 20z\"/>\n",
              "  </svg>\n",
              "      </button>\n",
              "      \n",
              "  <style>\n",
              "    .colab-df-container {\n",
              "      display:flex;\n",
              "      flex-wrap:wrap;\n",
              "      gap: 12px;\n",
              "    }\n",
              "\n",
              "    .colab-df-convert {\n",
              "      background-color: #E8F0FE;\n",
              "      border: none;\n",
              "      border-radius: 50%;\n",
              "      cursor: pointer;\n",
              "      display: none;\n",
              "      fill: #1967D2;\n",
              "      height: 32px;\n",
              "      padding: 0 0 0 0;\n",
              "      width: 32px;\n",
              "    }\n",
              "\n",
              "    .colab-df-convert:hover {\n",
              "      background-color: #E2EBFA;\n",
              "      box-shadow: 0px 1px 2px rgba(60, 64, 67, 0.3), 0px 1px 3px 1px rgba(60, 64, 67, 0.15);\n",
              "      fill: #174EA6;\n",
              "    }\n",
              "\n",
              "    [theme=dark] .colab-df-convert {\n",
              "      background-color: #3B4455;\n",
              "      fill: #D2E3FC;\n",
              "    }\n",
              "\n",
              "    [theme=dark] .colab-df-convert:hover {\n",
              "      background-color: #434B5C;\n",
              "      box-shadow: 0px 1px 3px 1px rgba(0, 0, 0, 0.15);\n",
              "      filter: drop-shadow(0px 1px 2px rgba(0, 0, 0, 0.3));\n",
              "      fill: #FFFFFF;\n",
              "    }\n",
              "  </style>\n",
              "\n",
              "      <script>\n",
              "        const buttonEl =\n",
              "          document.querySelector('#df-6982b329-c6ef-4f6a-93bd-321c32969c79 button.colab-df-convert');\n",
              "        buttonEl.style.display =\n",
              "          google.colab.kernel.accessAllowed ? 'block' : 'none';\n",
              "\n",
              "        async function convertToInteractive(key) {\n",
              "          const element = document.querySelector('#df-6982b329-c6ef-4f6a-93bd-321c32969c79');\n",
              "          const dataTable =\n",
              "            await google.colab.kernel.invokeFunction('convertToInteractive',\n",
              "                                                     [key], {});\n",
              "          if (!dataTable) return;\n",
              "\n",
              "          const docLinkHtml = 'Like what you see? Visit the ' +\n",
              "            '<a target=\"_blank\" href=https://colab.research.google.com/notebooks/data_table.ipynb>data table notebook</a>'\n",
              "            + ' to learn more about interactive tables.';\n",
              "          element.innerHTML = '';\n",
              "          dataTable['output_type'] = 'display_data';\n",
              "          await google.colab.output.renderOutput(dataTable, element);\n",
              "          const docLink = document.createElement('div');\n",
              "          docLink.innerHTML = docLinkHtml;\n",
              "          element.appendChild(docLink);\n",
              "        }\n",
              "      </script>\n",
              "    </div>\n",
              "  </div>\n",
              "  "
            ]
          },
          "metadata": {},
          "execution_count": 81
        }
      ]
    },
    {
      "cell_type": "code",
      "source": [
        "data.columns"
      ],
      "metadata": {
        "colab": {
          "base_uri": "https://localhost:8080/"
        },
        "id": "Fl2RMgf6bZCA",
        "outputId": "502cbcd0-9f27-4e37-fb1c-e42ef5f7b02f"
      },
      "execution_count": 82,
      "outputs": [
        {
          "output_type": "execute_result",
          "data": {
            "text/plain": [
              "Index(['CustomerID', 'Churn', 'Tenure', 'PreferredLoginDevice', 'CityTier',\n",
              "       'WarehouseToHome', 'PreferredPaymentMode', 'Gender', 'HourSpendOnApp',\n",
              "       'NumberOfDeviceRegistered', 'PreferedOrderCat', 'SatisfactionScore',\n",
              "       'MaritalStatus', 'NumberOfAddress', 'Complain',\n",
              "       'OrderAmountHikeFromlastYear', 'CouponUsed', 'OrderCount',\n",
              "       'DaySinceLastOrder', 'CashbackAmount'],\n",
              "      dtype='object')"
            ]
          },
          "metadata": {},
          "execution_count": 82
        }
      ]
    },
    {
      "cell_type": "code",
      "source": [
        "data.dtypes"
      ],
      "metadata": {
        "colab": {
          "base_uri": "https://localhost:8080/"
        },
        "id": "yyQvOvbgmYMG",
        "outputId": "21b90322-adbe-4908-9b69-ef42b303614f"
      },
      "execution_count": 83,
      "outputs": [
        {
          "output_type": "execute_result",
          "data": {
            "text/plain": [
              "CustomerID                       int64\n",
              "Churn                            int64\n",
              "Tenure                         float64\n",
              "PreferredLoginDevice            object\n",
              "CityTier                         int64\n",
              "WarehouseToHome                float64\n",
              "PreferredPaymentMode            object\n",
              "Gender                          object\n",
              "HourSpendOnApp                 float64\n",
              "NumberOfDeviceRegistered         int64\n",
              "PreferedOrderCat                object\n",
              "SatisfactionScore                int64\n",
              "MaritalStatus                   object\n",
              "NumberOfAddress                  int64\n",
              "Complain                         int64\n",
              "OrderAmountHikeFromlastYear    float64\n",
              "CouponUsed                     float64\n",
              "OrderCount                     float64\n",
              "DaySinceLastOrder              float64\n",
              "CashbackAmount                   int64\n",
              "dtype: object"
            ]
          },
          "metadata": {},
          "execution_count": 83
        }
      ]
    },
    {
      "cell_type": "markdown",
      "source": [
        "**Checking the inconsistent data values in each column**"
      ],
      "metadata": {
        "id": "Y3VNZhowslE7"
      }
    },
    {
      "cell_type": "code",
      "source": [
        "data['CustomerID'].unique()"
      ],
      "metadata": {
        "colab": {
          "base_uri": "https://localhost:8080/"
        },
        "id": "vki2oN2hk5ER",
        "outputId": "95f6654f-70d1-44ef-8e23-25d7616929c1"
      },
      "execution_count": 84,
      "outputs": [
        {
          "output_type": "execute_result",
          "data": {
            "text/plain": [
              "array([50001, 50002, 50003, ..., 55628, 55629, 55630])"
            ]
          },
          "metadata": {},
          "execution_count": 84
        }
      ]
    },
    {
      "cell_type": "code",
      "source": [
        "for key, value in data['CustomerID'].items():\n",
        "  if not isinstance(value, int):\n",
        "    print(value)"
      ],
      "metadata": {
        "id": "3DGYTTFBk8sz"
      },
      "execution_count": 85,
      "outputs": []
    },
    {
      "cell_type": "code",
      "source": [
        "data['Tenure'].unique()"
      ],
      "metadata": {
        "colab": {
          "base_uri": "https://localhost:8080/"
        },
        "id": "MyG5cuQklJ6M",
        "outputId": "f5c1a7f1-85a1-4468-8c68-6c555d092269"
      },
      "execution_count": 86,
      "outputs": [
        {
          "output_type": "execute_result",
          "data": {
            "text/plain": [
              "array([ 4., nan,  0., 13., 11.,  9., 19., 20., 14.,  8., 18.,  5.,  2.,\n",
              "       30.,  1., 23.,  3., 29.,  6., 26., 28.,  7., 24., 25., 10., 15.,\n",
              "       22., 27., 16., 12., 21., 17., 50., 60., 31., 51., 61.])"
            ]
          },
          "metadata": {},
          "execution_count": 86
        }
      ]
    },
    {
      "cell_type": "markdown",
      "source": [
        "Tenure column has one NaN value"
      ],
      "metadata": {
        "id": "PszywFVZoIcs"
      }
    },
    {
      "cell_type": "code",
      "source": [
        "data['PreferredLoginDevice'].unique()"
      ],
      "metadata": {
        "colab": {
          "base_uri": "https://localhost:8080/"
        },
        "id": "lvuPWEK4muyB",
        "outputId": "be346abc-7e7a-43a6-a449-3268348f5e5b"
      },
      "execution_count": 87,
      "outputs": [
        {
          "output_type": "execute_result",
          "data": {
            "text/plain": [
              "array(['Mobile Phone', 'Computer'], dtype=object)"
            ]
          },
          "metadata": {},
          "execution_count": 87
        }
      ]
    },
    {
      "cell_type": "code",
      "source": [
        "data['CityTier'].unique()"
      ],
      "metadata": {
        "colab": {
          "base_uri": "https://localhost:8080/"
        },
        "id": "LhTu8VYPnBHy",
        "outputId": "dd3aad4e-e2e6-4d46-b82c-3e3e8a581346"
      },
      "execution_count": 88,
      "outputs": [
        {
          "output_type": "execute_result",
          "data": {
            "text/plain": [
              "array([3, 1, 2])"
            ]
          },
          "metadata": {},
          "execution_count": 88
        }
      ]
    },
    {
      "cell_type": "code",
      "source": [
        "data['WarehouseToHome'].unique()"
      ],
      "metadata": {
        "colab": {
          "base_uri": "https://localhost:8080/"
        },
        "id": "QEuQzUKRnGIB",
        "outputId": "69495b7b-0d08-4999-93ab-d9c79bad12fc"
      },
      "execution_count": 89,
      "outputs": [
        {
          "output_type": "execute_result",
          "data": {
            "text/plain": [
              "array([  6.,   8.,  30.,  15.,  12.,  22.,  11.,   9.,  31.,  18.,  13.,\n",
              "        20.,  29.,  28.,  26.,  14.,  nan,  10.,  27.,  17.,  23.,  33.,\n",
              "        19.,  35.,  24.,  16.,  25.,  32.,  34.,   5.,  21., 126.,   7.,\n",
              "        36., 127.])"
            ]
          },
          "metadata": {},
          "execution_count": 89
        }
      ]
    },
    {
      "cell_type": "markdown",
      "source": [
        "WareHouse To Home has NaN value"
      ],
      "metadata": {
        "id": "sra79JZsoL6g"
      }
    },
    {
      "cell_type": "code",
      "source": [
        "data['PreferredPaymentMode'].unique()"
      ],
      "metadata": {
        "colab": {
          "base_uri": "https://localhost:8080/"
        },
        "id": "rqmlg2jLnLYq",
        "outputId": "3a19ae93-cfbc-435a-900a-f90aa22b6f7b"
      },
      "execution_count": 90,
      "outputs": [
        {
          "output_type": "execute_result",
          "data": {
            "text/plain": [
              "array(['Debit Card', 'UPI', 'CC', 'COD', 'E wallet'], dtype=object)"
            ]
          },
          "metadata": {},
          "execution_count": 90
        }
      ]
    },
    {
      "cell_type": "code",
      "source": [
        "data['Gender'].unique()"
      ],
      "metadata": {
        "colab": {
          "base_uri": "https://localhost:8080/"
        },
        "id": "U55ugS19ns4Y",
        "outputId": "939d456e-0982-4e33-ddba-265430a289e7"
      },
      "execution_count": 91,
      "outputs": [
        {
          "output_type": "execute_result",
          "data": {
            "text/plain": [
              "array(['Female', 'Male'], dtype=object)"
            ]
          },
          "metadata": {},
          "execution_count": 91
        }
      ]
    },
    {
      "cell_type": "code",
      "source": [
        "data['HourSpendOnApp'].unique()"
      ],
      "metadata": {
        "colab": {
          "base_uri": "https://localhost:8080/"
        },
        "id": "eETTvBwNn_KV",
        "outputId": "204a5ba8-e4e2-4c93-d057-a6b6c7cf6496"
      },
      "execution_count": 92,
      "outputs": [
        {
          "output_type": "execute_result",
          "data": {
            "text/plain": [
              "array([ 3.,  2., nan,  1.,  0.,  4.,  5.])"
            ]
          },
          "metadata": {},
          "execution_count": 92
        }
      ]
    },
    {
      "cell_type": "markdown",
      "source": [
        "HourSpendOnApp has one NaN value"
      ],
      "metadata": {
        "id": "roDIjjT8oTnw"
      }
    },
    {
      "cell_type": "code",
      "source": [
        "data['NumberOfDeviceRegistered'].unique()"
      ],
      "metadata": {
        "colab": {
          "base_uri": "https://localhost:8080/"
        },
        "id": "fL4uY8XIodR2",
        "outputId": "31d2849b-a3d0-4b3d-a56d-0eb75337cc85"
      },
      "execution_count": 93,
      "outputs": [
        {
          "output_type": "execute_result",
          "data": {
            "text/plain": [
              "array([3, 4, 5, 2, 1, 6])"
            ]
          },
          "metadata": {},
          "execution_count": 93
        }
      ]
    },
    {
      "cell_type": "code",
      "source": [
        "data['PreferedOrderCat'].unique()"
      ],
      "metadata": {
        "colab": {
          "base_uri": "https://localhost:8080/"
        },
        "id": "hlWyzOjNoEbz",
        "outputId": "bfe5f734-9622-405b-d13b-e25f8c629a3f"
      },
      "execution_count": 94,
      "outputs": [
        {
          "output_type": "execute_result",
          "data": {
            "text/plain": [
              "array(['Laptop & Accessory', 'Mobile', 'Others', 'Fashion', 'Grocery'],\n",
              "      dtype=object)"
            ]
          },
          "metadata": {},
          "execution_count": 94
        }
      ]
    },
    {
      "cell_type": "code",
      "source": [
        "data['SatisfactionScore'].unique()"
      ],
      "metadata": {
        "colab": {
          "base_uri": "https://localhost:8080/"
        },
        "id": "ZmG2kiiKokeb",
        "outputId": "64ad2adc-d9f6-44ea-a027-ccf079fd2dc3"
      },
      "execution_count": 95,
      "outputs": [
        {
          "output_type": "execute_result",
          "data": {
            "text/plain": [
              "array([2, 3, 5, 4, 1])"
            ]
          },
          "metadata": {},
          "execution_count": 95
        }
      ]
    },
    {
      "cell_type": "code",
      "source": [
        "data['MaritalStatus'].unique()"
      ],
      "metadata": {
        "colab": {
          "base_uri": "https://localhost:8080/"
        },
        "id": "Th0hM_e6oz3D",
        "outputId": "1145a213-6d75-48ac-e753-4d166e73891c"
      },
      "execution_count": 96,
      "outputs": [
        {
          "output_type": "execute_result",
          "data": {
            "text/plain": [
              "array(['Single', 'Divorced', 'Married'], dtype=object)"
            ]
          },
          "metadata": {},
          "execution_count": 96
        }
      ]
    },
    {
      "cell_type": "code",
      "source": [
        "data['NumberOfAddress'].unique()"
      ],
      "metadata": {
        "colab": {
          "base_uri": "https://localhost:8080/"
        },
        "id": "q5Or0zHCo4bs",
        "outputId": "97149c3e-ae24-403a-db73-41b62a039a15"
      },
      "execution_count": 97,
      "outputs": [
        {
          "output_type": "execute_result",
          "data": {
            "text/plain": [
              "array([ 9,  7,  6,  8,  3,  2,  4, 10,  1,  5, 19, 21, 11, 20, 22])"
            ]
          },
          "metadata": {},
          "execution_count": 97
        }
      ]
    },
    {
      "cell_type": "code",
      "source": [
        "data['Complain'].unique()"
      ],
      "metadata": {
        "colab": {
          "base_uri": "https://localhost:8080/"
        },
        "id": "kpKL5av2pCDj",
        "outputId": "108c4ded-ec2a-410e-95be-4691d178ccbd"
      },
      "execution_count": 98,
      "outputs": [
        {
          "output_type": "execute_result",
          "data": {
            "text/plain": [
              "array([1, 0])"
            ]
          },
          "metadata": {},
          "execution_count": 98
        }
      ]
    },
    {
      "cell_type": "code",
      "source": [
        "data['OrderAmountHikeFromlastYear'].unique()"
      ],
      "metadata": {
        "colab": {
          "base_uri": "https://localhost:8080/"
        },
        "id": "Jxjt4qo0pGUT",
        "outputId": "46b1ca00-949b-4506-eb51-190234264693"
      },
      "execution_count": 99,
      "outputs": [
        {
          "output_type": "execute_result",
          "data": {
            "text/plain": [
              "array([11., 15., 14., 23., 22., 16., 12., nan, 13., 17., 18., 24., 19.,\n",
              "       20., 21., 25., 26.])"
            ]
          },
          "metadata": {},
          "execution_count": 99
        }
      ]
    },
    {
      "cell_type": "markdown",
      "source": [
        "OrderAmountHikeFromLastYear has one NaN value"
      ],
      "metadata": {
        "id": "07qntoimpM9j"
      }
    },
    {
      "cell_type": "code",
      "source": [
        "data['CouponUsed'].unique()"
      ],
      "metadata": {
        "colab": {
          "base_uri": "https://localhost:8080/"
        },
        "id": "IVb7PuQIpLYm",
        "outputId": "d02a64b1-6c82-4d5a-94a7-3d417806db1f"
      },
      "execution_count": 100,
      "outputs": [
        {
          "output_type": "execute_result",
          "data": {
            "text/plain": [
              "array([ 1.,  0.,  4.,  2.,  9.,  6., 11., nan,  7., 12., 10.,  5.,  3.,\n",
              "       13., 15.,  8., 14., 16.])"
            ]
          },
          "metadata": {},
          "execution_count": 100
        }
      ]
    },
    {
      "cell_type": "markdown",
      "source": [
        "CouponUsed has one NaN value "
      ],
      "metadata": {
        "id": "DF1aXO0FpfKK"
      }
    },
    {
      "cell_type": "code",
      "source": [
        "data['OrderCount'].unique()"
      ],
      "metadata": {
        "colab": {
          "base_uri": "https://localhost:8080/"
        },
        "id": "A0aT98KXpZRJ",
        "outputId": "03da2d2d-371e-41af-b3f9-2314be50e144"
      },
      "execution_count": 101,
      "outputs": [
        {
          "output_type": "execute_result",
          "data": {
            "text/plain": [
              "array([ 1.,  6.,  2., 15.,  4.,  7.,  3.,  9., nan, 11.,  5., 12., 10.,\n",
              "        8., 13., 14., 16.])"
            ]
          },
          "metadata": {},
          "execution_count": 101
        }
      ]
    },
    {
      "cell_type": "markdown",
      "source": [
        "Order Count has NaN value"
      ],
      "metadata": {
        "id": "JXFI35gFpqWk"
      }
    },
    {
      "cell_type": "code",
      "source": [
        "data['DaySinceLastOrder'].unique()"
      ],
      "metadata": {
        "colab": {
          "base_uri": "https://localhost:8080/"
        },
        "id": "yPhTLHfqpd8Y",
        "outputId": "f48f90d4-084b-422a-fd31-0cc0eed06276"
      },
      "execution_count": 102,
      "outputs": [
        {
          "output_type": "execute_result",
          "data": {
            "text/plain": [
              "array([ 5.,  0.,  3.,  7.,  2.,  1.,  8.,  6.,  4., 15.,  9., 11., 10.,\n",
              "       nan, 13., 12., 17., 16., 14., 30., 46., 18., 31.])"
            ]
          },
          "metadata": {},
          "execution_count": 102
        }
      ]
    },
    {
      "cell_type": "markdown",
      "source": [
        "DaySince Last Order has a NaN value"
      ],
      "metadata": {
        "id": "uN38H1rMsXsj"
      }
    },
    {
      "cell_type": "code",
      "source": [
        "data['CashbackAmount'].unique()"
      ],
      "metadata": {
        "colab": {
          "base_uri": "https://localhost:8080/"
        },
        "id": "REDs1IgxsV5A",
        "outputId": "5f584aa4-10df-43a3-db84-e2a3b1d3546e"
      },
      "execution_count": 103,
      "outputs": [
        {
          "output_type": "execute_result",
          "data": {
            "text/plain": [
              "array([160, 121, 120, 134, 130, 139, 123, 127, 295, 154, 196, 129, 157,\n",
              "       161, 150, 162, 203, 117, 146, 207, 142, 173, 190, 143, 133, 209,\n",
              "       122, 194, 126, 299, 125, 187, 131, 111, 205, 137, 145, 128, 290,\n",
              "       287, 195, 237, 300, 159, 268, 136, 144, 153, 166, 163, 168, 138,\n",
              "       167, 176, 149, 204, 185, 200, 225, 236, 189, 222, 206,   0, 179,\n",
              "       188, 124, 132, 292, 261, 291, 164, 165, 169, 294, 135, 152, 269,\n",
              "       156, 140, 235, 218, 220, 276, 147, 158, 114, 180, 155, 260, 112,\n",
              "       221, 148, 219, 271, 240, 175, 151, 293, 283, 215, 171, 183, 181,\n",
              "       197, 267, 243, 232, 184, 266, 296, 280, 241, 270, 279, 191, 198,\n",
              "       141, 174, 262, 216, 119, 282, 254, 177, 110, 113, 186, 212, 248,\n",
              "       217, 238, 211, 284, 116, 272, 228, 202, 263, 208, 249, 178, 274,\n",
              "       214, 210, 227, 298, 233, 277, 234, 275, 231, 182, 286, 278, 297,\n",
              "       288, 281, 199, 273, 247, 193, 264, 192, 201, 244, 252, 170, 229,\n",
              "       230, 258, 115,  12, 118, 289, 239,  56, 320, 324, 315, 312, 325,\n",
              "       250,  25, 213, 317, 316, 319, 245, 301, 172, 285, 246, 265, 318,\n",
              "       308, 257, 321, 305, 304, 223, 307, 242, 309, 253, 323, 302, 259,\n",
              "       256, 311, 303, 322, 313, 306, 224, 226, 255,  37, 314,  81])"
            ]
          },
          "metadata": {},
          "execution_count": 103
        }
      ]
    },
    {
      "cell_type": "markdown",
      "source": [
        "As we can see, there are many columns with missing values."
      ],
      "metadata": {
        "id": "GCgy_BJSL3VV"
      }
    },
    {
      "cell_type": "code",
      "source": [
        "plt.figure(figsize = (10, 10))\n",
        "sns.heatmap(data.isnull(), cbar = False, cmap = \"YlGnBu\")\n",
        "plt.show()"
      ],
      "metadata": {
        "colab": {
          "base_uri": "https://localhost:8080/",
          "height": 739
        },
        "id": "Gh8RbL8kvJp5",
        "outputId": "50b30ffe-28b3-4fc7-9a45-206d62a6de5b"
      },
      "execution_count": 112,
      "outputs": [
        {
          "output_type": "display_data",
          "data": {
            "text/plain": [
              "<Figure size 720x720 with 1 Axes>"
            ],
            "image/png": "[encoded data removed]"
          },
          "metadata": {
            "needs_background": "light"
          }
        }
      ]
    },
    {
      "cell_type": "markdown",
      "source": [
        "We used this heatmap to see, if the missing values shared same row or all are from different rows. As we can see the missing are non-uniformly distributed throughout the dataset. So dropping the rows can't be option. That will lead to huge data loss. One of the ways to handle or deal with these missing values is KNNImputer."
      ],
      "metadata": {
        "id": "70IWccXcL9y9"
      }
    },
    {
      "cell_type": "code",
      "source": [
        "from sklearn.impute import KNNImputer"
      ],
      "metadata": {
        "id": "KIjkQ11cUC1d"
      },
      "execution_count": 105,
      "outputs": []
    },
    {
      "cell_type": "code",
      "source": [
        "imputer = KNNImputer(n_neighbors=5)"
      ],
      "metadata": {
        "id": "H25Ql_IwUej8"
      },
      "execution_count": 106,
      "outputs": []
    },
    {
      "cell_type": "code",
      "source": [
        "one_hot_encoded_data = pd.get_dummies(data, columns = ['PreferredLoginDevice', 'PreferredPaymentMode', 'Gender', 'PreferedOrderCat', 'MaritalStatus'])\n",
        "one_hot_encoded_data.head()"
      ],
      "metadata": {
        "colab": {
          "base_uri": "https://localhost:8080/",
          "height": 317
        },
        "id": "JQ89xSRWVADy",
        "outputId": "665e6da1-7008-4361-eb51-6a2f0b42955e"
      },
      "execution_count": 107,
      "outputs": [
        {
          "output_type": "execute_result",
          "data": {
            "text/plain": [
              "   CustomerID  Churn  Tenure  CityTier  WarehouseToHome  HourSpendOnApp  \\\n",
              "0       50001      1     4.0         3              6.0             3.0   \n",
              "1       50002      1     NaN         1              8.0             3.0   \n",
              "2       50003      1     NaN         1             30.0             2.0   \n",
              "3       50004      1     0.0         3             15.0             2.0   \n",
              "4       50005      1     0.0         1             12.0             NaN   \n",
              "\n",
              "   NumberOfDeviceRegistered  SatisfactionScore  NumberOfAddress  Complain  \\\n",
              "0                         3                  2                9         1   \n",
              "1                         4                  3                7         1   \n",
              "2                         4                  3                6         1   \n",
              "3                         4                  5                8         0   \n",
              "4                         3                  5                3         0   \n",
              "\n",
              "   ...  Gender_Female  Gender_Male  PreferedOrderCat_Fashion  \\\n",
              "0  ...              1            0                         0   \n",
              "1  ...              0            1                         0   \n",
              "2  ...              0            1                         0   \n",
              "3  ...              0            1                         0   \n",
              "4  ...              0            1                         0   \n",
              "\n",
              "   PreferedOrderCat_Grocery  PreferedOrderCat_Laptop & Accessory  \\\n",
              "0                         0                                    1   \n",
              "1                         0                                    0   \n",
              "2                         0                                    0   \n",
              "3                         0                                    1   \n",
              "4                         0                                    0   \n",
              "\n",
              "   PreferedOrderCat_Mobile  PreferedOrderCat_Others  MaritalStatus_Divorced  \\\n",
              "0                        0                        0                       0   \n",
              "1                        1                        0                       0   \n",
              "2                        1                        0                       0   \n",
              "3                        0                        0                       0   \n",
              "4                        1                        0                       0   \n",
              "\n",
              "   MaritalStatus_Married  MaritalStatus_Single  \n",
              "0                      0                     1  \n",
              "1                      0                     1  \n",
              "2                      0                     1  \n",
              "3                      0                     1  \n",
              "4                      0                     1  \n",
              "\n",
              "[5 rows x 32 columns]"
            ],
            "text/html": [
              "\n",
              "  <div id=\"df-fe75e95c-fc8a-408c-bdb3-151768865f76\">\n",
              "    <div class=\"colab-df-container\">\n",
              "      <div>\n",
              "<style scoped>\n",
              "    .dataframe tbody tr th:only-of-type {\n",
              "        vertical-align: middle;\n",
              "    }\n",
              "\n",
              "    .dataframe tbody tr th {\n",
              "        vertical-align: top;\n",
              "    }\n",
              "\n",
              "    .dataframe thead th {\n",
              "        text-align: right;\n",
              "    }\n",
              "</style>\n",
              "<table border=\"1\" class=\"dataframe\">\n",
              "  <thead>\n",
              "    <tr style=\"text-align: right;\">\n",
              "      <th></th>\n",
              "      <th>CustomerID</th>\n",
              "      <th>Churn</th>\n",
              "      <th>Tenure</th>\n",
              "      <th>CityTier</th>\n",
              "      <th>WarehouseToHome</th>\n",
              "      <th>HourSpendOnApp</th>\n",
              "      <th>NumberOfDeviceRegistered</th>\n",
              "      <th>SatisfactionScore</th>\n",
              "      <th>NumberOfAddress</th>\n",
              "      <th>Complain</th>\n",
              "      <th>...</th>\n",
              "      <th>Gender_Female</th>\n",
              "      <th>Gender_Male</th>\n",
              "      <th>PreferedOrderCat_Fashion</th>\n",
              "      <th>PreferedOrderCat_Grocery</th>\n",
              "      <th>PreferedOrderCat_Laptop &amp; Accessory</th>\n",
              "      <th>PreferedOrderCat_Mobile</th>\n",
              "      <th>PreferedOrderCat_Others</th>\n",
              "      <th>MaritalStatus_Divorced</th>\n",
              "      <th>MaritalStatus_Married</th>\n",
              "      <th>MaritalStatus_Single</th>\n",
              "    </tr>\n",
              "  </thead>\n",
              "  <tbody>\n",
              "    <tr>\n",
              "      <th>0</th>\n",
              "      <td>50001</td>\n",
              "      <td>1</td>\n",
              "      <td>4.0</td>\n",
              "      <td>3</td>\n",
              "      <td>6.0</td>\n",
              "      <td>3.0</td>\n",
              "      <td>3</td>\n",
              "      <td>2</td>\n",
              "      <td>9</td>\n",
              "      <td>1</td>\n",
              "      <td>...</td>\n",
              "      <td>1</td>\n",
              "      <td>0</td>\n",
              "      <td>0</td>\n",
              "      <td>0</td>\n",
              "      <td>1</td>\n",
              "      <td>0</td>\n",
              "      <td>0</td>\n",
              "      <td>0</td>\n",
              "      <td>0</td>\n",
              "      <td>1</td>\n",
              "    </tr>\n",
              "    <tr>\n",
              "      <th>1</th>\n",
              "      <td>50002</td>\n",
              "      <td>1</td>\n",
              "      <td>NaN</td>\n",
              "      <td>1</td>\n",
              "      <td>8.0</td>\n",
              "      <td>3.0</td>\n",
              "      <td>4</td>\n",
              "      <td>3</td>\n",
              "      <td>7</td>\n",
              "      <td>1</td>\n",
              "      <td>...</td>\n",
              "      <td>0</td>\n",
              "      <td>1</td>\n",
              "      <td>0</td>\n",
              "      <td>0</td>\n",
              "      <td>0</td>\n",
              "      <td>1</td>\n",
              "      <td>0</td>\n",
              "      <td>0</td>\n",
              "      <td>0</td>\n",
              "      <td>1</td>\n",
              "    </tr>\n",
              "    <tr>\n",
              "      <th>2</th>\n",
              "      <td>50003</td>\n",
              "      <td>1</td>\n",
              "      <td>NaN</td>\n",
              "      <td>1</td>\n",
              "      <td>30.0</td>\n",
              "      <td>2.0</td>\n",
              "      <td>4</td>\n",
              "      <td>3</td>\n",
              "      <td>6</td>\n",
              "      <td>1</td>\n",
              "      <td>...</td>\n",
              "      <td>0</td>\n",
              "      <td>1</td>\n",
              "      <td>0</td>\n",
              "      <td>0</td>\n",
              "      <td>0</td>\n",
              "      <td>1</td>\n",
              "      <td>0</td>\n",
              "      <td>0</td>\n",
              "      <td>0</td>\n",
              "      <td>1</td>\n",
              "    </tr>\n",
              "    <tr>\n",
              "      <th>3</th>\n",
              "      <td>50004</td>\n",
              "      <td>1</td>\n",
              "      <td>0.0</td>\n",
              "      <td>3</td>\n",
              "      <td>15.0</td>\n",
              "      <td>2.0</td>\n",
              "      <td>4</td>\n",
              "      <td>5</td>\n",
              "      <td>8</td>\n",
              "      <td>0</td>\n",
              "      <td>...</td>\n",
              "      <td>0</td>\n",
              "      <td>1</td>\n",
              "      <td>0</td>\n",
              "      <td>0</td>\n",
              "      <td>1</td>\n",
              "      <td>0</td>\n",
              "      <td>0</td>\n",
              "      <td>0</td>\n",
              "      <td>0</td>\n",
              "      <td>1</td>\n",
              "    </tr>\n",
              "    <tr>\n",
              "      <th>4</th>\n",
              "      <td>50005</td>\n",
              "      <td>1</td>\n",
              "      <td>0.0</td>\n",
              "      <td>1</td>\n",
              "      <td>12.0</td>\n",
              "      <td>NaN</td>\n",
              "      <td>3</td>\n",
              "      <td>5</td>\n",
              "      <td>3</td>\n",
              "      <td>0</td>\n",
              "      <td>...</td>\n",
              "      <td>0</td>\n",
              "      <td>1</td>\n",
              "      <td>0</td>\n",
              "      <td>0</td>\n",
              "      <td>0</td>\n",
              "      <td>1</td>\n",
              "      <td>0</td>\n",
              "      <td>0</td>\n",
              "      <td>0</td>\n",
              "      <td>1</td>\n",
              "    </tr>\n",
              "  </tbody>\n",
              "</table>\n",
              "<p>5 rows × 32 columns</p>\n",
              "</div>\n",
              "      <button class=\"colab-df-convert\" onclick=\"convertToInteractive('df-fe75e95c-fc8a-408c-bdb3-151768865f76')\"\n",
              "              title=\"Convert this dataframe to an interactive table.\"\n",
              "              style=\"display:none;\">\n",
              "        \n",
              "  <svg xmlns=\"http://www.w3.org/2000/svg\" height=\"24px\"viewBox=\"0 0 24 24\"\n",
              "       width=\"24px\">\n",
              "    <path d=\"M0 0h24v24H0V0z\" fill=\"none\"/>\n",
              "    <path d=\"M18.56 5.44l.94 2.06.94-2.06 2.06-.94-2.06-.94-.94-2.06-.94 2.06-2.06.94zm-11 1L8.5 8.5l.94-2.06 2.06-.94-2.06-.94L8.5 2.5l-.94 2.06-2.06.94zm10 10l.94 2.06.94-2.06 2.06-.94-2.06-.94-.94-2.06-.94 2.06-2.06.94z\"/><path d=\"M17.41 7.96l-1.37-1.37c-.4-.4-.92-.59-1.43-.59-.52 0-1.04.2-1.43.59L10.3 9.45l-7.72 7.72c-.78.78-.78 2.05 0 2.83L4 21.41c.39.39.9.59 1.41.59.51 0 1.02-.2 1.41-.59l7.78-7.78 2.81-2.81c.8-.78.8-2.07 0-2.86zM5.41 20L4 18.59l7.72-7.72 1.47 1.35L5.41 20z\"/>\n",
              "  </svg>\n",
              "      </button>\n",
              "      \n",
              "  <style>\n",
              "    .colab-df-container {\n",
              "      display:flex;\n",
              "      flex-wrap:wrap;\n",
              "      gap: 12px;\n",
              "    }\n",
              "\n",
              "    .colab-df-convert {\n",
              "      background-color: #E8F0FE;\n",
              "      border: none;\n",
              "      border-radius: 50%;\n",
              "      cursor: pointer;\n",
              "      display: none;\n",
              "      fill: #1967D2;\n",
              "      height: 32px;\n",
              "      padding: 0 0 0 0;\n",
              "      width: 32px;\n",
              "    }\n",
              "\n",
              "    .colab-df-convert:hover {\n",
              "      background-color: #E2EBFA;\n",
              "      box-shadow: 0px 1px 2px rgba(60, 64, 67, 0.3), 0px 1px 3px 1px rgba(60, 64, 67, 0.15);\n",
              "      fill: #174EA6;\n",
              "    }\n",
              "\n",
              "    [theme=dark] .colab-df-convert {\n",
              "      background-color: #3B4455;\n",
              "      fill: #D2E3FC;\n",
              "    }\n",
              "\n",
              "    [theme=dark] .colab-df-convert:hover {\n",
              "      background-color: #434B5C;\n",
              "      box-shadow: 0px 1px 3px 1px rgba(0, 0, 0, 0.15);\n",
              "      filter: drop-shadow(0px 1px 2px rgba(0, 0, 0, 0.3));\n",
              "      fill: #FFFFFF;\n",
              "    }\n",
              "  </style>\n",
              "\n",
              "      <script>\n",
              "        const buttonEl =\n",
              "          document.querySelector('#df-fe75e95c-fc8a-408c-bdb3-151768865f76 button.colab-df-convert');\n",
              "        buttonEl.style.display =\n",
              "          google.colab.kernel.accessAllowed ? 'block' : 'none';\n",
              "\n",
              "        async function convertToInteractive(key) {\n",
              "          const element = document.querySelector('#df-fe75e95c-fc8a-408c-bdb3-151768865f76');\n",
              "          const dataTable =\n",
              "            await google.colab.kernel.invokeFunction('convertToInteractive',\n",
              "                                                     [key], {});\n",
              "          if (!dataTable) return;\n",
              "\n",
              "          const docLinkHtml = 'Like what you see? Visit the ' +\n",
              "            '<a target=\"_blank\" href=https://colab.research.google.com/notebooks/data_table.ipynb>data table notebook</a>'\n",
              "            + ' to learn more about interactive tables.';\n",
              "          element.innerHTML = '';\n",
              "          dataTable['output_type'] = 'display_data';\n",
              "          await google.colab.output.renderOutput(dataTable, element);\n",
              "          const docLink = document.createElement('div');\n",
              "          docLink.innerHTML = docLinkHtml;\n",
              "          element.appendChild(docLink);\n",
              "        }\n",
              "      </script>\n",
              "    </div>\n",
              "  </div>\n",
              "  "
            ]
          },
          "metadata": {},
          "execution_count": 107
        }
      ]
    },
    {
      "cell_type": "code",
      "source": [
        "new_data = imputer.fit_transform(one_hot_encoded_data)"
      ],
      "metadata": {
        "id": "ndtpq0seUhP_"
      },
      "execution_count": 108,
      "outputs": []
    },
    {
      "cell_type": "code",
      "source": [
        "new_data"
      ],
      "metadata": {
        "colab": {
          "base_uri": "https://localhost:8080/"
        },
        "id": "h50TdcxLWK-t",
        "outputId": "007a8c29-c36d-44d1-de6c-e059ca44af4b"
      },
      "execution_count": 109,
      "outputs": [
        {
          "output_type": "execute_result",
          "data": {
            "text/plain": [
              "array([[5.0001e+04, 1.0000e+00, 4.0000e+00, ..., 0.0000e+00, 0.0000e+00,\n",
              "        1.0000e+00],\n",
              "       [5.0002e+04, 1.0000e+00, 2.6000e+00, ..., 0.0000e+00, 0.0000e+00,\n",
              "        1.0000e+00],\n",
              "       [5.0003e+04, 1.0000e+00, 2.6000e+00, ..., 0.0000e+00, 0.0000e+00,\n",
              "        1.0000e+00],\n",
              "       ...,\n",
              "       [5.5628e+04, 0.0000e+00, 1.0000e+00, ..., 0.0000e+00, 1.0000e+00,\n",
              "        0.0000e+00],\n",
              "       [5.5629e+04, 0.0000e+00, 2.3000e+01, ..., 0.0000e+00, 1.0000e+00,\n",
              "        0.0000e+00],\n",
              "       [5.5630e+04, 0.0000e+00, 8.0000e+00, ..., 0.0000e+00, 1.0000e+00,\n",
              "        0.0000e+00]])"
            ]
          },
          "metadata": {},
          "execution_count": 109
        }
      ]
    },
    {
      "cell_type": "code",
      "source": [
        "one_hot_encoded_data[:]= imputer.transform(new_data)"
      ],
      "metadata": {
        "colab": {
          "base_uri": "https://localhost:8080/"
        },
        "id": "KDRdDKX0Wjkz",
        "outputId": "b13096bb-cce1-4db2-aa99-c69160141ba5"
      },
      "execution_count": 110,
      "outputs": [
        {
          "output_type": "stream",
          "name": "stderr",
          "text": [
            "/usr/local/lib/python3.8/dist-packages/sklearn/base.py:450: UserWarning: X does not have valid feature names, but KNNImputer was fitted with feature names\n",
            "  warnings.warn(\n"
          ]
        }
      ]
    },
    {
      "cell_type": "code",
      "source": [
        "one_hot_encoded_data.head()"
      ],
      "metadata": {
        "colab": {
          "base_uri": "https://localhost:8080/",
          "height": 317
        },
        "id": "J4EGKKtFWnRQ",
        "outputId": "4b804532-150c-496e-bb1c-bba5c8035fba"
      },
      "execution_count": 113,
      "outputs": [
        {
          "output_type": "execute_result",
          "data": {
            "text/plain": [
              "   CustomerID  Churn  Tenure  CityTier  WarehouseToHome  HourSpendOnApp  \\\n",
              "0     50001.0    1.0     4.0       3.0              6.0             3.0   \n",
              "1     50002.0    1.0     2.6       1.0              8.0             3.0   \n",
              "2     50003.0    1.0     2.6       1.0             30.0             2.0   \n",
              "3     50004.0    1.0     0.0       3.0             15.0             2.0   \n",
              "4     50005.0    1.0     0.0       1.0             12.0             2.6   \n",
              "\n",
              "   NumberOfDeviceRegistered  SatisfactionScore  NumberOfAddress  Complain  \\\n",
              "0                       3.0                2.0              9.0       1.0   \n",
              "1                       4.0                3.0              7.0       1.0   \n",
              "2                       4.0                3.0              6.0       1.0   \n",
              "3                       4.0                5.0              8.0       0.0   \n",
              "4                       3.0                5.0              3.0       0.0   \n",
              "\n",
              "   ...  Gender_Female  Gender_Male  PreferedOrderCat_Fashion  \\\n",
              "0  ...            1.0          0.0                       0.0   \n",
              "1  ...            0.0          1.0                       0.0   \n",
              "2  ...            0.0          1.0                       0.0   \n",
              "3  ...            0.0          1.0                       0.0   \n",
              "4  ...            0.0          1.0                       0.0   \n",
              "\n",
              "   PreferedOrderCat_Grocery  PreferedOrderCat_Laptop & Accessory  \\\n",
              "0                       0.0                                  1.0   \n",
              "1                       0.0                                  0.0   \n",
              "2                       0.0                                  0.0   \n",
              "3                       0.0                                  1.0   \n",
              "4                       0.0                                  0.0   \n",
              "\n",
              "   PreferedOrderCat_Mobile  PreferedOrderCat_Others  MaritalStatus_Divorced  \\\n",
              "0                      0.0                      0.0                     0.0   \n",
              "1                      1.0                      0.0                     0.0   \n",
              "2                      1.0                      0.0                     0.0   \n",
              "3                      0.0                      0.0                     0.0   \n",
              "4                      1.0                      0.0                     0.0   \n",
              "\n",
              "   MaritalStatus_Married  MaritalStatus_Single  \n",
              "0                    0.0                   1.0  \n",
              "1                    0.0                   1.0  \n",
              "2                    0.0                   1.0  \n",
              "3                    0.0                   1.0  \n",
              "4                    0.0                   1.0  \n",
              "\n",
              "[5 rows x 32 columns]"
            ],
            "text/html": [
              "\n",
              "  <div id=\"df-f0a1ec39-01f7-4398-a671-9950416e81aa\">\n",
              "    <div class=\"colab-df-container\">\n",
              "      <div>\n",
              "<style scoped>\n",
              "    .dataframe tbody tr th:only-of-type {\n",
              "        vertical-align: middle;\n",
              "    }\n",
              "\n",
              "    .dataframe tbody tr th {\n",
              "        vertical-align: top;\n",
              "    }\n",
              "\n",
              "    .dataframe thead th {\n",
              "        text-align: right;\n",
              "    }\n",
              "</style>\n",
              "<table border=\"1\" class=\"dataframe\">\n",
              "  <thead>\n",
              "    <tr style=\"text-align: right;\">\n",
              "      <th></th>\n",
              "      <th>CustomerID</th>\n",
              "      <th>Churn</th>\n",
              "      <th>Tenure</th>\n",
              "      <th>CityTier</th>\n",
              "      <th>WarehouseToHome</th>\n",
              "      <th>HourSpendOnApp</th>\n",
              "      <th>NumberOfDeviceRegistered</th>\n",
              "      <th>SatisfactionScore</th>\n",
              "      <th>NumberOfAddress</th>\n",
              "      <th>Complain</th>\n",
              "      <th>...</th>\n",
              "      <th>Gender_Female</th>\n",
              "      <th>Gender_Male</th>\n",
              "      <th>PreferedOrderCat_Fashion</th>\n",
              "      <th>PreferedOrderCat_Grocery</th>\n",
              "      <th>PreferedOrderCat_Laptop &amp; Accessory</th>\n",
              "      <th>PreferedOrderCat_Mobile</th>\n",
              "      <th>PreferedOrderCat_Others</th>\n",
              "      <th>MaritalStatus_Divorced</th>\n",
              "      <th>MaritalStatus_Married</th>\n",
              "      <th>MaritalStatus_Single</th>\n",
              "    </tr>\n",
              "  </thead>\n",
              "  <tbody>\n",
              "    <tr>\n",
              "      <th>0</th>\n",
              "      <td>50001.0</td>\n",
              "      <td>1.0</td>\n",
              "      <td>4.0</td>\n",
              "      <td>3.0</td>\n",
              "      <td>6.0</td>\n",
              "      <td>3.0</td>\n",
              "      <td>3.0</td>\n",
              "      <td>2.0</td>\n",
              "      <td>9.0</td>\n",
              "      <td>1.0</td>\n",
              "      <td>...</td>\n",
              "      <td>1.0</td>\n",
              "      <td>0.0</td>\n",
              "      <td>0.0</td>\n",
              "      <td>0.0</td>\n",
              "      <td>1.0</td>\n",
              "      <td>0.0</td>\n",
              "      <td>0.0</td>\n",
              "      <td>0.0</td>\n",
              "      <td>0.0</td>\n",
              "      <td>1.0</td>\n",
              "    </tr>\n",
              "    <tr>\n",
              "      <th>1</th>\n",
              "      <td>50002.0</td>\n",
              "      <td>1.0</td>\n",
              "      <td>2.6</td>\n",
              "      <td>1.0</td>\n",
              "      <td>8.0</td>\n",
              "      <td>3.0</td>\n",
              "      <td>4.0</td>\n",
              "      <td>3.0</td>\n",
              "      <td>7.0</td>\n",
              "      <td>1.0</td>\n",
              "      <td>...</td>\n",
              "      <td>0.0</td>\n",
              "      <td>1.0</td>\n",
              "      <td>0.0</td>\n",
              "      <td>0.0</td>\n",
              "      <td>0.0</td>\n",
              "      <td>1.0</td>\n",
              "      <td>0.0</td>\n",
              "      <td>0.0</td>\n",
              "      <td>0.0</td>\n",
              "      <td>1.0</td>\n",
              "    </tr>\n",
              "    <tr>\n",
              "      <th>2</th>\n",
              "      <td>50003.0</td>\n",
              "      <td>1.0</td>\n",
              "      <td>2.6</td>\n",
              "      <td>1.0</td>\n",
              "      <td>30.0</td>\n",
              "      <td>2.0</td>\n",
              "      <td>4.0</td>\n",
              "      <td>3.0</td>\n",
              "      <td>6.0</td>\n",
              "      <td>1.0</td>\n",
              "      <td>...</td>\n",
              "      <td>0.0</td>\n",
              "      <td>1.0</td>\n",
              "      <td>0.0</td>\n",
              "      <td>0.0</td>\n",
              "      <td>0.0</td>\n",
              "      <td>1.0</td>\n",
              "      <td>0.0</td>\n",
              "      <td>0.0</td>\n",
              "      <td>0.0</td>\n",
              "      <td>1.0</td>\n",
              "    </tr>\n",
              "    <tr>\n",
              "      <th>3</th>\n",
              "      <td>50004.0</td>\n",
              "      <td>1.0</td>\n",
              "      <td>0.0</td>\n",
              "      <td>3.0</td>\n",
              "      <td>15.0</td>\n",
              "      <td>2.0</td>\n",
              "      <td>4.0</td>\n",
              "      <td>5.0</td>\n",
              "      <td>8.0</td>\n",
              "      <td>0.0</td>\n",
              "      <td>...</td>\n",
              "      <td>0.0</td>\n",
              "      <td>1.0</td>\n",
              "      <td>0.0</td>\n",
              "      <td>0.0</td>\n",
              "      <td>1.0</td>\n",
              "      <td>0.0</td>\n",
              "      <td>0.0</td>\n",
              "      <td>0.0</td>\n",
              "      <td>0.0</td>\n",
              "      <td>1.0</td>\n",
              "    </tr>\n",
              "    <tr>\n",
              "      <th>4</th>\n",
              "      <td>50005.0</td>\n",
              "      <td>1.0</td>\n",
              "      <td>0.0</td>\n",
              "      <td>1.0</td>\n",
              "      <td>12.0</td>\n",
              "      <td>2.6</td>\n",
              "      <td>3.0</td>\n",
              "      <td>5.0</td>\n",
              "      <td>3.0</td>\n",
              "      <td>0.0</td>\n",
              "      <td>...</td>\n",
              "      <td>0.0</td>\n",
              "      <td>1.0</td>\n",
              "      <td>0.0</td>\n",
              "      <td>0.0</td>\n",
              "      <td>0.0</td>\n",
              "      <td>1.0</td>\n",
              "      <td>0.0</td>\n",
              "      <td>0.0</td>\n",
              "      <td>0.0</td>\n",
              "      <td>1.0</td>\n",
              "    </tr>\n",
              "  </tbody>\n",
              "</table>\n",
              "<p>5 rows × 32 columns</p>\n",
              "</div>\n",
              "      <button class=\"colab-df-convert\" onclick=\"convertToInteractive('df-f0a1ec39-01f7-4398-a671-9950416e81aa')\"\n",
              "              title=\"Convert this dataframe to an interactive table.\"\n",
              "              style=\"display:none;\">\n",
              "        \n",
              "  <svg xmlns=\"http://www.w3.org/2000/svg\" height=\"24px\"viewBox=\"0 0 24 24\"\n",
              "       width=\"24px\">\n",
              "    <path d=\"M0 0h24v24H0V0z\" fill=\"none\"/>\n",
              "    <path d=\"M18.56 5.44l.94 2.06.94-2.06 2.06-.94-2.06-.94-.94-2.06-.94 2.06-2.06.94zm-11 1L8.5 8.5l.94-2.06 2.06-.94-2.06-.94L8.5 2.5l-.94 2.06-2.06.94zm10 10l.94 2.06.94-2.06 2.06-.94-2.06-.94-.94-2.06-.94 2.06-2.06.94z\"/><path d=\"M17.41 7.96l-1.37-1.37c-.4-.4-.92-.59-1.43-.59-.52 0-1.04.2-1.43.59L10.3 9.45l-7.72 7.72c-.78.78-.78 2.05 0 2.83L4 21.41c.39.39.9.59 1.41.59.51 0 1.02-.2 1.41-.59l7.78-7.78 2.81-2.81c.8-.78.8-2.07 0-2.86zM5.41 20L4 18.59l7.72-7.72 1.47 1.35L5.41 20z\"/>\n",
              "  </svg>\n",
              "      </button>\n",
              "      \n",
              "  <style>\n",
              "    .colab-df-container {\n",
              "      display:flex;\n",
              "      flex-wrap:wrap;\n",
              "      gap: 12px;\n",
              "    }\n",
              "\n",
              "    .colab-df-convert {\n",
              "      background-color: #E8F0FE;\n",
              "      border: none;\n",
              "      border-radius: 50%;\n",
              "      cursor: pointer;\n",
              "      display: none;\n",
              "      fill: #1967D2;\n",
              "      height: 32px;\n",
              "      padding: 0 0 0 0;\n",
              "      width: 32px;\n",
              "    }\n",
              "\n",
              "    .colab-df-convert:hover {\n",
              "      background-color: #E2EBFA;\n",
              "      box-shadow: 0px 1px 2px rgba(60, 64, 67, 0.3), 0px 1px 3px 1px rgba(60, 64, 67, 0.15);\n",
              "      fill: #174EA6;\n",
              "    }\n",
              "\n",
              "    [theme=dark] .colab-df-convert {\n",
              "      background-color: #3B4455;\n",
              "      fill: #D2E3FC;\n",
              "    }\n",
              "\n",
              "    [theme=dark] .colab-df-convert:hover {\n",
              "      background-color: #434B5C;\n",
              "      box-shadow: 0px 1px 3px 1px rgba(0, 0, 0, 0.15);\n",
              "      filter: drop-shadow(0px 1px 2px rgba(0, 0, 0, 0.3));\n",
              "      fill: #FFFFFF;\n",
              "    }\n",
              "  </style>\n",
              "\n",
              "      <script>\n",
              "        const buttonEl =\n",
              "          document.querySelector('#df-f0a1ec39-01f7-4398-a671-9950416e81aa button.colab-df-convert');\n",
              "        buttonEl.style.display =\n",
              "          google.colab.kernel.accessAllowed ? 'block' : 'none';\n",
              "\n",
              "        async function convertToInteractive(key) {\n",
              "          const element = document.querySelector('#df-f0a1ec39-01f7-4398-a671-9950416e81aa');\n",
              "          const dataTable =\n",
              "            await google.colab.kernel.invokeFunction('convertToInteractive',\n",
              "                                                     [key], {});\n",
              "          if (!dataTable) return;\n",
              "\n",
              "          const docLinkHtml = 'Like what you see? Visit the ' +\n",
              "            '<a target=\"_blank\" href=https://colab.research.google.com/notebooks/data_table.ipynb>data table notebook</a>'\n",
              "            + ' to learn more about interactive tables.';\n",
              "          element.innerHTML = '';\n",
              "          dataTable['output_type'] = 'display_data';\n",
              "          await google.colab.output.renderOutput(dataTable, element);\n",
              "          const docLink = document.createElement('div');\n",
              "          docLink.innerHTML = docLinkHtml;\n",
              "          element.appendChild(docLink);\n",
              "        }\n",
              "      </script>\n",
              "    </div>\n",
              "  </div>\n",
              "  "
            ]
          },
          "metadata": {},
          "execution_count": 113
        }
      ]
    },
    {
      "cell_type": "code",
      "source": [
        "one_hot_encoded_data.isnull().sum()"
      ],
      "metadata": {
        "colab": {
          "base_uri": "https://localhost:8080/"
        },
        "id": "fJnXiJ-fWwAR",
        "outputId": "1dea7bcc-3bab-4863-f7a5-25564456abbf"
      },
      "execution_count": 114,
      "outputs": [
        {
          "output_type": "execute_result",
          "data": {
            "text/plain": [
              "CustomerID                             0\n",
              "Churn                                  0\n",
              "Tenure                                 0\n",
              "CityTier                               0\n",
              "WarehouseToHome                        0\n",
              "HourSpendOnApp                         0\n",
              "NumberOfDeviceRegistered               0\n",
              "SatisfactionScore                      0\n",
              "NumberOfAddress                        0\n",
              "Complain                               0\n",
              "OrderAmountHikeFromlastYear            0\n",
              "CouponUsed                             0\n",
              "OrderCount                             0\n",
              "DaySinceLastOrder                      0\n",
              "CashbackAmount                         0\n",
              "PreferredLoginDevice_Computer          0\n",
              "PreferredLoginDevice_Mobile Phone      0\n",
              "PreferredPaymentMode_CC                0\n",
              "PreferredPaymentMode_COD               0\n",
              "PreferredPaymentMode_Debit Card        0\n",
              "PreferredPaymentMode_E wallet          0\n",
              "PreferredPaymentMode_UPI               0\n",
              "Gender_Female                          0\n",
              "Gender_Male                            0\n",
              "PreferedOrderCat_Fashion               0\n",
              "PreferedOrderCat_Grocery               0\n",
              "PreferedOrderCat_Laptop & Accessory    0\n",
              "PreferedOrderCat_Mobile                0\n",
              "PreferedOrderCat_Others                0\n",
              "MaritalStatus_Divorced                 0\n",
              "MaritalStatus_Married                  0\n",
              "MaritalStatus_Single                   0\n",
              "dtype: int64"
            ]
          },
          "metadata": {},
          "execution_count": 114
        }
      ]
    },
    {
      "cell_type": "code",
      "source": [],
      "metadata": {
        "id": "AGHc0ZHIazL9"
      },
      "execution_count": null,
      "outputs": []
    },
    {
      "cell_type": "markdown",
      "source": [
        "**Export the cleaned dataset as a .csv file**"
      ],
      "metadata": {
        "id": "ZQfQy62espWo"
      }
    },
    {
      "cell_type": "code",
      "source": [
        "one_hot_encoded_data.to_csv('E_Commerce_Churn_cleaned.csv', index = False)"
      ],
      "metadata": {
        "id": "F9MvWqZBsq7E"
      },
      "execution_count": 115,
      "outputs": []
    },
    {
      "cell_type": "code",
      "source": [],
      "metadata": {
        "id": "tLrNvJ8Os6u0"
      },
      "execution_count": null,
      "outputs": []
    }
  ]
}