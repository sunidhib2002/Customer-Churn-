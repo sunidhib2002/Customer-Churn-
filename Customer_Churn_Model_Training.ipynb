{
  "nbformat": 4,
  "nbformat_minor": 0,
  "metadata": {
    "colab": {
      "provenance": [],
      "authorship_tag": "ABX9TyP7S4LkTd+yZ0MgQZX6mKiq",
      "include_colab_link": true
    },
    "kernelspec": {
      "name": "python3",
      "display_name": "Python 3"
    },
    "language_info": {
      "name": "python"
    }
  },
  "cells": [
    {
      "cell_type": "markdown",
      "metadata": {
        "id": "view-in-github",
        "colab_type": "text"
      },
      "source": [
        "<a href=\"https://colab.research.google.com/github/sunidhib2002/Customer-Churn-/blob/main/Customer_Churn_Model_Training.ipynb\" target=\"_parent\"><img src=\"https://colab.research.google.com/assets/colab-badge.svg\" alt=\"Open In Colab\"/></a>"
      ]
    },
    {
      "cell_type": "code",
      "execution_count": 108,
      "metadata": {
        "id": "6LCoyRxNcWww"
      },
      "outputs": [],
      "source": [
        "import numpy as np\n",
        "import pandas as pd"
      ]
    },
    {
      "cell_type": "code",
      "source": [
        "path = '/content/E_Commerce_Churn_cleaned.csv'"
      ],
      "metadata": {
        "id": "MGgGqrbJcyr3"
      },
      "execution_count": 109,
      "outputs": []
    },
    {
      "cell_type": "code",
      "source": [
        "data = pd.read_csv(path)"
      ],
      "metadata": {
        "id": "evLMU4xdc2KT"
      },
      "execution_count": 110,
      "outputs": []
    },
    {
      "cell_type": "code",
      "source": [
        "data.head()"
      ],
      "metadata": {
        "colab": {
          "base_uri": "https://localhost:8080/",
          "height": 317
        },
        "id": "6V-h6gtMc4Y4",
        "outputId": "8f7eb309-0a4f-4108-e16a-47aff9674659"
      },
      "execution_count": 111,
      "outputs": [
        {
          "output_type": "execute_result",
          "data": {
            "text/plain": [
              "   CustomerID  Churn  Tenure  CityTier  WarehouseToHome  HourSpendOnApp  \\\n",
              "0     50001.0    1.0     4.0       3.0              6.0             3.0   \n",
              "1     50002.0    1.0     2.6       1.0              8.0             3.0   \n",
              "2     50003.0    1.0     2.6       1.0             30.0             2.0   \n",
              "3     50004.0    1.0     0.0       3.0             15.0             2.0   \n",
              "4     50005.0    1.0     0.0       1.0             12.0             2.6   \n",
              "\n",
              "   NumberOfDeviceRegistered  SatisfactionScore  NumberOfAddress  Complain  \\\n",
              "0                       3.0                2.0              9.0       1.0   \n",
              "1                       4.0                3.0              7.0       1.0   \n",
              "2                       4.0                3.0              6.0       1.0   \n",
              "3                       4.0                5.0              8.0       0.0   \n",
              "4                       3.0                5.0              3.0       0.0   \n",
              "\n",
              "   ...  Gender_Female  Gender_Male  PreferedOrderCat_Fashion  \\\n",
              "0  ...            1.0          0.0                       0.0   \n",
              "1  ...            0.0          1.0                       0.0   \n",
              "2  ...            0.0          1.0                       0.0   \n",
              "3  ...            0.0          1.0                       0.0   \n",
              "4  ...            0.0          1.0                       0.0   \n",
              "\n",
              "   PreferedOrderCat_Grocery  PreferedOrderCat_Laptop & Accessory  \\\n",
              "0                       0.0                                  1.0   \n",
              "1                       0.0                                  0.0   \n",
              "2                       0.0                                  0.0   \n",
              "3                       0.0                                  1.0   \n",
              "4                       0.0                                  0.0   \n",
              "\n",
              "   PreferedOrderCat_Mobile  PreferedOrderCat_Others  MaritalStatus_Divorced  \\\n",
              "0                      0.0                      0.0                     0.0   \n",
              "1                      1.0                      0.0                     0.0   \n",
              "2                      1.0                      0.0                     0.0   \n",
              "3                      0.0                      0.0                     0.0   \n",
              "4                      1.0                      0.0                     0.0   \n",
              "\n",
              "   MaritalStatus_Married  MaritalStatus_Single  \n",
              "0                    0.0                   1.0  \n",
              "1                    0.0                   1.0  \n",
              "2                    0.0                   1.0  \n",
              "3                    0.0                   1.0  \n",
              "4                    0.0                   1.0  \n",
              "\n",
              "[5 rows x 32 columns]"
            ],
            "text/html": [
              "\n",
              "  <div id=\"df-5e4b9644-3253-4386-892f-1aa9ad08bd99\">\n",
              "    <div class=\"colab-df-container\">\n",
              "      <div>\n",
              "<style scoped>\n",
              "    .dataframe tbody tr th:only-of-type {\n",
              "        vertical-align: middle;\n",
              "    }\n",
              "\n",
              "    .dataframe tbody tr th {\n",
              "        vertical-align: top;\n",
              "    }\n",
              "\n",
              "    .dataframe thead th {\n",
              "        text-align: right;\n",
              "    }\n",
              "</style>\n",
              "<table border=\"1\" class=\"dataframe\">\n",
              "  <thead>\n",
              "    <tr style=\"text-align: right;\">\n",
              "      <th></th>\n",
              "      <th>CustomerID</th>\n",
              "      <th>Churn</th>\n",
              "      <th>Tenure</th>\n",
              "      <th>CityTier</th>\n",
              "      <th>WarehouseToHome</th>\n",
              "      <th>HourSpendOnApp</th>\n",
              "      <th>NumberOfDeviceRegistered</th>\n",
              "      <th>SatisfactionScore</th>\n",
              "      <th>NumberOfAddress</th>\n",
              "      <th>Complain</th>\n",
              "      <th>...</th>\n",
              "      <th>Gender_Female</th>\n",
              "      <th>Gender_Male</th>\n",
              "      <th>PreferedOrderCat_Fashion</th>\n",
              "      <th>PreferedOrderCat_Grocery</th>\n",
              "      <th>PreferedOrderCat_Laptop &amp; Accessory</th>\n",
              "      <th>PreferedOrderCat_Mobile</th>\n",
              "      <th>PreferedOrderCat_Others</th>\n",
              "      <th>MaritalStatus_Divorced</th>\n",
              "      <th>MaritalStatus_Married</th>\n",
              "      <th>MaritalStatus_Single</th>\n",
              "    </tr>\n",
              "  </thead>\n",
              "  <tbody>\n",
              "    <tr>\n",
              "      <th>0</th>\n",
              "      <td>50001.0</td>\n",
              "      <td>1.0</td>\n",
              "      <td>4.0</td>\n",
              "      <td>3.0</td>\n",
              "      <td>6.0</td>\n",
              "      <td>3.0</td>\n",
              "      <td>3.0</td>\n",
              "      <td>2.0</td>\n",
              "      <td>9.0</td>\n",
              "      <td>1.0</td>\n",
              "      <td>...</td>\n",
              "      <td>1.0</td>\n",
              "      <td>0.0</td>\n",
              "      <td>0.0</td>\n",
              "      <td>0.0</td>\n",
              "      <td>1.0</td>\n",
              "      <td>0.0</td>\n",
              "      <td>0.0</td>\n",
              "      <td>0.0</td>\n",
              "      <td>0.0</td>\n",
              "      <td>1.0</td>\n",
              "    </tr>\n",
              "    <tr>\n",
              "      <th>1</th>\n",
              "      <td>50002.0</td>\n",
              "      <td>1.0</td>\n",
              "      <td>2.6</td>\n",
              "      <td>1.0</td>\n",
              "      <td>8.0</td>\n",
              "      <td>3.0</td>\n",
              "      <td>4.0</td>\n",
              "      <td>3.0</td>\n",
              "      <td>7.0</td>\n",
              "      <td>1.0</td>\n",
              "      <td>...</td>\n",
              "      <td>0.0</td>\n",
              "      <td>1.0</td>\n",
              "      <td>0.0</td>\n",
              "      <td>0.0</td>\n",
              "      <td>0.0</td>\n",
              "      <td>1.0</td>\n",
              "      <td>0.0</td>\n",
              "      <td>0.0</td>\n",
              "      <td>0.0</td>\n",
              "      <td>1.0</td>\n",
              "    </tr>\n",
              "    <tr>\n",
              "      <th>2</th>\n",
              "      <td>50003.0</td>\n",
              "      <td>1.0</td>\n",
              "      <td>2.6</td>\n",
              "      <td>1.0</td>\n",
              "      <td>30.0</td>\n",
              "      <td>2.0</td>\n",
              "      <td>4.0</td>\n",
              "      <td>3.0</td>\n",
              "      <td>6.0</td>\n",
              "      <td>1.0</td>\n",
              "      <td>...</td>\n",
              "      <td>0.0</td>\n",
              "      <td>1.0</td>\n",
              "      <td>0.0</td>\n",
              "      <td>0.0</td>\n",
              "      <td>0.0</td>\n",
              "      <td>1.0</td>\n",
              "      <td>0.0</td>\n",
              "      <td>0.0</td>\n",
              "      <td>0.0</td>\n",
              "      <td>1.0</td>\n",
              "    </tr>\n",
              "    <tr>\n",
              "      <th>3</th>\n",
              "      <td>50004.0</td>\n",
              "      <td>1.0</td>\n",
              "      <td>0.0</td>\n",
              "      <td>3.0</td>\n",
              "      <td>15.0</td>\n",
              "      <td>2.0</td>\n",
              "      <td>4.0</td>\n",
              "      <td>5.0</td>\n",
              "      <td>8.0</td>\n",
              "      <td>0.0</td>\n",
              "      <td>...</td>\n",
              "      <td>0.0</td>\n",
              "      <td>1.0</td>\n",
              "      <td>0.0</td>\n",
              "      <td>0.0</td>\n",
              "      <td>1.0</td>\n",
              "      <td>0.0</td>\n",
              "      <td>0.0</td>\n",
              "      <td>0.0</td>\n",
              "      <td>0.0</td>\n",
              "      <td>1.0</td>\n",
              "    </tr>\n",
              "    <tr>\n",
              "      <th>4</th>\n",
              "      <td>50005.0</td>\n",
              "      <td>1.0</td>\n",
              "      <td>0.0</td>\n",
              "      <td>1.0</td>\n",
              "      <td>12.0</td>\n",
              "      <td>2.6</td>\n",
              "      <td>3.0</td>\n",
              "      <td>5.0</td>\n",
              "      <td>3.0</td>\n",
              "      <td>0.0</td>\n",
              "      <td>...</td>\n",
              "      <td>0.0</td>\n",
              "      <td>1.0</td>\n",
              "      <td>0.0</td>\n",
              "      <td>0.0</td>\n",
              "      <td>0.0</td>\n",
              "      <td>1.0</td>\n",
              "      <td>0.0</td>\n",
              "      <td>0.0</td>\n",
              "      <td>0.0</td>\n",
              "      <td>1.0</td>\n",
              "    </tr>\n",
              "  </tbody>\n",
              "</table>\n",
              "<p>5 rows × 32 columns</p>\n",
              "</div>\n",
              "      <button class=\"colab-df-convert\" onclick=\"convertToInteractive('df-5e4b9644-3253-4386-892f-1aa9ad08bd99')\"\n",
              "              title=\"Convert this dataframe to an interactive table.\"\n",
              "              style=\"display:none;\">\n",
              "        \n",
              "  <svg xmlns=\"http://www.w3.org/2000/svg\" height=\"24px\"viewBox=\"0 0 24 24\"\n",
              "       width=\"24px\">\n",
              "    <path d=\"M0 0h24v24H0V0z\" fill=\"none\"/>\n",
              "    <path d=\"M18.56 5.44l.94 2.06.94-2.06 2.06-.94-2.06-.94-.94-2.06-.94 2.06-2.06.94zm-11 1L8.5 8.5l.94-2.06 2.06-.94-2.06-.94L8.5 2.5l-.94 2.06-2.06.94zm10 10l.94 2.06.94-2.06 2.06-.94-2.06-.94-.94-2.06-.94 2.06-2.06.94z\"/><path d=\"M17.41 7.96l-1.37-1.37c-.4-.4-.92-.59-1.43-.59-.52 0-1.04.2-1.43.59L10.3 9.45l-7.72 7.72c-.78.78-.78 2.05 0 2.83L4 21.41c.39.39.9.59 1.41.59.51 0 1.02-.2 1.41-.59l7.78-7.78 2.81-2.81c.8-.78.8-2.07 0-2.86zM5.41 20L4 18.59l7.72-7.72 1.47 1.35L5.41 20z\"/>\n",
              "  </svg>\n",
              "      </button>\n",
              "      \n",
              "  <style>\n",
              "    .colab-df-container {\n",
              "      display:flex;\n",
              "      flex-wrap:wrap;\n",
              "      gap: 12px;\n",
              "    }\n",
              "\n",
              "    .colab-df-convert {\n",
              "      background-color: #E8F0FE;\n",
              "      border: none;\n",
              "      border-radius: 50%;\n",
              "      cursor: pointer;\n",
              "      display: none;\n",
              "      fill: #1967D2;\n",
              "      height: 32px;\n",
              "      padding: 0 0 0 0;\n",
              "      width: 32px;\n",
              "    }\n",
              "\n",
              "    .colab-df-convert:hover {\n",
              "      background-color: #E2EBFA;\n",
              "      box-shadow: 0px 1px 2px rgba(60, 64, 67, 0.3), 0px 1px 3px 1px rgba(60, 64, 67, 0.15);\n",
              "      fill: #174EA6;\n",
              "    }\n",
              "\n",
              "    [theme=dark] .colab-df-convert {\n",
              "      background-color: #3B4455;\n",
              "      fill: #D2E3FC;\n",
              "    }\n",
              "\n",
              "    [theme=dark] .colab-df-convert:hover {\n",
              "      background-color: #434B5C;\n",
              "      box-shadow: 0px 1px 3px 1px rgba(0, 0, 0, 0.15);\n",
              "      filter: drop-shadow(0px 1px 2px rgba(0, 0, 0, 0.3));\n",
              "      fill: #FFFFFF;\n",
              "    }\n",
              "  </style>\n",
              "\n",
              "      <script>\n",
              "        const buttonEl =\n",
              "          document.querySelector('#df-5e4b9644-3253-4386-892f-1aa9ad08bd99 button.colab-df-convert');\n",
              "        buttonEl.style.display =\n",
              "          google.colab.kernel.accessAllowed ? 'block' : 'none';\n",
              "\n",
              "        async function convertToInteractive(key) {\n",
              "          const element = document.querySelector('#df-5e4b9644-3253-4386-892f-1aa9ad08bd99');\n",
              "          const dataTable =\n",
              "            await google.colab.kernel.invokeFunction('convertToInteractive',\n",
              "                                                     [key], {});\n",
              "          if (!dataTable) return;\n",
              "\n",
              "          const docLinkHtml = 'Like what you see? Visit the ' +\n",
              "            '<a target=\"_blank\" href=https://colab.research.google.com/notebooks/data_table.ipynb>data table notebook</a>'\n",
              "            + ' to learn more about interactive tables.';\n",
              "          element.innerHTML = '';\n",
              "          dataTable['output_type'] = 'display_data';\n",
              "          await google.colab.output.renderOutput(dataTable, element);\n",
              "          const docLink = document.createElement('div');\n",
              "          docLink.innerHTML = docLinkHtml;\n",
              "          element.appendChild(docLink);\n",
              "        }\n",
              "      </script>\n",
              "    </div>\n",
              "  </div>\n",
              "  "
            ]
          },
          "metadata": {},
          "execution_count": 111
        }
      ]
    },
    {
      "cell_type": "code",
      "source": [
        "data.drop(columns = ['CustomerID'], inplace = True)"
      ],
      "metadata": {
        "id": "rYO8cboKx1Sp"
      },
      "execution_count": 112,
      "outputs": []
    },
    {
      "cell_type": "markdown",
      "source": [
        "Dropped the column 'Customer ID' as it has nothing to do with churn."
      ],
      "metadata": {
        "id": "lz5Xa3yDM9WZ"
      }
    },
    {
      "cell_type": "code",
      "source": [
        "data.head()"
      ],
      "metadata": {
        "colab": {
          "base_uri": "https://localhost:8080/",
          "height": 317
        },
        "id": "WYK4K9kax9mw",
        "outputId": "08c73485-25e1-41b1-bb8b-022992de4e73"
      },
      "execution_count": 113,
      "outputs": [
        {
          "output_type": "execute_result",
          "data": {
            "text/plain": [
              "   Churn  Tenure  CityTier  WarehouseToHome  HourSpendOnApp  \\\n",
              "0    1.0     4.0       3.0              6.0             3.0   \n",
              "1    1.0     2.6       1.0              8.0             3.0   \n",
              "2    1.0     2.6       1.0             30.0             2.0   \n",
              "3    1.0     0.0       3.0             15.0             2.0   \n",
              "4    1.0     0.0       1.0             12.0             2.6   \n",
              "\n",
              "   NumberOfDeviceRegistered  SatisfactionScore  NumberOfAddress  Complain  \\\n",
              "0                       3.0                2.0              9.0       1.0   \n",
              "1                       4.0                3.0              7.0       1.0   \n",
              "2                       4.0                3.0              6.0       1.0   \n",
              "3                       4.0                5.0              8.0       0.0   \n",
              "4                       3.0                5.0              3.0       0.0   \n",
              "\n",
              "   OrderAmountHikeFromlastYear  ...  Gender_Female  Gender_Male  \\\n",
              "0                         11.0  ...            1.0          0.0   \n",
              "1                         15.0  ...            0.0          1.0   \n",
              "2                         14.0  ...            0.0          1.0   \n",
              "3                         23.0  ...            0.0          1.0   \n",
              "4                         11.0  ...            0.0          1.0   \n",
              "\n",
              "   PreferedOrderCat_Fashion  PreferedOrderCat_Grocery  \\\n",
              "0                       0.0                       0.0   \n",
              "1                       0.0                       0.0   \n",
              "2                       0.0                       0.0   \n",
              "3                       0.0                       0.0   \n",
              "4                       0.0                       0.0   \n",
              "\n",
              "   PreferedOrderCat_Laptop & Accessory  PreferedOrderCat_Mobile  \\\n",
              "0                                  1.0                      0.0   \n",
              "1                                  0.0                      1.0   \n",
              "2                                  0.0                      1.0   \n",
              "3                                  1.0                      0.0   \n",
              "4                                  0.0                      1.0   \n",
              "\n",
              "   PreferedOrderCat_Others  MaritalStatus_Divorced  MaritalStatus_Married  \\\n",
              "0                      0.0                     0.0                    0.0   \n",
              "1                      0.0                     0.0                    0.0   \n",
              "2                      0.0                     0.0                    0.0   \n",
              "3                      0.0                     0.0                    0.0   \n",
              "4                      0.0                     0.0                    0.0   \n",
              "\n",
              "   MaritalStatus_Single  \n",
              "0                   1.0  \n",
              "1                   1.0  \n",
              "2                   1.0  \n",
              "3                   1.0  \n",
              "4                   1.0  \n",
              "\n",
              "[5 rows x 31 columns]"
            ],
            "text/html": [
              "\n",
              "  <div id=\"df-9e9e4033-dea7-49ef-b6e1-65e00af3c87e\">\n",
              "    <div class=\"colab-df-container\">\n",
              "      <div>\n",
              "<style scoped>\n",
              "    .dataframe tbody tr th:only-of-type {\n",
              "        vertical-align: middle;\n",
              "    }\n",
              "\n",
              "    .dataframe tbody tr th {\n",
              "        vertical-align: top;\n",
              "    }\n",
              "\n",
              "    .dataframe thead th {\n",
              "        text-align: right;\n",
              "    }\n",
              "</style>\n",
              "<table border=\"1\" class=\"dataframe\">\n",
              "  <thead>\n",
              "    <tr style=\"text-align: right;\">\n",
              "      <th></th>\n",
              "      <th>Churn</th>\n",
              "      <th>Tenure</th>\n",
              "      <th>CityTier</th>\n",
              "      <th>WarehouseToHome</th>\n",
              "      <th>HourSpendOnApp</th>\n",
              "      <th>NumberOfDeviceRegistered</th>\n",
              "      <th>SatisfactionScore</th>\n",
              "      <th>NumberOfAddress</th>\n",
              "      <th>Complain</th>\n",
              "      <th>OrderAmountHikeFromlastYear</th>\n",
              "      <th>...</th>\n",
              "      <th>Gender_Female</th>\n",
              "      <th>Gender_Male</th>\n",
              "      <th>PreferedOrderCat_Fashion</th>\n",
              "      <th>PreferedOrderCat_Grocery</th>\n",
              "      <th>PreferedOrderCat_Laptop &amp; Accessory</th>\n",
              "      <th>PreferedOrderCat_Mobile</th>\n",
              "      <th>PreferedOrderCat_Others</th>\n",
              "      <th>MaritalStatus_Divorced</th>\n",
              "      <th>MaritalStatus_Married</th>\n",
              "      <th>MaritalStatus_Single</th>\n",
              "    </tr>\n",
              "  </thead>\n",
              "  <tbody>\n",
              "    <tr>\n",
              "      <th>0</th>\n",
              "      <td>1.0</td>\n",
              "      <td>4.0</td>\n",
              "      <td>3.0</td>\n",
              "      <td>6.0</td>\n",
              "      <td>3.0</td>\n",
              "      <td>3.0</td>\n",
              "      <td>2.0</td>\n",
              "      <td>9.0</td>\n",
              "      <td>1.0</td>\n",
              "      <td>11.0</td>\n",
              "      <td>...</td>\n",
              "      <td>1.0</td>\n",
              "      <td>0.0</td>\n",
              "      <td>0.0</td>\n",
              "      <td>0.0</td>\n",
              "      <td>1.0</td>\n",
              "      <td>0.0</td>\n",
              "      <td>0.0</td>\n",
              "      <td>0.0</td>\n",
              "      <td>0.0</td>\n",
              "      <td>1.0</td>\n",
              "    </tr>\n",
              "    <tr>\n",
              "      <th>1</th>\n",
              "      <td>1.0</td>\n",
              "      <td>2.6</td>\n",
              "      <td>1.0</td>\n",
              "      <td>8.0</td>\n",
              "      <td>3.0</td>\n",
              "      <td>4.0</td>\n",
              "      <td>3.0</td>\n",
              "      <td>7.0</td>\n",
              "      <td>1.0</td>\n",
              "      <td>15.0</td>\n",
              "      <td>...</td>\n",
              "      <td>0.0</td>\n",
              "      <td>1.0</td>\n",
              "      <td>0.0</td>\n",
              "      <td>0.0</td>\n",
              "      <td>0.0</td>\n",
              "      <td>1.0</td>\n",
              "      <td>0.0</td>\n",
              "      <td>0.0</td>\n",
              "      <td>0.0</td>\n",
              "      <td>1.0</td>\n",
              "    </tr>\n",
              "    <tr>\n",
              "      <th>2</th>\n",
              "      <td>1.0</td>\n",
              "      <td>2.6</td>\n",
              "      <td>1.0</td>\n",
              "      <td>30.0</td>\n",
              "      <td>2.0</td>\n",
              "      <td>4.0</td>\n",
              "      <td>3.0</td>\n",
              "      <td>6.0</td>\n",
              "      <td>1.0</td>\n",
              "      <td>14.0</td>\n",
              "      <td>...</td>\n",
              "      <td>0.0</td>\n",
              "      <td>1.0</td>\n",
              "      <td>0.0</td>\n",
              "      <td>0.0</td>\n",
              "      <td>0.0</td>\n",
              "      <td>1.0</td>\n",
              "      <td>0.0</td>\n",
              "      <td>0.0</td>\n",
              "      <td>0.0</td>\n",
              "      <td>1.0</td>\n",
              "    </tr>\n",
              "    <tr>\n",
              "      <th>3</th>\n",
              "      <td>1.0</td>\n",
              "      <td>0.0</td>\n",
              "      <td>3.0</td>\n",
              "      <td>15.0</td>\n",
              "      <td>2.0</td>\n",
              "      <td>4.0</td>\n",
              "      <td>5.0</td>\n",
              "      <td>8.0</td>\n",
              "      <td>0.0</td>\n",
              "      <td>23.0</td>\n",
              "      <td>...</td>\n",
              "      <td>0.0</td>\n",
              "      <td>1.0</td>\n",
              "      <td>0.0</td>\n",
              "      <td>0.0</td>\n",
              "      <td>1.0</td>\n",
              "      <td>0.0</td>\n",
              "      <td>0.0</td>\n",
              "      <td>0.0</td>\n",
              "      <td>0.0</td>\n",
              "      <td>1.0</td>\n",
              "    </tr>\n",
              "    <tr>\n",
              "      <th>4</th>\n",
              "      <td>1.0</td>\n",
              "      <td>0.0</td>\n",
              "      <td>1.0</td>\n",
              "      <td>12.0</td>\n",
              "      <td>2.6</td>\n",
              "      <td>3.0</td>\n",
              "      <td>5.0</td>\n",
              "      <td>3.0</td>\n",
              "      <td>0.0</td>\n",
              "      <td>11.0</td>\n",
              "      <td>...</td>\n",
              "      <td>0.0</td>\n",
              "      <td>1.0</td>\n",
              "      <td>0.0</td>\n",
              "      <td>0.0</td>\n",
              "      <td>0.0</td>\n",
              "      <td>1.0</td>\n",
              "      <td>0.0</td>\n",
              "      <td>0.0</td>\n",
              "      <td>0.0</td>\n",
              "      <td>1.0</td>\n",
              "    </tr>\n",
              "  </tbody>\n",
              "</table>\n",
              "<p>5 rows × 31 columns</p>\n",
              "</div>\n",
              "      <button class=\"colab-df-convert\" onclick=\"convertToInteractive('df-9e9e4033-dea7-49ef-b6e1-65e00af3c87e')\"\n",
              "              title=\"Convert this dataframe to an interactive table.\"\n",
              "              style=\"display:none;\">\n",
              "        \n",
              "  <svg xmlns=\"http://www.w3.org/2000/svg\" height=\"24px\"viewBox=\"0 0 24 24\"\n",
              "       width=\"24px\">\n",
              "    <path d=\"M0 0h24v24H0V0z\" fill=\"none\"/>\n",
              "    <path d=\"M18.56 5.44l.94 2.06.94-2.06 2.06-.94-2.06-.94-.94-2.06-.94 2.06-2.06.94zm-11 1L8.5 8.5l.94-2.06 2.06-.94-2.06-.94L8.5 2.5l-.94 2.06-2.06.94zm10 10l.94 2.06.94-2.06 2.06-.94-2.06-.94-.94-2.06-.94 2.06-2.06.94z\"/><path d=\"M17.41 7.96l-1.37-1.37c-.4-.4-.92-.59-1.43-.59-.52 0-1.04.2-1.43.59L10.3 9.45l-7.72 7.72c-.78.78-.78 2.05 0 2.83L4 21.41c.39.39.9.59 1.41.59.51 0 1.02-.2 1.41-.59l7.78-7.78 2.81-2.81c.8-.78.8-2.07 0-2.86zM5.41 20L4 18.59l7.72-7.72 1.47 1.35L5.41 20z\"/>\n",
              "  </svg>\n",
              "      </button>\n",
              "      \n",
              "  <style>\n",
              "    .colab-df-container {\n",
              "      display:flex;\n",
              "      flex-wrap:wrap;\n",
              "      gap: 12px;\n",
              "    }\n",
              "\n",
              "    .colab-df-convert {\n",
              "      background-color: #E8F0FE;\n",
              "      border: none;\n",
              "      border-radius: 50%;\n",
              "      cursor: pointer;\n",
              "      display: none;\n",
              "      fill: #1967D2;\n",
              "      height: 32px;\n",
              "      padding: 0 0 0 0;\n",
              "      width: 32px;\n",
              "    }\n",
              "\n",
              "    .colab-df-convert:hover {\n",
              "      background-color: #E2EBFA;\n",
              "      box-shadow: 0px 1px 2px rgba(60, 64, 67, 0.3), 0px 1px 3px 1px rgba(60, 64, 67, 0.15);\n",
              "      fill: #174EA6;\n",
              "    }\n",
              "\n",
              "    [theme=dark] .colab-df-convert {\n",
              "      background-color: #3B4455;\n",
              "      fill: #D2E3FC;\n",
              "    }\n",
              "\n",
              "    [theme=dark] .colab-df-convert:hover {\n",
              "      background-color: #434B5C;\n",
              "      box-shadow: 0px 1px 3px 1px rgba(0, 0, 0, 0.15);\n",
              "      filter: drop-shadow(0px 1px 2px rgba(0, 0, 0, 0.3));\n",
              "      fill: #FFFFFF;\n",
              "    }\n",
              "  </style>\n",
              "\n",
              "      <script>\n",
              "        const buttonEl =\n",
              "          document.querySelector('#df-9e9e4033-dea7-49ef-b6e1-65e00af3c87e button.colab-df-convert');\n",
              "        buttonEl.style.display =\n",
              "          google.colab.kernel.accessAllowed ? 'block' : 'none';\n",
              "\n",
              "        async function convertToInteractive(key) {\n",
              "          const element = document.querySelector('#df-9e9e4033-dea7-49ef-b6e1-65e00af3c87e');\n",
              "          const dataTable =\n",
              "            await google.colab.kernel.invokeFunction('convertToInteractive',\n",
              "                                                     [key], {});\n",
              "          if (!dataTable) return;\n",
              "\n",
              "          const docLinkHtml = 'Like what you see? Visit the ' +\n",
              "            '<a target=\"_blank\" href=https://colab.research.google.com/notebooks/data_table.ipynb>data table notebook</a>'\n",
              "            + ' to learn more about interactive tables.';\n",
              "          element.innerHTML = '';\n",
              "          dataTable['output_type'] = 'display_data';\n",
              "          await google.colab.output.renderOutput(dataTable, element);\n",
              "          const docLink = document.createElement('div');\n",
              "          docLink.innerHTML = docLinkHtml;\n",
              "          element.appendChild(docLink);\n",
              "        }\n",
              "      </script>\n",
              "    </div>\n",
              "  </div>\n",
              "  "
            ]
          },
          "metadata": {},
          "execution_count": 113
        }
      ]
    },
    {
      "cell_type": "markdown",
      "source": [
        "Dividing the dataset and seperating the target column from it."
      ],
      "metadata": {
        "id": "DK-aCZfCNKuv"
      }
    },
    {
      "cell_type": "code",
      "source": [
        "X = data.loc[:, data.columns != 'Churn']"
      ],
      "metadata": {
        "id": "IMqFxlj5eLqG"
      },
      "execution_count": 114,
      "outputs": []
    },
    {
      "cell_type": "code",
      "source": [
        "X.head()"
      ],
      "metadata": {
        "colab": {
          "base_uri": "https://localhost:8080/",
          "height": 317
        },
        "id": "4_XE8VwweRfu",
        "outputId": "38e5ffd4-3acc-4c69-9b41-350042a08f91"
      },
      "execution_count": 115,
      "outputs": [
        {
          "output_type": "execute_result",
          "data": {
            "text/plain": [
              "   Tenure  CityTier  WarehouseToHome  HourSpendOnApp  \\\n",
              "0     4.0       3.0              6.0             3.0   \n",
              "1     2.6       1.0              8.0             3.0   \n",
              "2     2.6       1.0             30.0             2.0   \n",
              "3     0.0       3.0             15.0             2.0   \n",
              "4     0.0       1.0             12.0             2.6   \n",
              "\n",
              "   NumberOfDeviceRegistered  SatisfactionScore  NumberOfAddress  Complain  \\\n",
              "0                       3.0                2.0              9.0       1.0   \n",
              "1                       4.0                3.0              7.0       1.0   \n",
              "2                       4.0                3.0              6.0       1.0   \n",
              "3                       4.0                5.0              8.0       0.0   \n",
              "4                       3.0                5.0              3.0       0.0   \n",
              "\n",
              "   OrderAmountHikeFromlastYear  CouponUsed  ...  Gender_Female  Gender_Male  \\\n",
              "0                         11.0         1.0  ...            1.0          0.0   \n",
              "1                         15.0         0.0  ...            0.0          1.0   \n",
              "2                         14.0         0.0  ...            0.0          1.0   \n",
              "3                         23.0         0.0  ...            0.0          1.0   \n",
              "4                         11.0         1.0  ...            0.0          1.0   \n",
              "\n",
              "   PreferedOrderCat_Fashion  PreferedOrderCat_Grocery  \\\n",
              "0                       0.0                       0.0   \n",
              "1                       0.0                       0.0   \n",
              "2                       0.0                       0.0   \n",
              "3                       0.0                       0.0   \n",
              "4                       0.0                       0.0   \n",
              "\n",
              "   PreferedOrderCat_Laptop & Accessory  PreferedOrderCat_Mobile  \\\n",
              "0                                  1.0                      0.0   \n",
              "1                                  0.0                      1.0   \n",
              "2                                  0.0                      1.0   \n",
              "3                                  1.0                      0.0   \n",
              "4                                  0.0                      1.0   \n",
              "\n",
              "   PreferedOrderCat_Others  MaritalStatus_Divorced  MaritalStatus_Married  \\\n",
              "0                      0.0                     0.0                    0.0   \n",
              "1                      0.0                     0.0                    0.0   \n",
              "2                      0.0                     0.0                    0.0   \n",
              "3                      0.0                     0.0                    0.0   \n",
              "4                      0.0                     0.0                    0.0   \n",
              "\n",
              "   MaritalStatus_Single  \n",
              "0                   1.0  \n",
              "1                   1.0  \n",
              "2                   1.0  \n",
              "3                   1.0  \n",
              "4                   1.0  \n",
              "\n",
              "[5 rows x 30 columns]"
            ],
            "text/html": [
              "\n",
              "  <div id=\"df-120687a7-d8ce-4726-b2d3-3d9ac0298e51\">\n",
              "    <div class=\"colab-df-container\">\n",
              "      <div>\n",
              "<style scoped>\n",
              "    .dataframe tbody tr th:only-of-type {\n",
              "        vertical-align: middle;\n",
              "    }\n",
              "\n",
              "    .dataframe tbody tr th {\n",
              "        vertical-align: top;\n",
              "    }\n",
              "\n",
              "    .dataframe thead th {\n",
              "        text-align: right;\n",
              "    }\n",
              "</style>\n",
              "<table border=\"1\" class=\"dataframe\">\n",
              "  <thead>\n",
              "    <tr style=\"text-align: right;\">\n",
              "      <th></th>\n",
              "      <th>Tenure</th>\n",
              "      <th>CityTier</th>\n",
              "      <th>WarehouseToHome</th>\n",
              "      <th>HourSpendOnApp</th>\n",
              "      <th>NumberOfDeviceRegistered</th>\n",
              "      <th>SatisfactionScore</th>\n",
              "      <th>NumberOfAddress</th>\n",
              "      <th>Complain</th>\n",
              "      <th>OrderAmountHikeFromlastYear</th>\n",
              "      <th>CouponUsed</th>\n",
              "      <th>...</th>\n",
              "      <th>Gender_Female</th>\n",
              "      <th>Gender_Male</th>\n",
              "      <th>PreferedOrderCat_Fashion</th>\n",
              "      <th>PreferedOrderCat_Grocery</th>\n",
              "      <th>PreferedOrderCat_Laptop &amp; Accessory</th>\n",
              "      <th>PreferedOrderCat_Mobile</th>\n",
              "      <th>PreferedOrderCat_Others</th>\n",
              "      <th>MaritalStatus_Divorced</th>\n",
              "      <th>MaritalStatus_Married</th>\n",
              "      <th>MaritalStatus_Single</th>\n",
              "    </tr>\n",
              "  </thead>\n",
              "  <tbody>\n",
              "    <tr>\n",
              "      <th>0</th>\n",
              "      <td>4.0</td>\n",
              "      <td>3.0</td>\n",
              "      <td>6.0</td>\n",
              "      <td>3.0</td>\n",
              "      <td>3.0</td>\n",
              "      <td>2.0</td>\n",
              "      <td>9.0</td>\n",
              "      <td>1.0</td>\n",
              "      <td>11.0</td>\n",
              "      <td>1.0</td>\n",
              "      <td>...</td>\n",
              "      <td>1.0</td>\n",
              "      <td>0.0</td>\n",
              "      <td>0.0</td>\n",
              "      <td>0.0</td>\n",
              "      <td>1.0</td>\n",
              "      <td>0.0</td>\n",
              "      <td>0.0</td>\n",
              "      <td>0.0</td>\n",
              "      <td>0.0</td>\n",
              "      <td>1.0</td>\n",
              "    </tr>\n",
              "    <tr>\n",
              "      <th>1</th>\n",
              "      <td>2.6</td>\n",
              "      <td>1.0</td>\n",
              "      <td>8.0</td>\n",
              "      <td>3.0</td>\n",
              "      <td>4.0</td>\n",
              "      <td>3.0</td>\n",
              "      <td>7.0</td>\n",
              "      <td>1.0</td>\n",
              "      <td>15.0</td>\n",
              "      <td>0.0</td>\n",
              "      <td>...</td>\n",
              "      <td>0.0</td>\n",
              "      <td>1.0</td>\n",
              "      <td>0.0</td>\n",
              "      <td>0.0</td>\n",
              "      <td>0.0</td>\n",
              "      <td>1.0</td>\n",
              "      <td>0.0</td>\n",
              "      <td>0.0</td>\n",
              "      <td>0.0</td>\n",
              "      <td>1.0</td>\n",
              "    </tr>\n",
              "    <tr>\n",
              "      <th>2</th>\n",
              "      <td>2.6</td>\n",
              "      <td>1.0</td>\n",
              "      <td>30.0</td>\n",
              "      <td>2.0</td>\n",
              "      <td>4.0</td>\n",
              "      <td>3.0</td>\n",
              "      <td>6.0</td>\n",
              "      <td>1.0</td>\n",
              "      <td>14.0</td>\n",
              "      <td>0.0</td>\n",
              "      <td>...</td>\n",
              "      <td>0.0</td>\n",
              "      <td>1.0</td>\n",
              "      <td>0.0</td>\n",
              "      <td>0.0</td>\n",
              "      <td>0.0</td>\n",
              "      <td>1.0</td>\n",
              "      <td>0.0</td>\n",
              "      <td>0.0</td>\n",
              "      <td>0.0</td>\n",
              "      <td>1.0</td>\n",
              "    </tr>\n",
              "    <tr>\n",
              "      <th>3</th>\n",
              "      <td>0.0</td>\n",
              "      <td>3.0</td>\n",
              "      <td>15.0</td>\n",
              "      <td>2.0</td>\n",
              "      <td>4.0</td>\n",
              "      <td>5.0</td>\n",
              "      <td>8.0</td>\n",
              "      <td>0.0</td>\n",
              "      <td>23.0</td>\n",
              "      <td>0.0</td>\n",
              "      <td>...</td>\n",
              "      <td>0.0</td>\n",
              "      <td>1.0</td>\n",
              "      <td>0.0</td>\n",
              "      <td>0.0</td>\n",
              "      <td>1.0</td>\n",
              "      <td>0.0</td>\n",
              "      <td>0.0</td>\n",
              "      <td>0.0</td>\n",
              "      <td>0.0</td>\n",
              "      <td>1.0</td>\n",
              "    </tr>\n",
              "    <tr>\n",
              "      <th>4</th>\n",
              "      <td>0.0</td>\n",
              "      <td>1.0</td>\n",
              "      <td>12.0</td>\n",
              "      <td>2.6</td>\n",
              "      <td>3.0</td>\n",
              "      <td>5.0</td>\n",
              "      <td>3.0</td>\n",
              "      <td>0.0</td>\n",
              "      <td>11.0</td>\n",
              "      <td>1.0</td>\n",
              "      <td>...</td>\n",
              "      <td>0.0</td>\n",
              "      <td>1.0</td>\n",
              "      <td>0.0</td>\n",
              "      <td>0.0</td>\n",
              "      <td>0.0</td>\n",
              "      <td>1.0</td>\n",
              "      <td>0.0</td>\n",
              "      <td>0.0</td>\n",
              "      <td>0.0</td>\n",
              "      <td>1.0</td>\n",
              "    </tr>\n",
              "  </tbody>\n",
              "</table>\n",
              "<p>5 rows × 30 columns</p>\n",
              "</div>\n",
              "      <button class=\"colab-df-convert\" onclick=\"convertToInteractive('df-120687a7-d8ce-4726-b2d3-3d9ac0298e51')\"\n",
              "              title=\"Convert this dataframe to an interactive table.\"\n",
              "              style=\"display:none;\">\n",
              "        \n",
              "  <svg xmlns=\"http://www.w3.org/2000/svg\" height=\"24px\"viewBox=\"0 0 24 24\"\n",
              "       width=\"24px\">\n",
              "    <path d=\"M0 0h24v24H0V0z\" fill=\"none\"/>\n",
              "    <path d=\"M18.56 5.44l.94 2.06.94-2.06 2.06-.94-2.06-.94-.94-2.06-.94 2.06-2.06.94zm-11 1L8.5 8.5l.94-2.06 2.06-.94-2.06-.94L8.5 2.5l-.94 2.06-2.06.94zm10 10l.94 2.06.94-2.06 2.06-.94-2.06-.94-.94-2.06-.94 2.06-2.06.94z\"/><path d=\"M17.41 7.96l-1.37-1.37c-.4-.4-.92-.59-1.43-.59-.52 0-1.04.2-1.43.59L10.3 9.45l-7.72 7.72c-.78.78-.78 2.05 0 2.83L4 21.41c.39.39.9.59 1.41.59.51 0 1.02-.2 1.41-.59l7.78-7.78 2.81-2.81c.8-.78.8-2.07 0-2.86zM5.41 20L4 18.59l7.72-7.72 1.47 1.35L5.41 20z\"/>\n",
              "  </svg>\n",
              "      </button>\n",
              "      \n",
              "  <style>\n",
              "    .colab-df-container {\n",
              "      display:flex;\n",
              "      flex-wrap:wrap;\n",
              "      gap: 12px;\n",
              "    }\n",
              "\n",
              "    .colab-df-convert {\n",
              "      background-color: #E8F0FE;\n",
              "      border: none;\n",
              "      border-radius: 50%;\n",
              "      cursor: pointer;\n",
              "      display: none;\n",
              "      fill: #1967D2;\n",
              "      height: 32px;\n",
              "      padding: 0 0 0 0;\n",
              "      width: 32px;\n",
              "    }\n",
              "\n",
              "    .colab-df-convert:hover {\n",
              "      background-color: #E2EBFA;\n",
              "      box-shadow: 0px 1px 2px rgba(60, 64, 67, 0.3), 0px 1px 3px 1px rgba(60, 64, 67, 0.15);\n",
              "      fill: #174EA6;\n",
              "    }\n",
              "\n",
              "    [theme=dark] .colab-df-convert {\n",
              "      background-color: #3B4455;\n",
              "      fill: #D2E3FC;\n",
              "    }\n",
              "\n",
              "    [theme=dark] .colab-df-convert:hover {\n",
              "      background-color: #434B5C;\n",
              "      box-shadow: 0px 1px 3px 1px rgba(0, 0, 0, 0.15);\n",
              "      filter: drop-shadow(0px 1px 2px rgba(0, 0, 0, 0.3));\n",
              "      fill: #FFFFFF;\n",
              "    }\n",
              "  </style>\n",
              "\n",
              "      <script>\n",
              "        const buttonEl =\n",
              "          document.querySelector('#df-120687a7-d8ce-4726-b2d3-3d9ac0298e51 button.colab-df-convert');\n",
              "        buttonEl.style.display =\n",
              "          google.colab.kernel.accessAllowed ? 'block' : 'none';\n",
              "\n",
              "        async function convertToInteractive(key) {\n",
              "          const element = document.querySelector('#df-120687a7-d8ce-4726-b2d3-3d9ac0298e51');\n",
              "          const dataTable =\n",
              "            await google.colab.kernel.invokeFunction('convertToInteractive',\n",
              "                                                     [key], {});\n",
              "          if (!dataTable) return;\n",
              "\n",
              "          const docLinkHtml = 'Like what you see? Visit the ' +\n",
              "            '<a target=\"_blank\" href=https://colab.research.google.com/notebooks/data_table.ipynb>data table notebook</a>'\n",
              "            + ' to learn more about interactive tables.';\n",
              "          element.innerHTML = '';\n",
              "          dataTable['output_type'] = 'display_data';\n",
              "          await google.colab.output.renderOutput(dataTable, element);\n",
              "          const docLink = document.createElement('div');\n",
              "          docLink.innerHTML = docLinkHtml;\n",
              "          element.appendChild(docLink);\n",
              "        }\n",
              "      </script>\n",
              "    </div>\n",
              "  </div>\n",
              "  "
            ]
          },
          "metadata": {},
          "execution_count": 115
        }
      ]
    },
    {
      "cell_type": "code",
      "source": [
        "X.shape"
      ],
      "metadata": {
        "colab": {
          "base_uri": "https://localhost:8080/"
        },
        "id": "STXR4XsYDZ7g",
        "outputId": "255f7fb9-f703-4099-9d9b-9dc4842517bd"
      },
      "execution_count": 116,
      "outputs": [
        {
          "output_type": "execute_result",
          "data": {
            "text/plain": [
              "(5630, 30)"
            ]
          },
          "metadata": {},
          "execution_count": 116
        }
      ]
    },
    {
      "cell_type": "code",
      "source": [
        "Y = data['Churn']"
      ],
      "metadata": {
        "id": "r-WmHDGyfGFW"
      },
      "execution_count": 117,
      "outputs": []
    },
    {
      "cell_type": "code",
      "source": [
        "Y.head()"
      ],
      "metadata": {
        "colab": {
          "base_uri": "https://localhost:8080/"
        },
        "id": "ANrEBmIPfIWN",
        "outputId": "af54445d-30aa-45fb-af3a-156071fadec5"
      },
      "execution_count": 118,
      "outputs": [
        {
          "output_type": "execute_result",
          "data": {
            "text/plain": [
              "0    1.0\n",
              "1    1.0\n",
              "2    1.0\n",
              "3    1.0\n",
              "4    1.0\n",
              "Name: Churn, dtype: float64"
            ]
          },
          "metadata": {},
          "execution_count": 118
        }
      ]
    },
    {
      "cell_type": "markdown",
      "source": [
        "Dividing the dataset into training and testing dataset."
      ],
      "metadata": {
        "id": "J2YEp4vqNWHp"
      }
    },
    {
      "cell_type": "code",
      "source": [
        "from sklearn.model_selection import train_test_split"
      ],
      "metadata": {
        "id": "nnpeBET5c_Sb"
      },
      "execution_count": 119,
      "outputs": []
    },
    {
      "cell_type": "code",
      "source": [
        "x_train, x_test, y_train, y_test = train_test_split(X, Y, test_size = 0.3, random_state = 10)"
      ],
      "metadata": {
        "id": "x25Zjl0LdEnX"
      },
      "execution_count": 120,
      "outputs": []
    },
    {
      "cell_type": "markdown",
      "source": [
        "# **Model Training**"
      ],
      "metadata": {
        "id": "dRtvwCDCNdqI"
      }
    },
    {
      "cell_type": "code",
      "source": [
        "from sklearn.metrics import accuracy_score\n",
        "from sklearn.metrics import classification_report\n",
        "from sklearn.metrics import confusion_matrix"
      ],
      "metadata": {
        "id": "0z6hw7zRN3pa"
      },
      "execution_count": 121,
      "outputs": []
    },
    {
      "cell_type": "markdown",
      "source": [
        "Logistic Regression"
      ],
      "metadata": {
        "id": "AnNlq4O6g4_X"
      }
    },
    {
      "cell_type": "code",
      "source": [
        "from sklearn.linear_model import LogisticRegression"
      ],
      "metadata": {
        "id": "KOs4dAG4dE2C"
      },
      "execution_count": 122,
      "outputs": []
    },
    {
      "cell_type": "code",
      "source": [
        "lr = LogisticRegression()\n",
        "lr.fit(x_train, y_train)\n",
        "y_pred1 = lr.predict(x_test)\n",
        "print('Accuracy Score : ', accuracy_score(y_test, y_pred1) * 100)\n",
        "print('Confusion_Matrix : \\n', confusion_matrix(y_test, y_pred1))\n",
        "print('Classification Report : \\n', classification_report(y_test, y_pred1))"
      ],
      "metadata": {
        "id": "L_5MLZRlfbGT",
        "colab": {
          "base_uri": "https://localhost:8080/"
        },
        "outputId": "94b470c1-0259-4f7b-e7be-ff96e6502020"
      },
      "execution_count": 123,
      "outputs": [
        {
          "output_type": "stream",
          "name": "stdout",
          "text": [
            "Accuracy Score :  88.09946714031972\n",
            "Confusion_Matrix : \n",
            " [[1327   54]\n",
            " [ 147  161]]\n",
            "Classification Report : \n",
            "               precision    recall  f1-score   support\n",
            "\n",
            "         0.0       0.90      0.96      0.93      1381\n",
            "         1.0       0.75      0.52      0.62       308\n",
            "\n",
            "    accuracy                           0.88      1689\n",
            "   macro avg       0.82      0.74      0.77      1689\n",
            "weighted avg       0.87      0.88      0.87      1689\n",
            "\n"
          ]
        },
        {
          "output_type": "stream",
          "name": "stderr",
          "text": [
            "/usr/local/lib/python3.8/dist-packages/sklearn/linear_model/_logistic.py:814: ConvergenceWarning: lbfgs failed to converge (status=1):\n",
            "STOP: TOTAL NO. of ITERATIONS REACHED LIMIT.\n",
            "\n",
            "Increase the number of iterations (max_iter) or scale the data as shown in:\n",
            "    https://scikit-learn.org/stable/modules/preprocessing.html\n",
            "Please also refer to the documentation for alternative solver options:\n",
            "    https://scikit-learn.org/stable/modules/linear_model.html#logistic-regression\n",
            "  n_iter_i = _check_optimize_result(\n"
          ]
        }
      ]
    },
    {
      "cell_type": "markdown",
      "source": [
        "Random Forest"
      ],
      "metadata": {
        "id": "eUFzDTDFg9-4"
      }
    },
    {
      "cell_type": "code",
      "source": [
        "from sklearn.ensemble import RandomForestClassifier"
      ],
      "metadata": {
        "id": "FpqqjLzzg1ca"
      },
      "execution_count": 124,
      "outputs": []
    },
    {
      "cell_type": "code",
      "source": [
        "clf = RandomForestClassifier(random_state = 10)\n",
        "clf.fit(x_train, y_train)\n",
        "y_pred2 = clf.predict(x_test)\n",
        "print('Accuracy score : ', accuracy_score(y_test, y_pred2) * 100)\n",
        "print('Confusion Matrix : \\n', confusion_matrix(y_test, y_pred2))\n",
        "print('Classification Report : \\n', classification_report(y_test, y_pred2))"
      ],
      "metadata": {
        "id": "r4toMmbFg1fy",
        "colab": {
          "base_uri": "https://localhost:8080/"
        },
        "outputId": "58425495-a6bd-4761-c1e2-989182407339"
      },
      "execution_count": 125,
      "outputs": [
        {
          "output_type": "stream",
          "name": "stdout",
          "text": [
            "Accuracy score :  96.03315571343991\n",
            "Confusion Matrix : \n",
            " [[1367   14]\n",
            " [  53  255]]\n",
            "Classification Report : \n",
            "               precision    recall  f1-score   support\n",
            "\n",
            "         0.0       0.96      0.99      0.98      1381\n",
            "         1.0       0.95      0.83      0.88       308\n",
            "\n",
            "    accuracy                           0.96      1689\n",
            "   macro avg       0.96      0.91      0.93      1689\n",
            "weighted avg       0.96      0.96      0.96      1689\n",
            "\n"
          ]
        }
      ]
    },
    {
      "cell_type": "code",
      "source": [],
      "metadata": {
        "id": "Bx6rfuu-hw7F"
      },
      "execution_count": 125,
      "outputs": []
    },
    {
      "cell_type": "markdown",
      "source": [
        "Decision Tree"
      ],
      "metadata": {
        "id": "QBVrXWimG3f4"
      }
    },
    {
      "cell_type": "code",
      "source": [
        "from sklearn.tree import DecisionTreeClassifier"
      ],
      "metadata": {
        "id": "8SZ9_TopHJXD"
      },
      "execution_count": 126,
      "outputs": []
    },
    {
      "cell_type": "code",
      "source": [
        "clf_gini = DecisionTreeClassifier(criterion = \"gini\", random_state = 100, max_depth=3, min_samples_leaf = 5)\n",
        "clf_gini.fit(x_train, y_train)\n",
        "y_pred3 = clf_gini.predict(x_test)\n",
        "print('Confusion Matrix: \\n', confusion_matrix(y_test, y_pred3))\n",
        "print('Classification Report: \\n', classification_report(y_test, y_pred3))"
      ],
      "metadata": {
        "id": "Yv8-lVukH9kx",
        "colab": {
          "base_uri": "https://localhost:8080/"
        },
        "outputId": "6764a211-24c7-4a11-aec6-d7e6f436b904"
      },
      "execution_count": 127,
      "outputs": [
        {
          "output_type": "stream",
          "name": "stdout",
          "text": [
            "Confusion Matrix: \n",
            " [[1316   65]\n",
            " [ 149  159]]\n",
            "Classification Report: \n",
            "               precision    recall  f1-score   support\n",
            "\n",
            "         0.0       0.90      0.95      0.92      1381\n",
            "         1.0       0.71      0.52      0.60       308\n",
            "\n",
            "    accuracy                           0.87      1689\n",
            "   macro avg       0.80      0.73      0.76      1689\n",
            "weighted avg       0.86      0.87      0.87      1689\n",
            "\n"
          ]
        }
      ]
    },
    {
      "cell_type": "code",
      "source": [],
      "metadata": {
        "id": "4waXjY2VLbYk"
      },
      "execution_count": 127,
      "outputs": []
    },
    {
      "cell_type": "markdown",
      "source": [
        "AdaBoost"
      ],
      "metadata": {
        "id": "NDDKJ6HShoFX"
      }
    },
    {
      "cell_type": "code",
      "source": [
        "from sklearn.ensemble import AdaBoostClassifier"
      ],
      "metadata": {
        "id": "2yZWYHZ5hqFp"
      },
      "execution_count": 128,
      "outputs": []
    },
    {
      "cell_type": "code",
      "source": [
        "ada_clf = AdaBoostClassifier(n_estimators = 100)\n",
        "ada_clf.fit(x_train, y_train)\n",
        "y_pred4 = ada_clf.predict(x_test)\n",
        "print('Confusion Matrix: \\n', confusion_matrix(y_test, y_pred4))\n",
        "print('Classification Report: \\n', classification_report(y_test, y_pred4))"
      ],
      "metadata": {
        "colab": {
          "base_uri": "https://localhost:8080/"
        },
        "id": "gvg4GPfxh5LE",
        "outputId": "4252402d-c2e7-4fad-b374-1c3addb1c93b"
      },
      "execution_count": 129,
      "outputs": [
        {
          "output_type": "stream",
          "name": "stdout",
          "text": [
            "Confusion Matrix: \n",
            " [[1322   59]\n",
            " [ 123  185]]\n",
            "Classification Report: \n",
            "               precision    recall  f1-score   support\n",
            "\n",
            "         0.0       0.91      0.96      0.94      1381\n",
            "         1.0       0.76      0.60      0.67       308\n",
            "\n",
            "    accuracy                           0.89      1689\n",
            "   macro avg       0.84      0.78      0.80      1689\n",
            "weighted avg       0.89      0.89      0.89      1689\n",
            "\n"
          ]
        }
      ]
    },
    {
      "cell_type": "code",
      "source": [],
      "metadata": {
        "id": "WAhNSc36e8Tl"
      },
      "execution_count": 129,
      "outputs": []
    },
    {
      "cell_type": "markdown",
      "source": [
        "Till now, we used different supervised machine learning algorithms like Logistic Regression, Decision Trees, Random Forest and AdaBoost. \n",
        "Out of all these algorithms, the performance of Random Forest has the best with an accuracy of 96% and F1-score of 0.87."
      ],
      "metadata": {
        "id": "LQrSWs2Ce99u"
      }
    },
    {
      "cell_type": "markdown",
      "source": [
        "We know that this churn prediction datatset is highly imbalance and only 17% of the samples shows churn.\n",
        "To improve the performance of the algorithms, we can try handling the imbalance of the dataset by certain techniques.  "
      ],
      "metadata": {
        "id": "nD-xIbhbffJZ"
      }
    },
    {
      "cell_type": "markdown",
      "source": [
        "Handling Data Imbalance"
      ],
      "metadata": {
        "id": "REt1g3T-i8wy"
      }
    },
    {
      "cell_type": "code",
      "source": [
        "from imblearn.over_sampling import SMOTE\n",
        "from collections import Counter"
      ],
      "metadata": {
        "id": "zeLVGLifjyZz"
      },
      "execution_count": 130,
      "outputs": []
    },
    {
      "cell_type": "code",
      "source": [
        "# counter = Counter(y_train)\n",
        "# print('Before', counter)\n",
        "# smt = SMOTE()\n",
        "# x_train_sm, y_train_sm = smt.fit_resample(x_train, y_train)\n",
        "# counter = Counter(y_train_sm)\n",
        "# print('After', counter)"
      ],
      "metadata": {
        "id": "UiAVu5p-kChE"
      },
      "execution_count": 131,
      "outputs": []
    },
    {
      "cell_type": "markdown",
      "source": [
        "I tried to balance the dataset using SMOTE Technique before but that didn't gave significant results. The F1-score for all the algorithms was almost the same.\n",
        "\n",
        "Before SMOTE : <br>\n",
        "0.0: 3301<br>\n",
        "1.0: 640<br>\n",
        "<br>\n",
        "After SMOTE:<br>\n",
        "0.0: 3301<br>\n",
        "1.0: 3301"
      ],
      "metadata": {
        "id": "2708Nx5pf9-y"
      }
    },
    {
      "cell_type": "markdown",
      "source": [
        "![image.png](data:image/png;base64,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)"
      ],
      "metadata": {
        "id": "lZw6H27imSGY"
      }
    },
    {
      "cell_type": "markdown",
      "source": [
        "Next, I tried to use ADASYN technique"
      ],
      "metadata": {
        "id": "R3ax8JyJm10B"
      }
    },
    {
      "cell_type": "code",
      "source": [
        "# from imblearn.over_sampling import ADASYN\n",
        "# counter = Counter(y_train)\n",
        "# print('Before', counter)\n",
        "# ada = ADASYN(random_state = 130, n_neighbors = 3)\n",
        "# x_train_sm, y_train_sm = ada.fit_resample(x_train, y_train)\n",
        "# counter = Counter(y_train_sm)\n",
        "# print('After ', counter) "
      ],
      "metadata": {
        "id": "CwszeQMCkSg4"
      },
      "execution_count": 132,
      "outputs": []
    },
    {
      "cell_type": "markdown",
      "source": [
        "\n",
        "Before ADASYN: <br>\n",
        "0.0: 3301<br>\n",
        "1.0: 640<br>\n",
        "<br>\n",
        "After ADASYN:<br>\n",
        "0.0: 3301<br>\n",
        "1.0: 3267"
      ],
      "metadata": {
        "id": "bRkurF_Pm-Ax"
      }
    },
    {
      "cell_type": "markdown",
      "source": [
        "![image.png](data:image/png;base64,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)"
      ],
      "metadata": {
        "id": "lhFdd9NolNaF"
      }
    },
    {
      "cell_type": "markdown",
      "source": [
        "Again the change was not that significant. However, one thing that remained consistent in all the techniques, was Random Forest performed the best."
      ],
      "metadata": {
        "id": "sG95VxNAnMG8"
      }
    },
    {
      "cell_type": "markdown",
      "source": [
        "Random Forest, without any imbalancing technique gave 96% accuracy, So I decided to give with that."
      ],
      "metadata": {
        "id": "JXSVfz_Onpmx"
      }
    },
    {
      "cell_type": "code",
      "source": [
        "from sklearn.ensemble import RandomForestClassifier\n",
        "clf = RandomForestClassifier()\n",
        "clf.fit(x_train, y_train)\n",
        "y_pred2 = clf.predict(x_test)\n",
        "print('accuracy ' ,accuracy_score(y_test, y_pred2) * 100)\n",
        "print('confusion matrix \\n', confusion_matrix(y_test, y_pred2))\n",
        "print('classification report \\n', classification_report(y_test, y_pred2))"
      ],
      "metadata": {
        "colab": {
          "base_uri": "https://localhost:8080/"
        },
        "id": "VEGb1c_E0mSS",
        "outputId": "b8c15c93-ef1b-434d-ac8b-f312754edf44"
      },
      "execution_count": 133,
      "outputs": [
        {
          "output_type": "stream",
          "name": "stdout",
          "text": [
            "accuracy  95.91474245115454\n",
            "confusion matrix \n",
            " [[1369   12]\n",
            " [  57  251]]\n",
            "classification report \n",
            "               precision    recall  f1-score   support\n",
            "\n",
            "         0.0       0.96      0.99      0.98      1381\n",
            "         1.0       0.95      0.81      0.88       308\n",
            "\n",
            "    accuracy                           0.96      1689\n",
            "   macro avg       0.96      0.90      0.93      1689\n",
            "weighted avg       0.96      0.96      0.96      1689\n",
            "\n"
          ]
        }
      ]
    },
    {
      "cell_type": "markdown",
      "source": [
        "Next, I tried to see which all features had a huge impact on prediction."
      ],
      "metadata": {
        "id": "4QYfczr4oN0o"
      }
    },
    {
      "cell_type": "code",
      "source": [
        "feature_scores = pd.Series(clf.feature_importances_, index=x_train.columns).sort_values(ascending=False)\n",
        "\n",
        "feature_scores"
      ],
      "metadata": {
        "colab": {
          "base_uri": "https://localhost:8080/"
        },
        "id": "kWM0b02lma5_",
        "outputId": "eb7ac8c7-da81-4dd0-e90c-8f7a04992181"
      },
      "execution_count": 134,
      "outputs": [
        {
          "output_type": "execute_result",
          "data": {
            "text/plain": [
              "Tenure                                 0.211367\n",
              "CashbackAmount                         0.083242\n",
              "WarehouseToHome                        0.071437\n",
              "Complain                               0.065197\n",
              "DaySinceLastOrder                      0.063695\n",
              "NumberOfAddress                        0.062297\n",
              "OrderAmountHikeFromlastYear            0.053008\n",
              "SatisfactionScore                      0.048843\n",
              "NumberOfDeviceRegistered               0.035211\n",
              "OrderCount                             0.030491\n",
              "CouponUsed                             0.027993\n",
              "PreferedOrderCat_Mobile                0.025038\n",
              "CityTier                               0.022540\n",
              "MaritalStatus_Single                   0.022210\n",
              "HourSpendOnApp                         0.022042\n",
              "MaritalStatus_Married                  0.014756\n",
              "PreferredPaymentMode_CC                0.014146\n",
              "Gender_Male                            0.013646\n",
              "PreferredPaymentMode_COD               0.013407\n",
              "Gender_Female                          0.013375\n",
              "PreferredLoginDevice_Mobile Phone      0.013342\n",
              "PreferredPaymentMode_Debit Card        0.013168\n",
              "PreferredLoginDevice_Computer          0.012468\n",
              "PreferedOrderCat_Laptop & Accessory    0.012221\n",
              "PreferredPaymentMode_E wallet          0.009714\n",
              "PreferedOrderCat_Fashion               0.007797\n",
              "PreferredPaymentMode_UPI               0.007012\n",
              "MaritalStatus_Divorced                 0.006161\n",
              "PreferedOrderCat_Grocery               0.002186\n",
              "PreferedOrderCat_Others                0.001993\n",
              "dtype: float64"
            ]
          },
          "metadata": {},
          "execution_count": 134
        }
      ]
    },
    {
      "cell_type": "code",
      "source": [
        "import seaborn as sns\n",
        "import matplotlib.pyplot as plt"
      ],
      "metadata": {
        "id": "xGHHkSB3uRWi"
      },
      "execution_count": 135,
      "outputs": []
    },
    {
      "cell_type": "code",
      "source": [
        "f, ax = plt.subplots(figsize=(10, 10))\n",
        "ax = sns.barplot(x=feature_scores, y=feature_scores.index)\n",
        "ax.set_title(\"Visualize feature scores of the features\")\n",
        "ax.set_yticklabels(feature_scores.index)\n",
        "ax.set_xlabel(\"Feature importance score\")\n",
        "ax.set_ylabel(\"Features\")\n",
        "plt.show()"
      ],
      "metadata": {
        "colab": {
          "base_uri": "https://localhost:8080/",
          "height": 621
        },
        "id": "fEIFrzaBuOVf",
        "outputId": "0d9bb06f-022c-48a7-f441-ece8f55fd19e"
      },
      "execution_count": 136,
      "outputs": [
        {
          "output_type": "display_data",
          "data": {
            "text/plain": [
              "<Figure size 720x720 with 1 Axes>"
            ],
            "image/png": "[encoded data removed]"
          },
          "metadata": {
            "needs_background": "light"
          }
        }
      ]
    },
    {
      "cell_type": "code",
      "source": [
        "features = feature_scores.reset_index()\n",
        "features"
      ],
      "metadata": {
        "id": "cWe9pSeMu1FS",
        "colab": {
          "base_uri": "https://localhost:8080/",
          "height": 989
        },
        "outputId": "b01363e3-95ed-45b9-cff2-2108513b644b"
      },
      "execution_count": 137,
      "outputs": [
        {
          "output_type": "execute_result",
          "data": {
            "text/plain": [
              "                                  index         0\n",
              "0                                Tenure  0.211367\n",
              "1                        CashbackAmount  0.083242\n",
              "2                       WarehouseToHome  0.071437\n",
              "3                              Complain  0.065197\n",
              "4                     DaySinceLastOrder  0.063695\n",
              "5                       NumberOfAddress  0.062297\n",
              "6           OrderAmountHikeFromlastYear  0.053008\n",
              "7                     SatisfactionScore  0.048843\n",
              "8              NumberOfDeviceRegistered  0.035211\n",
              "9                            OrderCount  0.030491\n",
              "10                           CouponUsed  0.027993\n",
              "11              PreferedOrderCat_Mobile  0.025038\n",
              "12                             CityTier  0.022540\n",
              "13                 MaritalStatus_Single  0.022210\n",
              "14                       HourSpendOnApp  0.022042\n",
              "15                MaritalStatus_Married  0.014756\n",
              "16              PreferredPaymentMode_CC  0.014146\n",
              "17                          Gender_Male  0.013646\n",
              "18             PreferredPaymentMode_COD  0.013407\n",
              "19                        Gender_Female  0.013375\n",
              "20    PreferredLoginDevice_Mobile Phone  0.013342\n",
              "21      PreferredPaymentMode_Debit Card  0.013168\n",
              "22        PreferredLoginDevice_Computer  0.012468\n",
              "23  PreferedOrderCat_Laptop & Accessory  0.012221\n",
              "24        PreferredPaymentMode_E wallet  0.009714\n",
              "25             PreferedOrderCat_Fashion  0.007797\n",
              "26             PreferredPaymentMode_UPI  0.007012\n",
              "27               MaritalStatus_Divorced  0.006161\n",
              "28             PreferedOrderCat_Grocery  0.002186\n",
              "29              PreferedOrderCat_Others  0.001993"
            ],
            "text/html": [
              "\n",
              "  <div id=\"df-01c6c0e3-f6ba-41fa-9403-a74257b4d0a2\">\n",
              "    <div class=\"colab-df-container\">\n",
              "      <div>\n",
              "<style scoped>\n",
              "    .dataframe tbody tr th:only-of-type {\n",
              "        vertical-align: middle;\n",
              "    }\n",
              "\n",
              "    .dataframe tbody tr th {\n",
              "        vertical-align: top;\n",
              "    }\n",
              "\n",
              "    .dataframe thead th {\n",
              "        text-align: right;\n",
              "    }\n",
              "</style>\n",
              "<table border=\"1\" class=\"dataframe\">\n",
              "  <thead>\n",
              "    <tr style=\"text-align: right;\">\n",
              "      <th></th>\n",
              "      <th>index</th>\n",
              "      <th>0</th>\n",
              "    </tr>\n",
              "  </thead>\n",
              "  <tbody>\n",
              "    <tr>\n",
              "      <th>0</th>\n",
              "      <td>Tenure</td>\n",
              "      <td>0.211367</td>\n",
              "    </tr>\n",
              "    <tr>\n",
              "      <th>1</th>\n",
              "      <td>CashbackAmount</td>\n",
              "      <td>0.083242</td>\n",
              "    </tr>\n",
              "    <tr>\n",
              "      <th>2</th>\n",
              "      <td>WarehouseToHome</td>\n",
              "      <td>0.071437</td>\n",
              "    </tr>\n",
              "    <tr>\n",
              "      <th>3</th>\n",
              "      <td>Complain</td>\n",
              "      <td>0.065197</td>\n",
              "    </tr>\n",
              "    <tr>\n",
              "      <th>4</th>\n",
              "      <td>DaySinceLastOrder</td>\n",
              "      <td>0.063695</td>\n",
              "    </tr>\n",
              "    <tr>\n",
              "      <th>5</th>\n",
              "      <td>NumberOfAddress</td>\n",
              "      <td>0.062297</td>\n",
              "    </tr>\n",
              "    <tr>\n",
              "      <th>6</th>\n",
              "      <td>OrderAmountHikeFromlastYear</td>\n",
              "      <td>0.053008</td>\n",
              "    </tr>\n",
              "    <tr>\n",
              "      <th>7</th>\n",
              "      <td>SatisfactionScore</td>\n",
              "      <td>0.048843</td>\n",
              "    </tr>\n",
              "    <tr>\n",
              "      <th>8</th>\n",
              "      <td>NumberOfDeviceRegistered</td>\n",
              "      <td>0.035211</td>\n",
              "    </tr>\n",
              "    <tr>\n",
              "      <th>9</th>\n",
              "      <td>OrderCount</td>\n",
              "      <td>0.030491</td>\n",
              "    </tr>\n",
              "    <tr>\n",
              "      <th>10</th>\n",
              "      <td>CouponUsed</td>\n",
              "      <td>0.027993</td>\n",
              "    </tr>\n",
              "    <tr>\n",
              "      <th>11</th>\n",
              "      <td>PreferedOrderCat_Mobile</td>\n",
              "      <td>0.025038</td>\n",
              "    </tr>\n",
              "    <tr>\n",
              "      <th>12</th>\n",
              "      <td>CityTier</td>\n",
              "      <td>0.022540</td>\n",
              "    </tr>\n",
              "    <tr>\n",
              "      <th>13</th>\n",
              "      <td>MaritalStatus_Single</td>\n",
              "      <td>0.022210</td>\n",
              "    </tr>\n",
              "    <tr>\n",
              "      <th>14</th>\n",
              "      <td>HourSpendOnApp</td>\n",
              "      <td>0.022042</td>\n",
              "    </tr>\n",
              "    <tr>\n",
              "      <th>15</th>\n",
              "      <td>MaritalStatus_Married</td>\n",
              "      <td>0.014756</td>\n",
              "    </tr>\n",
              "    <tr>\n",
              "      <th>16</th>\n",
              "      <td>PreferredPaymentMode_CC</td>\n",
              "      <td>0.014146</td>\n",
              "    </tr>\n",
              "    <tr>\n",
              "      <th>17</th>\n",
              "      <td>Gender_Male</td>\n",
              "      <td>0.013646</td>\n",
              "    </tr>\n",
              "    <tr>\n",
              "      <th>18</th>\n",
              "      <td>PreferredPaymentMode_COD</td>\n",
              "      <td>0.013407</td>\n",
              "    </tr>\n",
              "    <tr>\n",
              "      <th>19</th>\n",
              "      <td>Gender_Female</td>\n",
              "      <td>0.013375</td>\n",
              "    </tr>\n",
              "    <tr>\n",
              "      <th>20</th>\n",
              "      <td>PreferredLoginDevice_Mobile Phone</td>\n",
              "      <td>0.013342</td>\n",
              "    </tr>\n",
              "    <tr>\n",
              "      <th>21</th>\n",
              "      <td>PreferredPaymentMode_Debit Card</td>\n",
              "      <td>0.013168</td>\n",
              "    </tr>\n",
              "    <tr>\n",
              "      <th>22</th>\n",
              "      <td>PreferredLoginDevice_Computer</td>\n",
              "      <td>0.012468</td>\n",
              "    </tr>\n",
              "    <tr>\n",
              "      <th>23</th>\n",
              "      <td>PreferedOrderCat_Laptop &amp; Accessory</td>\n",
              "      <td>0.012221</td>\n",
              "    </tr>\n",
              "    <tr>\n",
              "      <th>24</th>\n",
              "      <td>PreferredPaymentMode_E wallet</td>\n",
              "      <td>0.009714</td>\n",
              "    </tr>\n",
              "    <tr>\n",
              "      <th>25</th>\n",
              "      <td>PreferedOrderCat_Fashion</td>\n",
              "      <td>0.007797</td>\n",
              "    </tr>\n",
              "    <tr>\n",
              "      <th>26</th>\n",
              "      <td>PreferredPaymentMode_UPI</td>\n",
              "      <td>0.007012</td>\n",
              "    </tr>\n",
              "    <tr>\n",
              "      <th>27</th>\n",
              "      <td>MaritalStatus_Divorced</td>\n",
              "      <td>0.006161</td>\n",
              "    </tr>\n",
              "    <tr>\n",
              "      <th>28</th>\n",
              "      <td>PreferedOrderCat_Grocery</td>\n",
              "      <td>0.002186</td>\n",
              "    </tr>\n",
              "    <tr>\n",
              "      <th>29</th>\n",
              "      <td>PreferedOrderCat_Others</td>\n",
              "      <td>0.001993</td>\n",
              "    </tr>\n",
              "  </tbody>\n",
              "</table>\n",
              "</div>\n",
              "      <button class=\"colab-df-convert\" onclick=\"convertToInteractive('df-01c6c0e3-f6ba-41fa-9403-a74257b4d0a2')\"\n",
              "              title=\"Convert this dataframe to an interactive table.\"\n",
              "              style=\"display:none;\">\n",
              "        \n",
              "  <svg xmlns=\"http://www.w3.org/2000/svg\" height=\"24px\"viewBox=\"0 0 24 24\"\n",
              "       width=\"24px\">\n",
              "    <path d=\"M0 0h24v24H0V0z\" fill=\"none\"/>\n",
              "    <path d=\"M18.56 5.44l.94 2.06.94-2.06 2.06-.94-2.06-.94-.94-2.06-.94 2.06-2.06.94zm-11 1L8.5 8.5l.94-2.06 2.06-.94-2.06-.94L8.5 2.5l-.94 2.06-2.06.94zm10 10l.94 2.06.94-2.06 2.06-.94-2.06-.94-.94-2.06-.94 2.06-2.06.94z\"/><path d=\"M17.41 7.96l-1.37-1.37c-.4-.4-.92-.59-1.43-.59-.52 0-1.04.2-1.43.59L10.3 9.45l-7.72 7.72c-.78.78-.78 2.05 0 2.83L4 21.41c.39.39.9.59 1.41.59.51 0 1.02-.2 1.41-.59l7.78-7.78 2.81-2.81c.8-.78.8-2.07 0-2.86zM5.41 20L4 18.59l7.72-7.72 1.47 1.35L5.41 20z\"/>\n",
              "  </svg>\n",
              "      </button>\n",
              "      \n",
              "  <style>\n",
              "    .colab-df-container {\n",
              "      display:flex;\n",
              "      flex-wrap:wrap;\n",
              "      gap: 12px;\n",
              "    }\n",
              "\n",
              "    .colab-df-convert {\n",
              "      background-color: #E8F0FE;\n",
              "      border: none;\n",
              "      border-radius: 50%;\n",
              "      cursor: pointer;\n",
              "      display: none;\n",
              "      fill: #1967D2;\n",
              "      height: 32px;\n",
              "      padding: 0 0 0 0;\n",
              "      width: 32px;\n",
              "    }\n",
              "\n",
              "    .colab-df-convert:hover {\n",
              "      background-color: #E2EBFA;\n",
              "      box-shadow: 0px 1px 2px rgba(60, 64, 67, 0.3), 0px 1px 3px 1px rgba(60, 64, 67, 0.15);\n",
              "      fill: #174EA6;\n",
              "    }\n",
              "\n",
              "    [theme=dark] .colab-df-convert {\n",
              "      background-color: #3B4455;\n",
              "      fill: #D2E3FC;\n",
              "    }\n",
              "\n",
              "    [theme=dark] .colab-df-convert:hover {\n",
              "      background-color: #434B5C;\n",
              "      box-shadow: 0px 1px 3px 1px rgba(0, 0, 0, 0.15);\n",
              "      filter: drop-shadow(0px 1px 2px rgba(0, 0, 0, 0.3));\n",
              "      fill: #FFFFFF;\n",
              "    }\n",
              "  </style>\n",
              "\n",
              "      <script>\n",
              "        const buttonEl =\n",
              "          document.querySelector('#df-01c6c0e3-f6ba-41fa-9403-a74257b4d0a2 button.colab-df-convert');\n",
              "        buttonEl.style.display =\n",
              "          google.colab.kernel.accessAllowed ? 'block' : 'none';\n",
              "\n",
              "        async function convertToInteractive(key) {\n",
              "          const element = document.querySelector('#df-01c6c0e3-f6ba-41fa-9403-a74257b4d0a2');\n",
              "          const dataTable =\n",
              "            await google.colab.kernel.invokeFunction('convertToInteractive',\n",
              "                                                     [key], {});\n",
              "          if (!dataTable) return;\n",
              "\n",
              "          const docLinkHtml = 'Like what you see? Visit the ' +\n",
              "            '<a target=\"_blank\" href=https://colab.research.google.com/notebooks/data_table.ipynb>data table notebook</a>'\n",
              "            + ' to learn more about interactive tables.';\n",
              "          element.innerHTML = '';\n",
              "          dataTable['output_type'] = 'display_data';\n",
              "          await google.colab.output.renderOutput(dataTable, element);\n",
              "          const docLink = document.createElement('div');\n",
              "          docLink.innerHTML = docLinkHtml;\n",
              "          element.appendChild(docLink);\n",
              "        }\n",
              "      </script>\n",
              "    </div>\n",
              "  </div>\n",
              "  "
            ]
          },
          "metadata": {},
          "execution_count": 137
        }
      ]
    },
    {
      "cell_type": "markdown",
      "source": [
        "Trying to extract the top20 features: "
      ],
      "metadata": {
        "id": "aOZp97depXdy"
      }
    },
    {
      "cell_type": "code",
      "source": [
        "top20_features = features.iloc[:20, :]['index'].tolist()"
      ],
      "metadata": {
        "id": "jGaBJSfHwMlS"
      },
      "execution_count": 138,
      "outputs": []
    },
    {
      "cell_type": "code",
      "source": [
        "top20_features"
      ],
      "metadata": {
        "colab": {
          "base_uri": "https://localhost:8080/"
        },
        "id": "T_Isfof4wYVp",
        "outputId": "96b464d2-c574-4123-bfa7-0260a75d11d4"
      },
      "execution_count": 139,
      "outputs": [
        {
          "output_type": "execute_result",
          "data": {
            "text/plain": [
              "['Tenure',\n",
              " 'CashbackAmount',\n",
              " 'WarehouseToHome',\n",
              " 'Complain',\n",
              " 'DaySinceLastOrder',\n",
              " 'NumberOfAddress',\n",
              " 'OrderAmountHikeFromlastYear',\n",
              " 'SatisfactionScore',\n",
              " 'NumberOfDeviceRegistered',\n",
              " 'OrderCount',\n",
              " 'CouponUsed',\n",
              " 'PreferedOrderCat_Mobile',\n",
              " 'CityTier',\n",
              " 'MaritalStatus_Single',\n",
              " 'HourSpendOnApp',\n",
              " 'MaritalStatus_Married',\n",
              " 'PreferredPaymentMode_CC',\n",
              " 'Gender_Male',\n",
              " 'PreferredPaymentMode_COD',\n",
              " 'Gender_Female']"
            ]
          },
          "metadata": {},
          "execution_count": 139
        }
      ]
    },
    {
      "cell_type": "code",
      "source": [
        "X_selected = x_train[top20_features]"
      ],
      "metadata": {
        "id": "m-gWJAp8wr_K"
      },
      "execution_count": 140,
      "outputs": []
    },
    {
      "cell_type": "code",
      "source": [
        "x_test_s = x_test[top20_features]"
      ],
      "metadata": {
        "id": "ruN8K5Tb10zy"
      },
      "execution_count": 141,
      "outputs": []
    },
    {
      "cell_type": "code",
      "source": [
        "X_selected.head()"
      ],
      "metadata": {
        "colab": {
          "base_uri": "https://localhost:8080/",
          "height": 270
        },
        "id": "7iz3eFYc1l0L",
        "outputId": "56e318a7-28ce-4526-8885-34031b2632a0"
      },
      "execution_count": 142,
      "outputs": [
        {
          "output_type": "execute_result",
          "data": {
            "text/plain": [
              "      Tenure  CashbackAmount  WarehouseToHome  Complain  DaySinceLastOrder  \\\n",
              "33      13.0           209.0             10.0       0.0               11.0   \n",
              "5467     2.0           161.0              8.0       0.0                3.0   \n",
              "5364    12.0           152.0             14.0       1.0                8.0   \n",
              "3136    15.0           187.0             17.0       0.0               11.0   \n",
              "3662     1.0           141.0              7.0       0.0                1.0   \n",
              "\n",
              "      NumberOfAddress  OrderAmountHikeFromlastYear  SatisfactionScore  \\\n",
              "33                8.0                         11.0                2.0   \n",
              "5467              3.0                         26.0                5.0   \n",
              "5364              4.0                         12.0                3.0   \n",
              "3136              9.0                         15.0                2.0   \n",
              "3662              3.0                         16.0                2.0   \n",
              "\n",
              "      NumberOfDeviceRegistered  OrderCount  CouponUsed  \\\n",
              "33                         4.0         2.0         2.0   \n",
              "5467                       4.0         2.0         2.0   \n",
              "5364                       4.0         8.0         2.0   \n",
              "3136                       4.0         2.0         1.0   \n",
              "3662                       4.0         2.0         2.0   \n",
              "\n",
              "      PreferedOrderCat_Mobile  CityTier  MaritalStatus_Single  HourSpendOnApp  \\\n",
              "33                        0.0       3.0                   0.0             3.0   \n",
              "5467                      1.0       1.0                   0.0             4.0   \n",
              "5364                      1.0       3.0                   0.0             4.0   \n",
              "3136                      0.0       3.0                   1.0             3.0   \n",
              "3662                      1.0       1.0                   1.0             4.0   \n",
              "\n",
              "      MaritalStatus_Married  PreferredPaymentMode_CC  Gender_Male  \\\n",
              "33                      0.0                      0.0          1.0   \n",
              "5467                    1.0                      1.0          0.0   \n",
              "5364                    1.0                      1.0          0.0   \n",
              "3136                    0.0                      0.0          1.0   \n",
              "3662                    0.0                      0.0          0.0   \n",
              "\n",
              "      PreferredPaymentMode_COD  Gender_Female  \n",
              "33                         0.0            0.0  \n",
              "5467                       0.0            1.0  \n",
              "5364                       0.0            1.0  \n",
              "3136                       0.0            0.0  \n",
              "3662                       0.0            1.0  "
            ],
            "text/html": [
              "\n",
              "  <div id=\"df-8a904510-a79e-4dc4-8816-a04590c16389\">\n",
              "    <div class=\"colab-df-container\">\n",
              "      <div>\n",
              "<style scoped>\n",
              "    .dataframe tbody tr th:only-of-type {\n",
              "        vertical-align: middle;\n",
              "    }\n",
              "\n",
              "    .dataframe tbody tr th {\n",
              "        vertical-align: top;\n",
              "    }\n",
              "\n",
              "    .dataframe thead th {\n",
              "        text-align: right;\n",
              "    }\n",
              "</style>\n",
              "<table border=\"1\" class=\"dataframe\">\n",
              "  <thead>\n",
              "    <tr style=\"text-align: right;\">\n",
              "      <th></th>\n",
              "      <th>Tenure</th>\n",
              "      <th>CashbackAmount</th>\n",
              "      <th>WarehouseToHome</th>\n",
              "      <th>Complain</th>\n",
              "      <th>DaySinceLastOrder</th>\n",
              "      <th>NumberOfAddress</th>\n",
              "      <th>OrderAmountHikeFromlastYear</th>\n",
              "      <th>SatisfactionScore</th>\n",
              "      <th>NumberOfDeviceRegistered</th>\n",
              "      <th>OrderCount</th>\n",
              "      <th>CouponUsed</th>\n",
              "      <th>PreferedOrderCat_Mobile</th>\n",
              "      <th>CityTier</th>\n",
              "      <th>MaritalStatus_Single</th>\n",
              "      <th>HourSpendOnApp</th>\n",
              "      <th>MaritalStatus_Married</th>\n",
              "      <th>PreferredPaymentMode_CC</th>\n",
              "      <th>Gender_Male</th>\n",
              "      <th>PreferredPaymentMode_COD</th>\n",
              "      <th>Gender_Female</th>\n",
              "    </tr>\n",
              "  </thead>\n",
              "  <tbody>\n",
              "    <tr>\n",
              "      <th>33</th>\n",
              "      <td>13.0</td>\n",
              "      <td>209.0</td>\n",
              "      <td>10.0</td>\n",
              "      <td>0.0</td>\n",
              "      <td>11.0</td>\n",
              "      <td>8.0</td>\n",
              "      <td>11.0</td>\n",
              "      <td>2.0</td>\n",
              "      <td>4.0</td>\n",
              "      <td>2.0</td>\n",
              "      <td>2.0</td>\n",
              "      <td>0.0</td>\n",
              "      <td>3.0</td>\n",
              "      <td>0.0</td>\n",
              "      <td>3.0</td>\n",
              "      <td>0.0</td>\n",
              "      <td>0.0</td>\n",
              "      <td>1.0</td>\n",
              "      <td>0.0</td>\n",
              "      <td>0.0</td>\n",
              "    </tr>\n",
              "    <tr>\n",
              "      <th>5467</th>\n",
              "      <td>2.0</td>\n",
              "      <td>161.0</td>\n",
              "      <td>8.0</td>\n",
              "      <td>0.0</td>\n",
              "      <td>3.0</td>\n",
              "      <td>3.0</td>\n",
              "      <td>26.0</td>\n",
              "      <td>5.0</td>\n",
              "      <td>4.0</td>\n",
              "      <td>2.0</td>\n",
              "      <td>2.0</td>\n",
              "      <td>1.0</td>\n",
              "      <td>1.0</td>\n",
              "      <td>0.0</td>\n",
              "      <td>4.0</td>\n",
              "      <td>1.0</td>\n",
              "      <td>1.0</td>\n",
              "      <td>0.0</td>\n",
              "      <td>0.0</td>\n",
              "      <td>1.0</td>\n",
              "    </tr>\n",
              "    <tr>\n",
              "      <th>5364</th>\n",
              "      <td>12.0</td>\n",
              "      <td>152.0</td>\n",
              "      <td>14.0</td>\n",
              "      <td>1.0</td>\n",
              "      <td>8.0</td>\n",
              "      <td>4.0</td>\n",
              "      <td>12.0</td>\n",
              "      <td>3.0</td>\n",
              "      <td>4.0</td>\n",
              "      <td>8.0</td>\n",
              "      <td>2.0</td>\n",
              "      <td>1.0</td>\n",
              "      <td>3.0</td>\n",
              "      <td>0.0</td>\n",
              "      <td>4.0</td>\n",
              "      <td>1.0</td>\n",
              "      <td>1.0</td>\n",
              "      <td>0.0</td>\n",
              "      <td>0.0</td>\n",
              "      <td>1.0</td>\n",
              "    </tr>\n",
              "    <tr>\n",
              "      <th>3136</th>\n",
              "      <td>15.0</td>\n",
              "      <td>187.0</td>\n",
              "      <td>17.0</td>\n",
              "      <td>0.0</td>\n",
              "      <td>11.0</td>\n",
              "      <td>9.0</td>\n",
              "      <td>15.0</td>\n",
              "      <td>2.0</td>\n",
              "      <td>4.0</td>\n",
              "      <td>2.0</td>\n",
              "      <td>1.0</td>\n",
              "      <td>0.0</td>\n",
              "      <td>3.0</td>\n",
              "      <td>1.0</td>\n",
              "      <td>3.0</td>\n",
              "      <td>0.0</td>\n",
              "      <td>0.0</td>\n",
              "      <td>1.0</td>\n",
              "      <td>0.0</td>\n",
              "      <td>0.0</td>\n",
              "    </tr>\n",
              "    <tr>\n",
              "      <th>3662</th>\n",
              "      <td>1.0</td>\n",
              "      <td>141.0</td>\n",
              "      <td>7.0</td>\n",
              "      <td>0.0</td>\n",
              "      <td>1.0</td>\n",
              "      <td>3.0</td>\n",
              "      <td>16.0</td>\n",
              "      <td>2.0</td>\n",
              "      <td>4.0</td>\n",
              "      <td>2.0</td>\n",
              "      <td>2.0</td>\n",
              "      <td>1.0</td>\n",
              "      <td>1.0</td>\n",
              "      <td>1.0</td>\n",
              "      <td>4.0</td>\n",
              "      <td>0.0</td>\n",
              "      <td>0.0</td>\n",
              "      <td>0.0</td>\n",
              "      <td>0.0</td>\n",
              "      <td>1.0</td>\n",
              "    </tr>\n",
              "  </tbody>\n",
              "</table>\n",
              "</div>\n",
              "      <button class=\"colab-df-convert\" onclick=\"convertToInteractive('df-8a904510-a79e-4dc4-8816-a04590c16389')\"\n",
              "              title=\"Convert this dataframe to an interactive table.\"\n",
              "              style=\"display:none;\">\n",
              "        \n",
              "  <svg xmlns=\"http://www.w3.org/2000/svg\" height=\"24px\"viewBox=\"0 0 24 24\"\n",
              "       width=\"24px\">\n",
              "    <path d=\"M0 0h24v24H0V0z\" fill=\"none\"/>\n",
              "    <path d=\"M18.56 5.44l.94 2.06.94-2.06 2.06-.94-2.06-.94-.94-2.06-.94 2.06-2.06.94zm-11 1L8.5 8.5l.94-2.06 2.06-.94-2.06-.94L8.5 2.5l-.94 2.06-2.06.94zm10 10l.94 2.06.94-2.06 2.06-.94-2.06-.94-.94-2.06-.94 2.06-2.06.94z\"/><path d=\"M17.41 7.96l-1.37-1.37c-.4-.4-.92-.59-1.43-.59-.52 0-1.04.2-1.43.59L10.3 9.45l-7.72 7.72c-.78.78-.78 2.05 0 2.83L4 21.41c.39.39.9.59 1.41.59.51 0 1.02-.2 1.41-.59l7.78-7.78 2.81-2.81c.8-.78.8-2.07 0-2.86zM5.41 20L4 18.59l7.72-7.72 1.47 1.35L5.41 20z\"/>\n",
              "  </svg>\n",
              "      </button>\n",
              "      \n",
              "  <style>\n",
              "    .colab-df-container {\n",
              "      display:flex;\n",
              "      flex-wrap:wrap;\n",
              "      gap: 12px;\n",
              "    }\n",
              "\n",
              "    .colab-df-convert {\n",
              "      background-color: #E8F0FE;\n",
              "      border: none;\n",
              "      border-radius: 50%;\n",
              "      cursor: pointer;\n",
              "      display: none;\n",
              "      fill: #1967D2;\n",
              "      height: 32px;\n",
              "      padding: 0 0 0 0;\n",
              "      width: 32px;\n",
              "    }\n",
              "\n",
              "    .colab-df-convert:hover {\n",
              "      background-color: #E2EBFA;\n",
              "      box-shadow: 0px 1px 2px rgba(60, 64, 67, 0.3), 0px 1px 3px 1px rgba(60, 64, 67, 0.15);\n",
              "      fill: #174EA6;\n",
              "    }\n",
              "\n",
              "    [theme=dark] .colab-df-convert {\n",
              "      background-color: #3B4455;\n",
              "      fill: #D2E3FC;\n",
              "    }\n",
              "\n",
              "    [theme=dark] .colab-df-convert:hover {\n",
              "      background-color: #434B5C;\n",
              "      box-shadow: 0px 1px 3px 1px rgba(0, 0, 0, 0.15);\n",
              "      filter: drop-shadow(0px 1px 2px rgba(0, 0, 0, 0.3));\n",
              "      fill: #FFFFFF;\n",
              "    }\n",
              "  </style>\n",
              "\n",
              "      <script>\n",
              "        const buttonEl =\n",
              "          document.querySelector('#df-8a904510-a79e-4dc4-8816-a04590c16389 button.colab-df-convert');\n",
              "        buttonEl.style.display =\n",
              "          google.colab.kernel.accessAllowed ? 'block' : 'none';\n",
              "\n",
              "        async function convertToInteractive(key) {\n",
              "          const element = document.querySelector('#df-8a904510-a79e-4dc4-8816-a04590c16389');\n",
              "          const dataTable =\n",
              "            await google.colab.kernel.invokeFunction('convertToInteractive',\n",
              "                                                     [key], {});\n",
              "          if (!dataTable) return;\n",
              "\n",
              "          const docLinkHtml = 'Like what you see? Visit the ' +\n",
              "            '<a target=\"_blank\" href=https://colab.research.google.com/notebooks/data_table.ipynb>data table notebook</a>'\n",
              "            + ' to learn more about interactive tables.';\n",
              "          element.innerHTML = '';\n",
              "          dataTable['output_type'] = 'display_data';\n",
              "          await google.colab.output.renderOutput(dataTable, element);\n",
              "          const docLink = document.createElement('div');\n",
              "          docLink.innerHTML = docLinkHtml;\n",
              "          element.appendChild(docLink);\n",
              "        }\n",
              "      </script>\n",
              "    </div>\n",
              "  </div>\n",
              "  "
            ]
          },
          "metadata": {},
          "execution_count": 142
        }
      ]
    },
    {
      "cell_type": "code",
      "source": [],
      "metadata": {
        "id": "lG6ZYCTo1mAY"
      },
      "execution_count": 142,
      "outputs": []
    },
    {
      "cell_type": "markdown",
      "source": [
        "Training the model with these Top20 features:"
      ],
      "metadata": {
        "id": "TUeYAl1ZptyM"
      }
    },
    {
      "cell_type": "code",
      "source": [
        "from sklearn.ensemble import RandomForestClassifier\n",
        "clf = RandomForestClassifier(random_state = 10)\n",
        "clf.fit(X_selected, y_train)\n",
        "y_pred6 = clf.predict(x_test_s)\n",
        "print('accuracy ' ,accuracy_score(y_test, y_pred6) * 100)\n",
        "print('confusion matrix \\n', confusion_matrix(y_test, y_pred6))\n",
        "print('classification report \\n', classification_report(y_test, y_pred6))"
      ],
      "metadata": {
        "colab": {
          "base_uri": "https://localhost:8080/"
        },
        "outputId": "accf37aa-432c-4193-8204-62ed3e4302f1",
        "id": "QOA9rI7Lw5E6"
      },
      "execution_count": 143,
      "outputs": [
        {
          "output_type": "stream",
          "name": "stdout",
          "text": [
            "accuracy  95.32267613972765\n",
            "confusion matrix \n",
            " [[1366   15]\n",
            " [  64  244]]\n",
            "classification report \n",
            "               precision    recall  f1-score   support\n",
            "\n",
            "         0.0       0.96      0.99      0.97      1381\n",
            "         1.0       0.94      0.79      0.86       308\n",
            "\n",
            "    accuracy                           0.95      1689\n",
            "   macro avg       0.95      0.89      0.92      1689\n",
            "weighted avg       0.95      0.95      0.95      1689\n",
            "\n"
          ]
        }
      ]
    },
    {
      "cell_type": "code",
      "source": [],
      "metadata": {
        "id": "McYP64vskTqz"
      },
      "execution_count": 143,
      "outputs": []
    },
    {
      "cell_type": "code",
      "source": [],
      "metadata": {
        "id": "HIFz-dALkbR4"
      },
      "execution_count": 143,
      "outputs": []
    },
    {
      "cell_type": "code",
      "source": [],
      "metadata": {
        "id": "l5N3YafwkmDo"
      },
      "execution_count": 143,
      "outputs": []
    },
    {
      "cell_type": "code",
      "source": [],
      "metadata": {
        "id": "9J_QWTTCkpYZ"
      },
      "execution_count": 143,
      "outputs": []
    },
    {
      "cell_type": "code",
      "source": [],
      "metadata": {
        "id": "V4xme_K3oJAP"
      },
      "execution_count": 143,
      "outputs": []
    },
    {
      "cell_type": "code",
      "source": [],
      "metadata": {
        "id": "sKs4YIDYoJDp"
      },
      "execution_count": 143,
      "outputs": []
    },
    {
      "cell_type": "code",
      "source": [
        "# from sklearn.metrics import accuracy_score\n",
        "# from sklearn.metrics import classification_report"
      ],
      "metadata": {
        "id": "aTtub9N0lPQg"
      },
      "execution_count": 144,
      "outputs": []
    },
    {
      "cell_type": "code",
      "source": [
        "# from sklearn.linear_model import LogisticRegression\n",
        "# lr = LogisticRegression()\n",
        "# lr.fit(x_train_sm, y_train_sm)\n",
        "# y_pred1 = lr.predict(x_test)\n",
        "# print('accurancy : ', accuracy_score(y_test, y_pred1) * 100)\n",
        "# print('confusion_matrix \\n', confusion_matrix(y_test, y_pred1))\n",
        "# print('classification report \\n', classification_report(y_test, y_pred1))"
      ],
      "metadata": {
        "id": "H6LLi08XlPoG"
      },
      "execution_count": 145,
      "outputs": []
    },
    {
      "cell_type": "code",
      "source": [
        "# from sklearn.ensemble import RandomForestClassifier\n",
        "# clf = RandomForestClassifier()\n",
        "# clf.fit(x_train_sm, y_train_sm)\n",
        "# y_pred2 = clf.predict(x_test)\n",
        "# print('accuracy ' ,accuracy_score(y_test, y_pred2) * 100)\n",
        "# print('confusion matrix \\n', confusion_matrix(y_test, y_pred2))\n",
        "# print('classification report \\n', classification_report(y_test, y_pred2))"
      ],
      "metadata": {
        "id": "7e492evqlwBK"
      },
      "execution_count": 146,
      "outputs": []
    },
    {
      "cell_type": "code",
      "source": [
        "# from sklearn.tree import DecisionTreeClassifier\n",
        "# clf_gini = DecisionTreeClassifier(criterion = \"gini\", random_state = 100, max_depth=3, min_samples_leaf = 5)\n",
        "# clf_gini.fit(x_train_sm, y_train_sm)\n",
        "# y_pred3 = clf_gini.predict(x_test)\n",
        "# print('confusion matrix : \\n', confusion_matrix(y_test, y_pred3))\n",
        "# print(classification_report(y_test, y_pred3))"
      ],
      "metadata": {
        "id": "DF3Y_ewnmHEF"
      },
      "execution_count": 147,
      "outputs": []
    },
    {
      "cell_type": "code",
      "source": [
        "# from sklearn.ensemble import AdaBoostClassifier\n",
        "# ada_clf = AdaBoostClassifier(n_estimators = 100)\n",
        "# ada_clf.fit(x_train_sm, y_train_sm)\n",
        "# y_pred4 = ada_clf.predict(x_test)\n",
        "# print('confusion matrix \\n', confusion_matrix(y_test, y_pred4))\n",
        "# print(classification_report(y_test, y_pred4))"
      ],
      "metadata": {
        "id": "GjsJq4gpma5-"
      },
      "execution_count": 148,
      "outputs": []
    },
    {
      "cell_type": "code",
      "source": [],
      "metadata": {
        "id": "Afu-87c6zABF"
      },
      "execution_count": 148,
      "outputs": []
    },
    {
      "cell_type": "code",
      "source": [],
      "metadata": {
        "id": "3ZhPSfUFma5-"
      },
      "execution_count": 148,
      "outputs": []
    },
    {
      "cell_type": "code",
      "source": [],
      "metadata": {
        "id": "MkI3zzTK2Cmq"
      },
      "execution_count": 148,
      "outputs": []
    },
    {
      "cell_type": "code",
      "source": [],
      "metadata": {
        "id": "lF-aXXuU2Cp8"
      },
      "execution_count": 148,
      "outputs": []
    },
    {
      "cell_type": "code",
      "source": [
        "# accuracy  95.44108940201302\n",
        "# confusion matrix \n",
        "#  [[1365   16]\n",
        "#  [  61  247]]\n",
        "# classification report \n",
        "#                precision    recall  f1-score   support\n",
        "\n",
        "#          0.0       0.96      0.99      0.97      1381\n",
        "#          1.0       0.94      0.80      0.87       308\n",
        "\n",
        "#     accuracy                           0.95      1689\n",
        "#    macro avg       0.95      0.90      0.92      1689\n",
        "# weighted avg       0.95      0.95      0.95      1689"
      ],
      "metadata": {
        "id": "0IwCaugp2Csz"
      },
      "execution_count": 149,
      "outputs": []
    }
  ]
}